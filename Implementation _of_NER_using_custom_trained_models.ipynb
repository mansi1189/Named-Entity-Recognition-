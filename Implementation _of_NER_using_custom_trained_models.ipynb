{
  "nbformat": 4,
  "nbformat_minor": 0,
  "metadata": {
    "colab": {
      "name": "Copy of nn_CoNLL.ipynb",
      "version": "0.3.2",
      "provenance": [],
      "collapsed_sections": [],
      "toc_visible": true,
      "include_colab_link": true
    },
    "language_info": {
      "codemirror_mode": {
        "name": "ipython",
        "version": 3
      },
      "file_extension": ".py",
      "mimetype": "text/x-python",
      "name": "python",
      "nbconvert_exporter": "python",
      "pygments_lexer": "ipython3",
      "version": "3.6.7"
    },
    "kernelspec": {
      "name": "python3",
      "display_name": "Python 3"
    },
    "accelerator": "GPU"
  },
  "cells": [
    {
      "cell_type": "markdown",
      "metadata": {
        "id": "view-in-github",
        "colab_type": "text"
      },
      "source": [
        "<a href=\"https://colab.research.google.com/github/mansi1189/Natural-Language-Processing/blob/master/Implementation%20_of_NER_using_custom_trained_models.ipynb\" target=\"_parent\"><img src=\"https://colab.research.google.com/assets/colab-badge.svg\" alt=\"Open In Colab\"/></a>"
      ]
    },
    {
      "cell_type": "code",
      "metadata": {
        "id": "l9zksQqS3nP7",
        "colab_type": "code",
        "colab": {}
      },
      "source": [
        ""
      ],
      "execution_count": 0,
      "outputs": []
    },
    {
      "cell_type": "code",
      "metadata": {
        "id": "hKYsx261CHNh",
        "colab_type": "code",
        "outputId": "06d14dbc-0b37-4d2f-8c41-3467f69c8cb7",
        "colab": {
          "base_uri": "https://localhost:8080/",
          "height": 55
        }
      },
      "source": [
        "!git clone https://github.com/mxhofer/Named-Entity-Recognition-BidirectionalLSTM-CNN-CoNLL"
      ],
      "execution_count": 0,
      "outputs": [
        {
          "output_type": "stream",
          "text": [
            "fatal: destination path 'Named-Entity-Recognition-BidirectionalLSTM-CNN-CoNLL' already exists and is not an empty directory.\n"
          ],
          "name": "stdout"
        }
      ]
    },
    {
      "cell_type": "code",
      "metadata": {
        "id": "rVsS05HSUmi_",
        "colab_type": "code",
        "colab": {}
      },
      "source": [
        "import os \n",
        "os.chdir('Named-Entity-Recognition-BidirectionalLSTM-CNN-CoNLL')"
      ],
      "execution_count": 0,
      "outputs": []
    },
    {
      "cell_type": "code",
      "metadata": {
        "id": "DZp-tEWs9PNB",
        "colab_type": "code",
        "colab": {}
      },
      "source": [
        "%load validation.py"
      ],
      "execution_count": 0,
      "outputs": []
    },
    {
      "cell_type": "code",
      "metadata": {
        "id": "UN_QlcR-CYnR",
        "colab_type": "code",
        "colab": {}
      },
      "source": [
        "%load prepro.py"
      ],
      "execution_count": 0,
      "outputs": []
    },
    {
      "cell_type": "code",
      "metadata": {
        "id": "uM-safVhCiks",
        "colab_type": "code",
        "outputId": "2da93570-556d-4602-83bb-490353ba3855",
        "colab": {
          "base_uri": "https://localhost:8080/",
          "height": 183
        }
      },
      "source": [
        ""
      ],
      "execution_count": 0,
      "outputs": [
        {
          "output_type": "error",
          "ename": "FileNotFoundError",
          "evalue": "ignored",
          "traceback": [
            "\u001b[0;31m---------------------------------------------------------------------------\u001b[0m",
            "\u001b[0;31mFileNotFoundError\u001b[0m                         Traceback (most recent call last)",
            "\u001b[0;32m<ipython-input-33-36d0fe425692>\u001b[0m in \u001b[0;36m<module>\u001b[0;34m()\u001b[0m\n\u001b[1;32m      1\u001b[0m \u001b[0;32mimport\u001b[0m \u001b[0mos\u001b[0m\u001b[0;34m\u001b[0m\u001b[0;34m\u001b[0m\u001b[0m\n\u001b[0;32m----> 2\u001b[0;31m \u001b[0mos\u001b[0m\u001b[0;34m.\u001b[0m\u001b[0mchdir\u001b[0m\u001b[0;34m(\u001b[0m\u001b[0;34m'/Named-Entity-Recognition-BidirectionalLSTM-CNN-CoNLL'\u001b[0m\u001b[0;34m)\u001b[0m\u001b[0;34m\u001b[0m\u001b[0;34m\u001b[0m\u001b[0m\n\u001b[0m",
            "\u001b[0;31mFileNotFoundError\u001b[0m: [Errno 2] No such file or directory: '/Named-Entity-Recognition-BidirectionalLSTM-CNN-CoNLL'"
          ]
        }
      ]
    },
    {
      "cell_type": "code",
      "metadata": {
        "id": "EBCCDUP_S7Dw",
        "colab_type": "code",
        "colab": {}
      },
      "source": [
        "os.chdir(\"..\")"
      ],
      "execution_count": 0,
      "outputs": []
    },
    {
      "cell_type": "code",
      "metadata": {
        "id": "-uf_b_5jDQSa",
        "colab_type": "code",
        "outputId": "3cfc06c5-caf3-4132-b55d-e16eb7f0a26e",
        "colab": {
          "base_uri": "https://localhost:8080/",
          "height": 52
        }
      },
      "source": [
        "!ls"
      ],
      "execution_count": 0,
      "outputs": [
        {
          "output_type": "stream",
          "text": [
            "data\t    LICENSE    nn_CoNLL.ipynb  README.md\n",
            "embeddings  model.png  prepro.py       validation.py\n"
          ],
          "name": "stdout"
        }
      ]
    },
    {
      "cell_type": "code",
      "metadata": {
        "id": "f-98YAdQCWWV",
        "colab_type": "code",
        "outputId": "cd3be081-8c0e-412a-aa0b-9384113e249f",
        "colab": {
          "base_uri": "https://localhost:8080/",
          "height": 35
        }
      },
      "source": [
        "\"\"\"Load packages\"\"\"\n",
        "\n",
        "import numpy as np\n",
        "\n",
        "from validation import compute_f1\n",
        "\n",
        "from keras.models import Model, load_model\n",
        "from keras.layers import TimeDistributed, Conv1D, Dense, Embedding, Input, Dropout, LSTM, Bidirectional, MaxPooling1D, \\\n",
        "    Flatten, concatenate\n",
        "from prepro import readfile, createBatches, createMatrices, iterate_minibatches, addCharInformation, padding\n",
        "from keras.utils import plot_model\n",
        "from keras.initializers import RandomUniform\n",
        "from keras.optimizers import SGD, Nadam"
      ],
      "execution_count": 0,
      "outputs": [
        {
          "output_type": "stream",
          "text": [
            "Using TensorFlow backend.\n"
          ],
          "name": "stderr"
        }
      ]
    },
    {
      "cell_type": "code",
      "metadata": {
        "id": "5lnrhJTq3nP_",
        "colab_type": "code",
        "outputId": "6985cdb1-c2f4-4f33-ac6f-61e96aff28a5",
        "colab": {
          "base_uri": "https://localhost:8080/",
          "height": 35
        }
      },
      "source": [
        "\"\"\"Initialise class\"\"\"\n",
        "\n",
        "class CNN_BLSTM(object):\n",
        "    \n",
        "    def __init__(self, EPOCHS, DROPOUT, DROPOUT_RECURRENT, LSTM_STATE_SIZE, CONV_SIZE, LEARNING_RATE, OPTIMIZER):\n",
        "        \n",
        "        self.epochs = EPOCHS\n",
        "        self.dropout = DROPOUT\n",
        "        self.dropout_recurrent = DROPOUT_RECURRENT\n",
        "        self.lstm_state_size = LSTM_STATE_SIZE\n",
        "        self.conv_size = CONV_SIZE\n",
        "        self.learning_rate = LEARNING_RATE\n",
        "        self.optimizer = OPTIMIZER\n",
        "        \n",
        "    def loadData(self):\n",
        "        \"\"\"Load data and add character information\"\"\"\n",
        "        self.trainSentences = readfile(\"data/train.txt\")\n",
        "        self.devSentences = readfile(\"data/dev.txt\")\n",
        "        self.testSentences = readfile(\"data/test.txt\")\n",
        "\n",
        "    def addCharInfo(self):\n",
        "        # format: [['EU', ['E', 'U'], 'B-ORG\\n'], ...]\n",
        "        self.trainSentences = addCharInformation(self.trainSentences)\n",
        "        self.devSentences = addCharInformation(self.devSentences)\n",
        "        self.testSentences = addCharInformation(self.testSentences)\n",
        "\n",
        "    def embed(self):\n",
        "        \"\"\"Create word- and character-level embeddings\"\"\"\n",
        "\n",
        "        labelSet = set()\n",
        "        words = {}\n",
        "\n",
        "        # unique words and labels in data  \n",
        "        for dataset in [self.trainSentences, self.devSentences, self.testSentences]:\n",
        "            for sentence in dataset:\n",
        "                for token, char, label in sentence:\n",
        "                    # token ... token, char ... list of chars, label ... BIO labels   \n",
        "                    labelSet.add(label)\n",
        "                    words[token.lower()] = True\n",
        "\n",
        "        # mapping for labels\n",
        "        self.label2Idx = {}\n",
        "        for label in labelSet:\n",
        "            self.label2Idx[label] = len(self.label2Idx)\n",
        "\n",
        "        # mapping for token cases\n",
        "        case2Idx = {'numeric': 0, 'allLower': 1, 'allUpper': 2, 'initialUpper': 3, 'other': 4, 'mainly_numeric': 5,\n",
        "                    'contains_digit': 6, 'PADDING_TOKEN': 7}\n",
        "        self.caseEmbeddings = np.identity(len(case2Idx), dtype='float32')  # identity matrix used \n",
        "\n",
        "        # read GLoVE word embeddings\n",
        "        word2Idx = {}\n",
        "        self.wordEmbeddings = []\n",
        "\n",
        "        fEmbeddings = open(\"embeddings/glove.6B.50d.txt\", encoding=\"utf-8\")\n",
        "\n",
        "        # loop through each word in embeddings\n",
        "        for line in fEmbeddings:\n",
        "            split = line.strip().split(\" \")\n",
        "            word = split[0]  # embedding word entry\n",
        "\n",
        "            if len(word2Idx) == 0:  # add padding+unknown\n",
        "                word2Idx[\"PADDING_TOKEN\"] = len(word2Idx)\n",
        "                vector = np.zeros(len(split) - 1)  # zero vector for 'PADDING' word\n",
        "                self.wordEmbeddings.append(vector)\n",
        "\n",
        "                word2Idx[\"UNKNOWN_TOKEN\"] = len(word2Idx)\n",
        "                vector = np.random.uniform(-0.25, 0.25, len(split) - 1)\n",
        "                self.wordEmbeddings.append(vector)\n",
        "\n",
        "            if split[0].lower() in words:\n",
        "                vector = np.array([float(num) for num in split[1:]])\n",
        "                self.wordEmbeddings.append(vector)  # word embedding vector\n",
        "                word2Idx[split[0]] = len(word2Idx)  # corresponding word dict\n",
        "\n",
        "        self.wordEmbeddings = np.array(self.wordEmbeddings)\n",
        "\n",
        "        # dictionary of all possible characters\n",
        "        self.char2Idx = {\"PADDING\": 0, \"UNKNOWN\": 1}\n",
        "        for c in \" 0123456789abcdefghijklmnopqrstuvwxyzABCDEFGHIJKLMNOPQRSTUVWXYZ.,-_()[]{}!?:;#'\\\"/\\\\%$`&=*+@^~|<>\":\n",
        "            self.char2Idx[c] = len(self.char2Idx)\n",
        "\n",
        "        # format: [[wordindices], [caseindices], [padded word indices], [label indices]]\n",
        "        self.train_set = padding(createMatrices(self.trainSentences, word2Idx, self.label2Idx, case2Idx, self.char2Idx))\n",
        "        self.dev_set = padding(createMatrices(self.devSentences, word2Idx, self.label2Idx, case2Idx, self.char2Idx))\n",
        "        self.test_set = padding(createMatrices(self.testSentences, word2Idx, self.label2Idx, case2Idx, self.char2Idx))\n",
        "\n",
        "        self.idx2Label = {v: k for k, v in self.label2Idx.items()}\n",
        "        \n",
        "    def createBatches(self):\n",
        "        \"\"\"Create batches\"\"\"\n",
        "        self.train_batch, self.train_batch_len = createBatches(self.train_set)\n",
        "        self.dev_batch, self.dev_batch_len = createBatches(self.dev_set)\n",
        "        self.test_batch, self.test_batch_len = createBatches(self.test_set)\n",
        "        \n",
        "    def tag_dataset(self, dataset, model):\n",
        "        \"\"\"Tag data with numerical values\"\"\"\n",
        "        correctLabels = []\n",
        "        predLabels = []\n",
        "        for i, data in enumerate(dataset):\n",
        "            tokens, casing, char, labels = data\n",
        "            tokens = np.asarray([tokens])\n",
        "            casing = np.asarray([casing])\n",
        "            char = np.asarray([char])\n",
        "            pred = model.predict([tokens, casing, char], verbose=False)[0]\n",
        "            pred = pred.argmax(axis=-1)  # Predict the classes\n",
        "            correctLabels.append(labels)\n",
        "            predLabels.append(pred)\n",
        "        return predLabels, correctLabels\n",
        "    \n",
        "    def buildModel(self):\n",
        "        \"\"\"Model layers\"\"\"\n",
        "\n",
        "        # character input\n",
        "        character_input = Input(shape=(None, 52,), name=\"Character_input\")\n",
        "        embed_char_out = TimeDistributed(\n",
        "            Embedding(len(self.char2Idx), 30, embeddings_initializer=RandomUniform(minval=-0.5, maxval=0.5)), name=\"Character_embedding\")(\n",
        "            character_input)\n",
        "\n",
        "        dropout = Dropout(self.dropout)(embed_char_out)\n",
        "\n",
        "        # CNN\n",
        "        conv1d_out = TimeDistributed(Conv1D(kernel_size=self.conv_size, filters=30, padding='same', activation='tanh', strides=1), name=\"Convolution\")(dropout)\n",
        "        maxpool_out = TimeDistributed(MaxPooling1D(52), name=\"Maxpool\")(conv1d_out)\n",
        "        char = TimeDistributed(Flatten(), name=\"Flatten\")(maxpool_out)\n",
        "        char = Dropout(self.dropout)(char)\n",
        "\n",
        "        # word-level input\n",
        "        words_input = Input(shape=(None,), dtype='int32', name='words_input')\n",
        "        words = Embedding(input_dim=self.wordEmbeddings.shape[0], output_dim=self.wordEmbeddings.shape[1], weights=[self.wordEmbeddings],\n",
        "                          trainable=False)(words_input)\n",
        "\n",
        "        # case-info input\n",
        "        casing_input = Input(shape=(None,), dtype='int32', name='casing_input')\n",
        "        casing = Embedding(output_dim=self.caseEmbeddings.shape[1], input_dim=self.caseEmbeddings.shape[0], weights=[self.caseEmbeddings],\n",
        "                           trainable=False)(casing_input)\n",
        "\n",
        "        # concat & BLSTM\n",
        "        output = concatenate([words, casing, char])\n",
        "        output = Bidirectional(LSTM(self.lstm_state_size, \n",
        "                                    return_sequences=True, \n",
        "                                    dropout=self.dropout,                        # on input to each LSTM block\n",
        "                                    recurrent_dropout=self.dropout_recurrent     # on recurrent input signal\n",
        "                                   ), name=\"BLSTM\")(output)\n",
        "        output = TimeDistributed(Dense(len(self.label2Idx), activation='softmax'),name=\"Softmax_layer\")(output)\n",
        "\n",
        "        # set up model\n",
        "        self.model = Model(inputs=[words_input, casing_input, character_input], outputs=[output])\n",
        "        \n",
        "        self.model.compile(loss='sparse_categorical_crossentropy', optimizer=self.optimizer)\n",
        "        \n",
        "        self.init_weights = self.model.get_weights()\n",
        "        \n",
        "        plot_model(self.model, to_file='model.png')\n",
        "        \n",
        "        print(\"Model built. Saved model.png\\n\")\n",
        "        \n",
        "    def train(self):\n",
        "        \"\"\"Default training\"\"\"\n",
        "\n",
        "        self.f1_test_history = []\n",
        "        self.f1_dev_history = []\n",
        "\n",
        "        for epoch in range(self.epochs):    \n",
        "            print(\"Epoch {}/{}\".format(epoch, self.epochs))\n",
        "            for i,batch in enumerate(iterate_minibatches(self.train_batch,self.train_batch_len)):\n",
        "                labels, tokens, casing,char = batch       \n",
        "                self.model.train_on_batch([tokens, casing,char], labels)\n",
        "\n",
        "            # compute F1 scores\n",
        "            predLabels, correctLabels = self.tag_dataset(self.test_batch, self.model)\n",
        "            pre_test, rec_test, f1_test = compute_f1(predLabels, correctLabels, self.idx2Label)\n",
        "            self.f1_test_history.append(f1_test)\n",
        "            print(\"f1 test \", round(f1_test, 4))\n",
        "\n",
        "            predLabels, correctLabels = self.tag_dataset(self.dev_batch, self.model)\n",
        "            pre_dev, rec_dev, f1_dev = compute_f1(predLabels, correctLabels, self.idx2Label)\n",
        "            self.f1_dev_history.append(f1_dev)\n",
        "            print(\"f1 dev \", round(f1_dev, 4), \"\\n\")\n",
        "            \n",
        "        print(\"Final F1 test score: \", f1_test)\n",
        "            \n",
        "        print(\"Training finished.\")\n",
        "            \n",
        "        # save model\n",
        "        self.modelName = \"{}_{}_{}_{}_{}_{}_{}\".format(self.epochs, \n",
        "                                                        self.dropout, \n",
        "                                                        self.dropout_recurrent, \n",
        "                                                        self.lstm_state_size,\n",
        "                                                        self.conv_size,\n",
        "                                                        self.learning_rate,\n",
        "                                                        self.optimizer.__class__.__name__\n",
        "                                                       )\n",
        "        \n",
        "        modelName = self.modelName + \".h5\"\n",
        "        self.model.save(modelName)\n",
        "        print(\"Model weights saved.\")\n",
        "        \n",
        "        self.model.set_weights(self.init_weights)  # clear model\n",
        "        print(\"Model weights cleared.\")\n",
        "\n",
        "    def writeToFile(self):\n",
        "        \"\"\"Write output to file\"\"\"\n",
        "\n",
        "        # .txt file format\n",
        "        # [epoch  ]\n",
        "        # [f1_test]\n",
        "        # [f1_dev ]\n",
        "        \n",
        "        output = np.matrix([[int(i) for i in range(self.epochs)], self.f1_test_history, self.f1_dev_history])\n",
        "\n",
        "        fileName = self.modelName + \".txt\"\n",
        "        with open(fileName,'wb') as f:\n",
        "            for line in output:\n",
        "                np.savetxt(f, line, fmt='%.5f')\n",
        "                \n",
        "        print(\"Model performance written to file.\")\n",
        "\n",
        "    print(\"Class initialised.\")"
      ],
      "execution_count": 0,
      "outputs": [
        {
          "output_type": "stream",
          "text": [
            "Class initialised.\n"
          ],
          "name": "stdout"
        }
      ]
    },
    {
      "cell_type": "code",
      "metadata": {
        "id": "o5dtimul3nQF",
        "colab_type": "code",
        "outputId": "aef3ff74-814f-4c46-9886-4edd8db832e6",
        "colab": {
          "base_uri": "https://localhost:8080/",
          "height": 89
        }
      },
      "source": [
        "\"\"\"Set parameters\"\"\"\n",
        "\n",
        "EPOCHS = 30               # paper: 80\n",
        "DROPOUT = 0.5             # paper: 0.68\n",
        "DROPOUT_RECURRENT = 0.25  # not specified in paper, 0.25 recommended\n",
        "LSTM_STATE_SIZE = 200     # paper: 275\n",
        "CONV_SIZE = 3             # paper: 3\n",
        "LEARNING_RATE = 0.0105    # paper 0.0105\n",
        "OPTIMIZER = Nadam()       # paper uses SGD(lr=self.learning_rate), Nadam() recommended\n"
      ],
      "execution_count": 0,
      "outputs": [
        {
          "output_type": "stream",
          "text": [
            "WARNING:tensorflow:From /usr/local/lib/python3.6/dist-packages/tensorflow/python/framework/op_def_library.py:263: colocate_with (from tensorflow.python.framework.ops) is deprecated and will be removed in a future version.\n",
            "Instructions for updating:\n",
            "Colocations handled automatically by placer.\n"
          ],
          "name": "stdout"
        }
      ]
    },
    {
      "cell_type": "code",
      "metadata": {
        "scrolled": true,
        "id": "KOERB4wc3nQI",
        "colab_type": "code",
        "outputId": "672d81f6-0ae3-4b28-996a-b77d87a31b20",
        "colab": {
          "base_uri": "https://localhost:8080/",
          "height": 2343
        }
      },
      "source": [
        "\"\"\"Construct and run model\"\"\"\n",
        "\n",
        "cnn_blstm = CNN_BLSTM(EPOCHS, DROPOUT, DROPOUT_RECURRENT, LSTM_STATE_SIZE, CONV_SIZE, LEARNING_RATE, OPTIMIZER)\n",
        "cnn_blstm.loadData()\n",
        "cnn_blstm.addCharInfo()\n",
        "cnn_blstm.embed()\n",
        "cnn_blstm.createBatches()\n",
        "cnn_blstm.buildModel()\n",
        "cnn_blstm.train()\n",
        "cnn_blstm.writeToFile()"
      ],
      "execution_count": 0,
      "outputs": [
        {
          "output_type": "stream",
          "text": [
            "WARNING:tensorflow:From /usr/local/lib/python3.6/dist-packages/keras/backend/tensorflow_backend.py:3445: calling dropout (from tensorflow.python.ops.nn_ops) with keep_prob is deprecated and will be removed in a future version.\n",
            "Instructions for updating:\n",
            "Please use `rate` instead of `keep_prob`. Rate should be set to `rate = 1 - keep_prob`.\n",
            "Model built. Saved model.png\n",
            "\n",
            "Epoch 0/30\n",
            "WARNING:tensorflow:From /usr/local/lib/python3.6/dist-packages/tensorflow/python/ops/math_ops.py:3066: to_int32 (from tensorflow.python.ops.math_ops) is deprecated and will be removed in a future version.\n",
            "Instructions for updating:\n",
            "Use tf.cast instead.\n",
            "f1 test  0.43\n",
            "f1 dev  0.4674 \n",
            "\n",
            "Epoch 1/30\n",
            "f1 test  0.535\n",
            "f1 dev  0.578 \n",
            "\n",
            "Epoch 2/30\n",
            "f1 test  0.6959\n",
            "f1 dev  0.7382 \n",
            "\n",
            "Epoch 3/30\n",
            "f1 test  0.7053\n",
            "f1 dev  0.7184 \n",
            "\n",
            "Epoch 4/30\n",
            "f1 test  0.7611\n",
            "f1 dev  0.7759 \n",
            "\n",
            "Epoch 5/30\n",
            "f1 test  0.7612\n",
            "f1 dev  0.7841 \n",
            "\n",
            "Epoch 6/30\n",
            "f1 test  0.7684\n",
            "f1 dev  0.7715 \n",
            "\n",
            "Epoch 7/30\n",
            "f1 test  0.8018\n",
            "f1 dev  0.8201 \n",
            "\n",
            "Epoch 8/30\n",
            "f1 test  0.7936\n",
            "f1 dev  0.8216 \n",
            "\n",
            "Epoch 9/30\n",
            "f1 test  0.8174\n",
            "f1 dev  0.8382 \n",
            "\n",
            "Epoch 10/30\n",
            "f1 test  0.8263\n",
            "f1 dev  0.8471 \n",
            "\n",
            "Epoch 11/30\n",
            "f1 test  0.8255\n",
            "f1 dev  0.8431 \n",
            "\n",
            "Epoch 12/30\n",
            "f1 test  0.83\n",
            "f1 dev  0.8615 \n",
            "\n",
            "Epoch 13/30\n",
            "f1 test  0.8098\n",
            "f1 dev  0.8333 \n",
            "\n",
            "Epoch 14/30\n",
            "f1 test  0.8398\n",
            "f1 dev  0.8591 \n",
            "\n",
            "Epoch 15/30\n",
            "f1 test  0.8465\n",
            "f1 dev  0.876 \n",
            "\n",
            "Epoch 16/30\n",
            "f1 test  0.8359\n",
            "f1 dev  0.8666 \n",
            "\n",
            "Epoch 17/30\n",
            "f1 test  0.853\n",
            "f1 dev  0.881 \n",
            "\n",
            "Epoch 18/30\n",
            "f1 test  0.8456\n",
            "f1 dev  0.8782 \n",
            "\n",
            "Epoch 19/30\n",
            "f1 test  0.8606\n",
            "f1 dev  0.8857 \n",
            "\n",
            "Epoch 20/30\n",
            "f1 test  0.8521\n",
            "f1 dev  0.8791 \n",
            "\n",
            "Epoch 21/30\n",
            "f1 test  0.8575\n",
            "f1 dev  0.8736 \n",
            "\n",
            "Epoch 22/30\n",
            "f1 test  0.8565\n",
            "f1 dev  0.8825 \n",
            "\n",
            "Epoch 23/30\n",
            "f1 test  0.8583\n",
            "f1 dev  0.8886 \n",
            "\n",
            "Epoch 24/30\n",
            "f1 test  0.865\n",
            "f1 dev  0.8979 \n",
            "\n",
            "Epoch 25/30\n",
            "f1 test  0.8659\n",
            "f1 dev  0.9012 \n",
            "\n",
            "Epoch 26/30\n",
            "f1 test  0.8737\n",
            "f1 dev  0.9008 \n",
            "\n",
            "Epoch 27/30\n",
            "f1 test  0.8579\n",
            "f1 dev  0.8934 \n",
            "\n",
            "Epoch 28/30\n",
            "f1 test  0.8713\n",
            "f1 dev  0.9001 \n",
            "\n",
            "Epoch 29/30\n",
            "f1 test  0.866\n",
            "f1 dev  0.8994 \n",
            "\n",
            "Final F1 test score:  0.8659702549575071\n",
            "Training finished.\n",
            "Model weights saved.\n",
            "Model weights cleared.\n",
            "Model performance written to file.\n"
          ],
          "name": "stdout"
        }
      ]
    },
    {
      "cell_type": "code",
      "metadata": {
        "id": "-XHEpv_Gp8mK",
        "colab_type": "code",
        "colab": {}
      },
      "source": [
        ""
      ],
      "execution_count": 0,
      "outputs": []
    },
    {
      "cell_type": "code",
      "metadata": {
        "id": "uw9nhVlfp8SZ",
        "colab_type": "code",
        "colab": {}
      },
      "source": [
        ""
      ],
      "execution_count": 0,
      "outputs": []
    },
    {
      "cell_type": "markdown",
      "metadata": {
        "id": "Fp9hSlT73nQM",
        "colab_type": "text"
      },
      "source": [
        "# Plot learning curve"
      ]
    },
    {
      "cell_type": "code",
      "metadata": {
        "id": "QfxQCu3J3nQN",
        "colab_type": "code",
        "colab": {}
      },
      "source": [
        "import matplotlib.pyplot as plt"
      ],
      "execution_count": 0,
      "outputs": []
    },
    {
      "cell_type": "code",
      "metadata": {
        "id": "IhFSHMFm3nQQ",
        "colab_type": "code",
        "outputId": "7e9ec8f1-b71e-4219-d54c-b9d474b33261",
        "colab": {
          "base_uri": "https://localhost:8080/",
          "height": 283
        }
      },
      "source": [
        "plt.plot(cnn_blstm.f1_test_history, label = \"F1 test\")\n",
        "plt.plot(cnn_blstm.f1_dev_history, label = \"F1 dev\")\n",
        "plt.xlabel(\"Epochs\")\n",
        "plt.ylabel(\"F1 score\")\n",
        "plt.legend()\n",
        "plt.show()"
      ],
      "execution_count": 0,
      "outputs": [
        {
          "output_type": "display_data",
          "data": {
            "image/png": "[encoded data removed]",
            "text/plain": [
              "<Figure size 432x288 with 1 Axes>"
            ]
          },
          "metadata": {
            "tags": []
          }
        }
      ]
    },
    {
      "cell_type": "markdown",
      "metadata": {
        "id": "F48jpiHJ3nQU",
        "colab_type": "text"
      },
      "source": [
        "# Label distribution"
      ]
    },
    {
      "cell_type": "code",
      "metadata": {
        "id": "TnpRDapV3nQV",
        "colab_type": "code",
        "outputId": "5bf43c56-e67c-4734-b8fe-92a4790fb2d6",
        "colab": {
          "base_uri": "https://localhost:8080/",
          "height": 173
        }
      },
      "source": [
        "cnn_blstm = CNN_BLSTM(EPOCHS, DROPOUT, DROPOUT_RECURRENT, LSTM_STATE_SIZE, CONV_SIZE, LEARNING_RATE, OPTIMIZER)\n",
        "cnn_blstm.loadData()\n",
        "\n",
        "category_count = {\"B-ORG\\n\": 0, \"I-ORG\\n\":0, \"B-MISC\\n\": 0, \"I-MISC\\n\":0, \"B-LOC\\n\": 0, \"I-LOC\\n\": 0, \"B-PER\\n\": 0, \"I-PER\\n\": 0, \"O\\n\": 0}\n",
        "total_count = 0\n",
        "\n",
        "for sentence in cnn_blstm.trainSentences:\n",
        "    for word in sentence:\n",
        "        if word[1] in category_count.keys():\n",
        "            category_count[word[1]] += 1\n",
        "            total_count += 1\n",
        "\n",
        "for category, count in category_count.items():\n",
        "    print(\"{}: {}%\".format(category.replace(\"\\n\", \"\"), round((count/total_count)*100, 2)))            "
      ],
      "execution_count": 0,
      "outputs": [
        {
          "output_type": "stream",
          "text": [
            "B-ORG: 3.1%\n",
            "I-ORG: 1.82%\n",
            "B-MISC: 1.69%\n",
            "I-MISC: 0.57%\n",
            "B-LOC: 3.51%\n",
            "I-LOC: 0.57%\n",
            "B-PER: 3.24%\n",
            "I-PER: 2.22%\n",
            "O: 83.28%\n"
          ],
          "name": "stdout"
        }
      ]
    },
    {
      "cell_type": "code",
      "metadata": {
        "id": "gKRO8mse3nQY",
        "colab_type": "code",
        "colab": {}
      },
      "source": [
        ""
      ],
      "execution_count": 0,
      "outputs": []
    },
    {
      "cell_type": "code",
      "metadata": {
        "id": "PXmtHYRYvoMS",
        "colab_type": "code",
        "colab": {}
      },
      "source": [
        ""
      ],
      "execution_count": 0,
      "outputs": []
    }
  ]
}