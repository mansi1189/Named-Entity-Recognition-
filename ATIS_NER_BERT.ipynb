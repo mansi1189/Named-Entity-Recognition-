{
  "nbformat": 4,
  "nbformat_minor": 0,
  "metadata": {
    "colab": {
      "name": "ATIS_NER_BERT.ipynb",
      "version": "0.3.2",
      "provenance": [],
      "collapsed_sections": [],
      "include_colab_link": true
    },
    "kernelspec": {
      "name": "python3",
      "display_name": "Python 3"
    },
    "accelerator": "GPU"
  },
  "cells": [
    {
      "cell_type": "markdown",
      "metadata": {
        "id": "view-in-github",
        "colab_type": "text"
      },
      "source": [
        "<a href=\"https://colab.research.google.com/github/mansi1189/Natural-Language-Processing/blob/master/ATIS_NER_BERT.ipynb\" target=\"_parent\"><img src=\"https://colab.research.google.com/assets/colab-badge.svg\" alt=\"Open In Colab\"/></a>"
      ]
    },
    {
      "cell_type": "code",
      "metadata": {
        "id": "wL4YuxZEhwlL",
        "colab_type": "code",
        "colab": {}
      },
      "source": [
        "import pandas as pd\n",
        "import numpy as np\n",
        "import numpy as np # linear algebra\n",
        "import pandas as pd # data processing, CSV file I/O (e.g. pd.read_csv)\n",
        "from zipfile import ZipFile\n",
        "import os\n",
        "import pickle\n",
        "import torch\n",
        "from torch.optim import Adam\n",
        "from torch.utils.data import TensorDataset, DataLoader, RandomSampler, SequentialSampler\n",
        "from keras.preprocessing.sequence import pad_sequences\n",
        "from sklearn.model_selection import train_test_split\n",
        "from pytorch_pretrained_bert import BertTokenizer, BertConfig\n",
        "from pytorch_pretrained_bert import BertForTokenClassification, BertAdam\n",
        "from tqdm import tqdm, trange\n",
        "from seqeval.metrics import f1_score\n"
      ],
      "execution_count": 0,
      "outputs": []
    },
    {
      "cell_type": "code",
      "metadata": {
        "id": "Kjp_acxs-DnZ",
        "colab_type": "code",
        "outputId": "a23dbf0e-7314-4704-c262-80d1882d94bc",
        "colab": {
          "base_uri": "https://localhost:8080/",
          "height": 609
        }
      },
      "source": [
        "!pip3 install pytorch_pretrained_bert\n",
        "!pip install seqeval"
      ],
      "execution_count": 2,
      "outputs": [
        {
          "output_type": "stream",
          "text": [
            "Collecting pytorch_pretrained_bert\n",
            "\u001b[?25l  Downloading https://files.pythonhosted.org/packages/d7/e0/c08d5553b89973d9a240605b9c12404bcf8227590de62bae27acbcfe076b/pytorch_pretrained_bert-0.6.2-py3-none-any.whl (123kB)\n",
            "\u001b[K     |████████████████████████████████| 133kB 4.9MB/s \n",
            "\u001b[?25hRequirement already satisfied: boto3 in /usr/local/lib/python3.6/dist-packages (from pytorch_pretrained_bert) (1.9.153)\n",
            "Requirement already satisfied: numpy in /usr/local/lib/python3.6/dist-packages (from pytorch_pretrained_bert) (1.16.3)\n",
            "Requirement already satisfied: requests in /usr/local/lib/python3.6/dist-packages (from pytorch_pretrained_bert) (2.21.0)\n",
            "Requirement already satisfied: regex in /usr/local/lib/python3.6/dist-packages (from pytorch_pretrained_bert) (2018.1.10)\n",
            "Requirement already satisfied: tqdm in /usr/local/lib/python3.6/dist-packages (from pytorch_pretrained_bert) (4.28.1)\n",
            "Requirement already satisfied: torch>=0.4.1 in /usr/local/lib/python3.6/dist-packages (from pytorch_pretrained_bert) (1.1.0)\n",
            "Requirement already satisfied: jmespath<1.0.0,>=0.7.1 in /usr/local/lib/python3.6/dist-packages (from boto3->pytorch_pretrained_bert) (0.9.4)\n",
            "Requirement already satisfied: s3transfer<0.3.0,>=0.2.0 in /usr/local/lib/python3.6/dist-packages (from boto3->pytorch_pretrained_bert) (0.2.0)\n",
            "Requirement already satisfied: botocore<1.13.0,>=1.12.153 in /usr/local/lib/python3.6/dist-packages (from boto3->pytorch_pretrained_bert) (1.12.153)\n",
            "Requirement already satisfied: certifi>=2017.4.17 in /usr/local/lib/python3.6/dist-packages (from requests->pytorch_pretrained_bert) (2019.3.9)\n",
            "Requirement already satisfied: urllib3<1.25,>=1.21.1 in /usr/local/lib/python3.6/dist-packages (from requests->pytorch_pretrained_bert) (1.24.3)\n",
            "Requirement already satisfied: chardet<3.1.0,>=3.0.2 in /usr/local/lib/python3.6/dist-packages (from requests->pytorch_pretrained_bert) (3.0.4)\n",
            "Requirement already satisfied: idna<2.9,>=2.5 in /usr/local/lib/python3.6/dist-packages (from requests->pytorch_pretrained_bert) (2.8)\n",
            "Requirement already satisfied: python-dateutil<3.0.0,>=2.1; python_version >= \"2.7\" in /usr/local/lib/python3.6/dist-packages (from botocore<1.13.0,>=1.12.153->boto3->pytorch_pretrained_bert) (2.5.3)\n",
            "Requirement already satisfied: docutils>=0.10 in /usr/local/lib/python3.6/dist-packages (from botocore<1.13.0,>=1.12.153->boto3->pytorch_pretrained_bert) (0.14)\n",
            "Requirement already satisfied: six>=1.5 in /usr/local/lib/python3.6/dist-packages (from python-dateutil<3.0.0,>=2.1; python_version >= \"2.7\"->botocore<1.13.0,>=1.12.153->boto3->pytorch_pretrained_bert) (1.12.0)\n",
            "Installing collected packages: pytorch-pretrained-bert\n",
            "Successfully installed pytorch-pretrained-bert-0.6.2\n",
            "Collecting seqeval\n",
            "  Downloading https://files.pythonhosted.org/packages/55/dd/3bf1c646c310daabae47fceb84ea9ab66df7f518a31a89955290d82b8100/seqeval-0.0.10-py3-none-any.whl\n",
            "Requirement already satisfied: Keras>=2.2.4 in /usr/local/lib/python3.6/dist-packages (from seqeval) (2.2.4)\n",
            "Requirement already satisfied: numpy>=1.14.0 in /usr/local/lib/python3.6/dist-packages (from seqeval) (1.16.3)\n",
            "Requirement already satisfied: keras-preprocessing>=1.0.5 in /usr/local/lib/python3.6/dist-packages (from Keras>=2.2.4->seqeval) (1.0.9)\n",
            "Requirement already satisfied: scipy>=0.14 in /usr/local/lib/python3.6/dist-packages (from Keras>=2.2.4->seqeval) (1.3.0)\n",
            "Requirement already satisfied: pyyaml in /usr/local/lib/python3.6/dist-packages (from Keras>=2.2.4->seqeval) (3.13)\n",
            "Requirement already satisfied: h5py in /usr/local/lib/python3.6/dist-packages (from Keras>=2.2.4->seqeval) (2.8.0)\n",
            "Requirement already satisfied: keras-applications>=1.0.6 in /usr/local/lib/python3.6/dist-packages (from Keras>=2.2.4->seqeval) (1.0.7)\n",
            "Requirement already satisfied: six>=1.9.0 in /usr/local/lib/python3.6/dist-packages (from Keras>=2.2.4->seqeval) (1.12.0)\n",
            "Installing collected packages: seqeval\n",
            "Successfully installed seqeval-0.0.10\n"
          ],
          "name": "stdout"
        }
      ]
    },
    {
      "cell_type": "code",
      "metadata": {
        "id": "IV3JMyFBiLQL",
        "colab_type": "code",
        "colab": {}
      },
      "source": [
        "with ZipFile(\"atis.zip\", 'r') as zipObj:\n",
        "   zipObj.extractall()\n"
      ],
      "execution_count": 0,
      "outputs": []
    },
    {
      "cell_type": "code",
      "metadata": {
        "id": "GAR0bO3jV_mj",
        "colab_type": "code",
        "colab": {}
      },
      "source": [
        "def load_ds(fname='atis.train.pkl'):\n",
        "    with open(fname, 'rb') as stream:\n",
        "        ds,dicts = pickle.load(stream)\n",
        "    print('Done  loading: ', fname)\n",
        "    print('      samples: {:4d}'.format(len(ds['query'])))\n",
        "    print('   vocab_size: {:4d}'.format(len(dicts['token_ids'])))\n",
        "    print('   slot count: {:4d}'.format(len(dicts['slot_ids'])))\n",
        "    print(' intent count: {:4d}'.format(len(dicts['intent_ids'])))\n",
        "    return ds,dicts\n"
      ],
      "execution_count": 0,
      "outputs": []
    },
    {
      "cell_type": "code",
      "metadata": {
        "id": "4e9KRg-7pv1y",
        "colab_type": "code",
        "colab": {}
      },
      "source": [
        "# my_dict_final = []  # Create an empty dictionary\n",
        "# with open('atis.train.pkl', 'rb') as f:\n",
        "#     my_dict_final.append(pickle.load(f))   # Update contents of file1 to the dictionary\n",
        "# with open('atis.test.pkl', 'rb') as f:\n",
        "#     my_dict_final.append(pickle.load(f))   # Update contents of file2 to the dictionary\n",
        "# print(my_dict_final)"
      ],
      "execution_count": 0,
      "outputs": []
    },
    {
      "cell_type": "code",
      "metadata": {
        "id": "IdSjRnDcpeJ0",
        "colab_type": "code",
        "colab": {}
      },
      "source": [
        ""
      ],
      "execution_count": 0,
      "outputs": []
    },
    {
      "cell_type": "code",
      "metadata": {
        "id": "vRb52Q8QWL3P",
        "colab_type": "code",
        "outputId": "a2d00123-3e2f-4c15-d052-6efa47566a3a",
        "colab": {
          "base_uri": "https://localhost:8080/",
          "height": 191
        }
      },
      "source": [
        "train_ds, dicts = load_ds('atis.train.pkl')\n",
        "test_ds, dicts  = load_ds('atis.test.pkl')"
      ],
      "execution_count": 6,
      "outputs": [
        {
          "output_type": "stream",
          "text": [
            "Done  loading:  atis.train.pkl\n",
            "      samples: 4978\n",
            "   vocab_size:  943\n",
            "   slot count:  129\n",
            " intent count:   26\n",
            "Done  loading:  atis.test.pkl\n",
            "      samples:  893\n",
            "   vocab_size:  943\n",
            "   slot count:  129\n",
            " intent count:   26\n"
          ],
          "name": "stdout"
        }
      ]
    },
    {
      "cell_type": "code",
      "metadata": {
        "id": "em4jBARfZ2Eg",
        "colab_type": "code",
        "colab": {}
      },
      "source": [
        "t2i, s2i, in2i = map(dicts.get, ['token_ids', 'slot_ids','intent_ids'])\n",
        "i2t, i2s, i2in = map(lambda d: {d[k]:k for k in d.keys()}, [t2i,s2i,in2i])\n",
        "query, slots, intent =  map(train_ds.get, ['query', 'slot_labels', 'intent_labels'])\n",
        "\n",
        "sentence=[]\n",
        "n=[]\n",
        "\n",
        "labels=[]\n",
        "z=[]\n",
        "for i in range(len(query)):\n",
        "  y='{}'.format(' '.join(map(i2t.get, query[i])))\n",
        "  sentence.append(y)\n",
        "  lab=[]\n",
        "  for j in range(len(query[i])):\n",
        "    z='{}'.format(i2s[slots[i][j]])\n",
        "#     print(z)  \n",
        "    lab.append(z)\n",
        "#   print(lab) \n",
        "  labels.append(lab)\n",
        "\n",
        "# for i in labels:\n",
        "  \n",
        "#   print(i)  \n",
        "  "
      ],
      "execution_count": 0,
      "outputs": []
    },
    {
      "cell_type": "code",
      "metadata": {
        "id": "zGNIUCNlpu5a",
        "colab_type": "code",
        "colab": {}
      },
      "source": [
        "l=[]\n",
        "for i in range(len(query)):\n",
        "  \n",
        "  for j in range(len(query[i])):\n",
        "    z='{}'.format(i2s[slots[i][j]])\n",
        "#     print(z)  \n",
        "    l.append(z)\n",
        "#   "
      ],
      "execution_count": 0,
      "outputs": []
    },
    {
      "cell_type": "code",
      "metadata": {
        "id": "oZGZtKEdl8gZ",
        "colab_type": "code",
        "outputId": "361e47ec-f8ea-4992-a32e-f525bcde509d",
        "colab": {
          "base_uri": "https://localhost:8080/",
          "height": 55
        }
      },
      "source": [
        "tags_vals = list(set(s2i.keys()))\n",
        "print(tags_vals)"
      ],
      "execution_count": 11,
      "outputs": [
        {
          "output_type": "stream",
          "text": [
            "['B-depart_date.date_relative', 'B-return_date.day_name', 'B-flight_mod', 'B-fromloc.city_name', 'B-day_number', 'B-fare_basis_code', 'I-depart_time.time_relative', 'B-flight_days', 'B-stoploc.airport_code', 'B-flight_stop', 'B-return_time.period_of_day', 'B-arrive_time.period_mod', 'B-period_of_day', 'I-depart_time.end_time', 'I-return_date.day_number', 'O', 'B-state_code', 'I-meal_code', 'I-depart_date.today_relative', 'B-restriction_code', 'I-depart_time.period_of_day', 'I-flight_number', 'B-depart_date.day_number', 'I-toloc.state_name', 'B-meal', 'I-toloc.airport_name', 'I-fare_basis_code', 'I-airline_name', 'I-round_trip', 'B-meal_code', 'B-meal_description', 'B-booking_class', 'B-toloc.state_code', 'B-or', 'I-toloc.city_name', 'B-fromloc.state_code', 'B-time_relative', 'I-fromloc.state_name', 'B-toloc.state_name', 'B-return_date.today_relative', 'B-day_name', 'B-depart_time.period_mod', 'B-airport_code', 'B-depart_time.time', 'B-time', 'B-flight_number', 'I-return_date.today_relative', 'I-stoploc.city_name', 'I-meal_description', 'B-fromloc.state_name', 'B-transport_type', 'B-depart_date.day_name', 'I-state_name', 'I-fromloc.airport_name', 'B-return_date.month_name', 'B-toloc.airport_code', 'B-depart_date.year', 'B-arrive_time.time_relative', 'B-arrive_date.today_relative', 'B-toloc.city_name', 'B-stoploc.state_code', 'I-flight_stop', 'B-city_name', 'B-connect', 'B-return_date.day_number', 'I-class_type', 'B-stoploc.city_name', 'B-airport_name', 'I-today_relative', 'B-depart_date.month_name', 'I-arrive_time.time', 'I-fare_amount', 'B-arrive_date.day_number', 'I-arrive_time.period_of_day', 'B-toloc.airport_name', 'B-days_code', 'I-transport_type', 'B-stoploc.airport_name', 'I-city_name', 'I-depart_date.day_name', 'B-aircraft_code', 'B-fromloc.airport_code', 'B-arrive_time.time', 'B-arrive_time.period_of_day', 'I-arrive_time.start_time', 'I-mod', 'I-time', 'I-fromloc.city_name', 'B-arrive_date.month_name', 'B-flight', 'B-airline_name', 'B-airline_code', 'I-airport_name', 'I-restriction_code', 'B-depart_date.today_relative', 'B-mod', 'B-today_relative', 'I-arrive_date.day_number', 'B-compartment', 'B-cost_relative', 'I-depart_date.day_number', 'I-cost_relative', 'B-month_name', 'B-arrive_time.end_time', 'B-depart_time.end_time', 'B-economy', 'I-economy', 'B-depart_time.start_time', 'I-depart_time.time', 'B-toloc.country_name', 'I-depart_time.start_time', 'I-flight_time', 'B-round_trip', 'I-arrive_time.time_relative', 'B-depart_time.period_of_day', 'B-flight_time', 'I-arrive_time.end_time', 'I-flight_mod', 'B-class_type', 'B-arrive_date.day_name', 'B-fromloc.airport_name', 'B-state_name', 'B-arrive_time.start_time', 'B-arrive_date.date_relative', 'B-return_time.period_mod', 'B-return_date.date_relative', 'B-fare_amount', 'I-return_date.date_relative', 'B-depart_time.time_relative']\n"
          ],
          "name": "stdout"
        }
      ]
    },
    {
      "cell_type": "code",
      "metadata": {
        "id": "QmHKvKDx-6gr",
        "colab_type": "code",
        "outputId": "bb69bcda-37ef-4785-8994-85e647f9d64e",
        "colab": {
          "base_uri": "https://localhost:8080/",
          "height": 1231
        }
      },
      "source": [
        "labels[:5]"
      ],
      "execution_count": 0,
      "outputs": [
        {
          "output_type": "execute_result",
          "data": {
            "text/plain": [
              "[['O',\n",
              "  'O',\n",
              "  'O',\n",
              "  'O',\n",
              "  'O',\n",
              "  'O',\n",
              "  'B-fromloc.city_name',\n",
              "  'O',\n",
              "  'B-depart_time.time',\n",
              "  'I-depart_time.time',\n",
              "  'O',\n",
              "  'O',\n",
              "  'O',\n",
              "  'B-toloc.city_name',\n",
              "  'O',\n",
              "  'B-arrive_time.time',\n",
              "  'O',\n",
              "  'O',\n",
              "  'B-arrive_time.period_of_day',\n",
              "  'O'],\n",
              " ['O',\n",
              "  'O',\n",
              "  'O',\n",
              "  'O',\n",
              "  'O',\n",
              "  'O',\n",
              "  'B-fromloc.city_name',\n",
              "  'O',\n",
              "  'B-toloc.city_name',\n",
              "  'O',\n",
              "  'B-depart_date.day_name',\n",
              "  'B-depart_time.period_of_day',\n",
              "  'O'],\n",
              " ['O',\n",
              "  'O',\n",
              "  'O',\n",
              "  'O',\n",
              "  'B-flight_time',\n",
              "  'I-flight_time',\n",
              "  'O',\n",
              "  'B-fromloc.city_name',\n",
              "  'I-fromloc.city_name',\n",
              "  'O',\n",
              "  'O',\n",
              "  'B-depart_time.time',\n",
              "  'I-depart_time.time',\n",
              "  'O',\n",
              "  'O',\n",
              "  'B-fromloc.city_name',\n",
              "  'O'],\n",
              " ['O',\n",
              "  'B-cost_relative',\n",
              "  'O',\n",
              "  'O',\n",
              "  'B-fromloc.city_name',\n",
              "  'O',\n",
              "  'B-toloc.city_name',\n",
              "  'O'],\n",
              " ['O',\n",
              "  'B-round_trip',\n",
              "  'I-round_trip',\n",
              "  'O',\n",
              "  'O',\n",
              "  'B-fromloc.city_name',\n",
              "  'O',\n",
              "  'B-toloc.city_name',\n",
              "  'B-cost_relative',\n",
              "  'B-fare_amount',\n",
              "  'I-fare_amount',\n",
              "  'O']]"
            ]
          },
          "metadata": {
            "tags": []
          },
          "execution_count": 171
        }
      ]
    },
    {
      "cell_type": "code",
      "metadata": {
        "id": "ja0cbuwxWL0V",
        "colab_type": "code",
        "outputId": "8301675e-eeee-4019-d9f0-5ecb55ac2b1a",
        "colab": {
          "base_uri": "https://localhost:8080/",
          "height": 1424
        }
      },
      "source": [
        "# Visualization\n",
        "\n",
        "t2i, s2i, in2i = map(dicts.get, ['token_ids', 'slot_ids','intent_ids'])\n",
        "i2t, i2s, i2in = map(lambda d: {d[k]:k for k in d.keys()}, [t2i,s2i,in2i])\n",
        "query, slots, intent =  map(train_ds.get, ['query', 'slot_labels', 'intent_labels'])\n",
        "\n",
        "for i in range(5):\n",
        "    print('{:4d}:{:>15}: {}'.format(i, i2in[intent[i][0]],\n",
        "                                    ' '.join(map(i2t.get, query[i]))))\n",
        "    for j in range(len(query[i])):\n",
        "        print('{:>33} {:>40}'.format(i2t[query[i][j]],\n",
        "                                     i2s[slots[i][j]]  ))\n",
        "    print('*'*74)"
      ],
      "execution_count": 0,
      "outputs": [
        {
          "output_type": "stream",
          "text": [
            "   0:         flight: BOS i want to fly from boston at 838 am and arrive in denver at 1110 in the morning EOS\n",
            "                              BOS                                        O\n",
            "                                i                                        O\n",
            "                             want                                        O\n",
            "                               to                                        O\n",
            "                              fly                                        O\n",
            "                             from                                        O\n",
            "                           boston                      B-fromloc.city_name\n",
            "                               at                                        O\n",
            "                              838                       B-depart_time.time\n",
            "                               am                       I-depart_time.time\n",
            "                              and                                        O\n",
            "                           arrive                                        O\n",
            "                               in                                        O\n",
            "                           denver                        B-toloc.city_name\n",
            "                               at                                        O\n",
            "                             1110                       B-arrive_time.time\n",
            "                               in                                        O\n",
            "                              the                                        O\n",
            "                          morning              B-arrive_time.period_of_day\n",
            "                              EOS                                        O\n",
            "**************************************************************************\n",
            "   1:         flight: BOS what flights are available from pittsburgh to baltimore on thursday morning EOS\n",
            "                              BOS                                        O\n",
            "                             what                                        O\n",
            "                          flights                                        O\n",
            "                              are                                        O\n",
            "                        available                                        O\n",
            "                             from                                        O\n",
            "                       pittsburgh                      B-fromloc.city_name\n",
            "                               to                                        O\n",
            "                        baltimore                        B-toloc.city_name\n",
            "                               on                                        O\n",
            "                         thursday                   B-depart_date.day_name\n",
            "                          morning              B-depart_time.period_of_day\n",
            "                              EOS                                        O\n",
            "**************************************************************************\n",
            "   2:    flight_time: BOS what is the arrival time in san francisco for the 755 am flight leaving washington EOS\n",
            "                              BOS                                        O\n",
            "                             what                                        O\n",
            "                               is                                        O\n",
            "                              the                                        O\n",
            "                          arrival                            B-flight_time\n",
            "                             time                            I-flight_time\n",
            "                               in                                        O\n",
            "                              san                      B-fromloc.city_name\n",
            "                        francisco                      I-fromloc.city_name\n",
            "                              for                                        O\n",
            "                              the                                        O\n",
            "                              755                       B-depart_time.time\n",
            "                               am                       I-depart_time.time\n",
            "                           flight                                        O\n",
            "                          leaving                                        O\n",
            "                       washington                      B-fromloc.city_name\n",
            "                              EOS                                        O\n",
            "**************************************************************************\n",
            "   3:        airfare: BOS cheapest airfare from tacoma to orlando EOS\n",
            "                              BOS                                        O\n",
            "                         cheapest                          B-cost_relative\n",
            "                          airfare                                        O\n",
            "                             from                                        O\n",
            "                           tacoma                      B-fromloc.city_name\n",
            "                               to                                        O\n",
            "                          orlando                        B-toloc.city_name\n",
            "                              EOS                                        O\n",
            "**************************************************************************\n",
            "   4:        airfare: BOS round trip fares from pittsburgh to philadelphia under 1000 dollars EOS\n",
            "                              BOS                                        O\n",
            "                            round                             B-round_trip\n",
            "                             trip                             I-round_trip\n",
            "                            fares                                        O\n",
            "                             from                                        O\n",
            "                       pittsburgh                      B-fromloc.city_name\n",
            "                               to                                        O\n",
            "                     philadelphia                        B-toloc.city_name\n",
            "                            under                          B-cost_relative\n",
            "                             1000                            B-fare_amount\n",
            "                          dollars                            I-fare_amount\n",
            "                              EOS                                        O\n",
            "**************************************************************************\n"
          ],
          "name": "stdout"
        }
      ]
    },
    {
      "cell_type": "code",
      "metadata": {
        "id": "nLkqkRK_jCwI",
        "colab_type": "code",
        "colab": {}
      },
      "source": [
        "MAX_LEN = 75\n",
        "bs = 32"
      ],
      "execution_count": 0,
      "outputs": []
    },
    {
      "cell_type": "code",
      "metadata": {
        "id": "54GNyF_KjC8o",
        "colab_type": "code",
        "colab": {}
      },
      "source": [
        "\n",
        "device = torch.device(\"cuda\" if torch.cuda.is_available() else \"cpu\")\n",
        "n_gpu = torch.cuda.device_count()\n"
      ],
      "execution_count": 0,
      "outputs": []
    },
    {
      "cell_type": "code",
      "metadata": {
        "id": "87eRqJQajDJJ",
        "colab_type": "code",
        "outputId": "fea64442-6b50-476f-de9c-58de4c69ef18",
        "colab": {
          "base_uri": "https://localhost:8080/",
          "height": 35
        }
      },
      "source": [
        "torch.cuda.get_device_name(0) "
      ],
      "execution_count": 0,
      "outputs": [
        {
          "output_type": "execute_result",
          "data": {
            "text/plain": [
              "'Tesla T4'"
            ]
          },
          "metadata": {
            "tags": []
          },
          "execution_count": 177
        }
      ]
    },
    {
      "cell_type": "code",
      "metadata": {
        "id": "N2xF9WLhqLnQ",
        "colab_type": "code",
        "colab": {}
      },
      "source": [
        "tokenizer = BertTokenizer.from_pretrained('bert-base-uncased', do_lower_case=True)"
      ],
      "execution_count": 0,
      "outputs": []
    },
    {
      "cell_type": "code",
      "metadata": {
        "id": "1v7UgbP7qb3Q",
        "colab_type": "code",
        "outputId": "73a227b7-9583-41b8-89a8-b250abecad61",
        "colab": {
          "base_uri": "https://localhost:8080/",
          "height": 72
        }
      },
      "source": [
        "tokenized_texts = [tokenizer.tokenize(sent) for sent in sentence]\n",
        "print(tokenized_texts[0:10])\n",
        "len(tokenized_texts)"
      ],
      "execution_count": 0,
      "outputs": [
        {
          "output_type": "stream",
          "text": [
            "[['bo', '##s', 'i', 'want', 'to', 'fly', 'from', 'boston', 'at', '83', '##8', 'am', 'and', 'arrive', 'in', 'denver', 'at', '111', '##0', 'in', 'the', 'morning', 'e', '##os'], ['bo', '##s', 'what', 'flights', 'are', 'available', 'from', 'pittsburgh', 'to', 'baltimore', 'on', 'thursday', 'morning', 'e', '##os'], ['bo', '##s', 'what', 'is', 'the', 'arrival', 'time', 'in', 'san', 'francisco', 'for', 'the', '75', '##5', 'am', 'flight', 'leaving', 'washington', 'e', '##os'], ['bo', '##s', 'cheap', '##est', 'air', '##fare', 'from', 'tacoma', 'to', 'orlando', 'e', '##os'], ['bo', '##s', 'round', 'trip', 'fares', 'from', 'pittsburgh', 'to', 'philadelphia', 'under', '1000', 'dollars', 'e', '##os'], ['bo', '##s', 'i', 'need', 'a', 'flight', 'tomorrow', 'from', 'columbus', 'to', 'minneapolis', 'e', '##os'], ['bo', '##s', 'what', 'kind', 'of', 'aircraft', 'is', 'used', 'on', 'a', 'flight', 'from', 'cleveland', 'to', 'dallas', 'e', '##os'], ['bo', '##s', 'show', 'me', 'the', 'flights', 'from', 'pittsburgh', 'to', 'los', 'angeles', 'on', 'thursday', 'e', '##os'], ['bo', '##s', 'all', 'flights', 'from', 'boston', 'to', 'washington', 'e', '##os'], ['bo', '##s', 'what', 'kind', 'of', 'ground', 'transportation', 'is', 'available', 'in', 'denver', 'e', '##os']]\n"
          ],
          "name": "stdout"
        },
        {
          "output_type": "execute_result",
          "data": {
            "text/plain": [
              "4978"
            ]
          },
          "metadata": {
            "tags": []
          },
          "execution_count": 179
        }
      ]
    },
    {
      "cell_type": "code",
      "metadata": {
        "id": "a9E6uCDLrhlP",
        "colab_type": "code",
        "colab": {}
      },
      "source": [
        "input_ids = pad_sequences([tokenizer.convert_tokens_to_ids(txt) for txt in tokenized_texts],\n",
        "                          maxlen=MAX_LEN, dtype=\"long\", padding=\"post\")"
      ],
      "execution_count": 0,
      "outputs": []
    },
    {
      "cell_type": "code",
      "metadata": {
        "id": "-7_Ae62-8lha",
        "colab_type": "code",
        "outputId": "7dc2fe63-6f2f-4481-d410-afc3c677dcaa",
        "colab": {
          "base_uri": "https://localhost:8080/",
          "height": 35
        }
      },
      "source": [
        "len(input_ids)"
      ],
      "execution_count": 0,
      "outputs": [
        {
          "output_type": "execute_result",
          "data": {
            "text/plain": [
              "4978"
            ]
          },
          "metadata": {
            "tags": []
          },
          "execution_count": 181
        }
      ]
    },
    {
      "cell_type": "code",
      "metadata": {
        "id": "AoFrjHqtFfvF",
        "colab_type": "code",
        "outputId": "cde77c1e-6418-4dfd-b91a-9fe8ca7db67e",
        "colab": {
          "base_uri": "https://localhost:8080/",
          "height": 35
        }
      },
      "source": [
        "sentence[0]"
      ],
      "execution_count": 0,
      "outputs": [
        {
          "output_type": "execute_result",
          "data": {
            "text/plain": [
              "'BOS i want to fly from boston at 838 am and arrive in denver at 1110 in the morning EOS'"
            ]
          },
          "metadata": {
            "tags": []
          },
          "execution_count": 182
        }
      ]
    },
    {
      "cell_type": "code",
      "metadata": {
        "id": "wl0y0hr5FfjC",
        "colab_type": "code",
        "outputId": "14c3b032-b2fa-4072-b34c-dd6817c3d9ad",
        "colab": {
          "base_uri": "https://localhost:8080/",
          "height": 55
        }
      },
      "source": [
        "print(labels[0])"
      ],
      "execution_count": 0,
      "outputs": [
        {
          "output_type": "stream",
          "text": [
            "['O', 'O', 'O', 'O', 'O', 'O', 'B-fromloc.city_name', 'O', 'B-depart_time.time', 'I-depart_time.time', 'O', 'O', 'O', 'B-toloc.city_name', 'O', 'B-arrive_time.time', 'O', 'O', 'B-arrive_time.period_of_day', 'O']\n"
          ],
          "name": "stdout"
        }
      ]
    },
    {
      "cell_type": "code",
      "metadata": {
        "id": "C_YvITXSxrlg",
        "colab_type": "code",
        "colab": {}
      },
      "source": [
        "tags = pad_sequences([[s2i.get(l) for l in lab] for lab in labels],\n",
        "                     maxlen=MAX_LEN, value=s2i[\"O\"], padding=\"post\",dtype=\"long\", truncating=\"post\")"
      ],
      "execution_count": 0,
      "outputs": []
    },
    {
      "cell_type": "code",
      "metadata": {
        "id": "AkY9DzQWF__P",
        "colab_type": "code",
        "outputId": "04afb507-e5d8-4f91-b63b-b27f773525fb",
        "colab": {
          "base_uri": "https://localhost:8080/",
          "height": 87
        }
      },
      "source": [
        "print(len(sentence))\n",
        "print(len(labels))\n",
        "print(len(tags))\n",
        "print(len(input_ids))"
      ],
      "execution_count": 0,
      "outputs": [
        {
          "output_type": "stream",
          "text": [
            "4978\n",
            "4978\n",
            "4978\n",
            "4978\n"
          ],
          "name": "stdout"
        }
      ]
    },
    {
      "cell_type": "code",
      "metadata": {
        "id": "H1t21tNXzj6d",
        "colab_type": "code",
        "colab": {}
      },
      "source": [
        "attention_masks = [[float(i>0) for i in ii] for ii in input_ids]"
      ],
      "execution_count": 0,
      "outputs": []
    },
    {
      "cell_type": "code",
      "metadata": {
        "id": "302fzX6hB8C7",
        "colab_type": "code",
        "colab": {}
      },
      "source": [
        "tr_inputs, val_inputs, tr_tags, val_tags = train_test_split(input_ids, tags, \n",
        "                                                            random_state=2018, test_size=0.1)\n",
        "tr_masks, val_masks, _, _ = train_test_split(attention_masks, input_ids,\n",
        "                                             random_state=2018, test_size=0.1)"
      ],
      "execution_count": 0,
      "outputs": []
    },
    {
      "cell_type": "code",
      "metadata": {
        "id": "AWFg_5kKCInq",
        "colab_type": "code",
        "colab": {}
      },
      "source": [
        "tr_inputs = torch.tensor(tr_inputs)\n",
        "val_inputs = torch.tensor(val_inputs)\n",
        "tr_tags = torch.tensor(tr_tags)\n",
        "val_tags = torch.tensor(val_tags)\n",
        "tr_masks = torch.tensor(tr_masks)\n",
        "val_masks = torch.tensor(val_masks)"
      ],
      "execution_count": 0,
      "outputs": []
    },
    {
      "cell_type": "code",
      "metadata": {
        "id": "U01KGeVeaSYp",
        "colab_type": "code",
        "colab": {}
      },
      "source": [
        "train_data = TensorDataset(tr_inputs, tr_masks, tr_tags)\n",
        "train_sampler = RandomSampler(train_data)\n",
        "train_dataloader = DataLoader(train_data, sampler=train_sampler, batch_size=bs)\n",
        "\n",
        "valid_data = TensorDataset(val_inputs, val_masks, val_tags)\n",
        "valid_sampler = SequentialSampler(valid_data)\n",
        "valid_dataloader = DataLoader(valid_data, sampler=valid_sampler, batch_size=bs)"
      ],
      "execution_count": 0,
      "outputs": []
    },
    {
      "cell_type": "code",
      "metadata": {
        "id": "qxwE5iO2gBsI",
        "colab_type": "code",
        "colab": {}
      },
      "source": [
        "model = BertForTokenClassification.from_pretrained(\"bert-base-uncased\", num_labels=len(s2i))"
      ],
      "execution_count": 0,
      "outputs": []
    },
    {
      "cell_type": "code",
      "metadata": {
        "id": "bMXBsURqBsVb",
        "colab_type": "code",
        "colab": {}
      },
      "source": [
        ""
      ],
      "execution_count": 0,
      "outputs": []
    },
    {
      "cell_type": "code",
      "metadata": {
        "id": "3795zm7BgEdQ",
        "colab_type": "code",
        "colab": {}
      },
      "source": [
        "model.cuda();"
      ],
      "execution_count": 0,
      "outputs": []
    },
    {
      "cell_type": "code",
      "metadata": {
        "id": "275x3N91gLIX",
        "colab_type": "code",
        "colab": {}
      },
      "source": [
        "FULL_FINETUNING = True\n",
        "if FULL_FINETUNING:\n",
        "    param_optimizer = list(model.named_parameters())\n",
        "    no_decay = ['bias', 'gamma', 'beta']\n",
        "    optimizer_grouped_parameters = [\n",
        "        {'params': [p for n, p in param_optimizer if not any(nd in n for nd in no_decay)],\n",
        "         'weight_decay_rate': 0.01},\n",
        "        {'params': [p for n, p in param_optimizer if any(nd in n for nd in no_decay)],\n",
        "         'weight_decay_rate': 0.0}\n",
        "    ]\n",
        "else:\n",
        "    param_optimizer = list(model.classifier.named_parameters()) \n",
        "    optimizer_grouped_parameters = [{\"params\": [p for n, p in param_optimizer]}]\n",
        "optimizer = Adam(optimizer_grouped_parameters, lr=3e-5)\n"
      ],
      "execution_count": 0,
      "outputs": []
    },
    {
      "cell_type": "code",
      "metadata": {
        "id": "EZUY_pMwgQ5P",
        "colab_type": "code",
        "colab": {}
      },
      "source": [
        "\n",
        "\n",
        "def flat_accuracy(preds, labels):\n",
        "    pred_flat = np.argmax(preds, axis=2).flatten()\n",
        "    labels_flat = labels.flatten()\n",
        "    return np.sum(pred_flat == labels_flat) / len(labels_flat)"
      ],
      "execution_count": 0,
      "outputs": []
    },
    {
      "cell_type": "code",
      "metadata": {
        "id": "Dg0AK__rgT3T",
        "colab_type": "code",
        "outputId": "4d6044ee-c6cb-4a1e-8bd2-339e5268fa3e",
        "colab": {
          "base_uri": "https://localhost:8080/",
          "height": 607
        }
      },
      "source": [
        "epochs = 5\n",
        "max_grad_norm = 1.0\n",
        "\n",
        "for _ in trange(epochs, desc=\"Epoch\"):\n",
        "    # TRAIN loop\n",
        "    model.train()\n",
        "    tr_loss = 0\n",
        "    nb_tr_examples, nb_tr_steps = 0, 0\n",
        "    for step, batch in enumerate(train_dataloader):\n",
        "        # add batch to gpu\n",
        "        batch = tuple(t.to(device) for t in batch)\n",
        "        b_input_ids, b_input_mask, b_labels = batch\n",
        "        # forward pass\n",
        "        loss = model(b_input_ids, token_type_ids=None,\n",
        "                     attention_mask=b_input_mask, labels=b_labels)\n",
        "        # backward pass\n",
        "        loss.backward()\n",
        "        # track train loss\n",
        "        tr_loss += loss.item()\n",
        "        nb_tr_examples += b_input_ids.size(0)\n",
        "        nb_tr_steps += 1\n",
        "        # gradient clipping\n",
        "        torch.nn.utils.clip_grad_norm_(parameters=model.parameters(), max_norm=max_grad_norm)\n",
        "        # update parameters\n",
        "        optimizer.step()\n",
        "        model.zero_grad()\n",
        "    # print train loss per epoch\n",
        "    print(\"Train loss: {}\".format(tr_loss/nb_tr_steps))\n",
        "    # VALIDATION on validation set\n",
        "    model.eval()\n",
        "    eval_loss, eval_accuracy = 0, 0\n",
        "    nb_eval_steps, nb_eval_examples = 0, 0\n",
        "    predictions , true_labels = [], []\n",
        "    for batch in valid_dataloader:\n",
        "        batch = tuple(t.to(device) for t in batch)\n",
        "        b_input_ids, b_input_mask, b_labels = batch\n",
        "        \n",
        "        with torch.no_grad():\n",
        "            tmp_eval_loss = model(b_input_ids, token_type_ids=None,\n",
        "                                  attention_mask=b_input_mask, labels=b_labels)\n",
        "            logits = model(b_input_ids, token_type_ids=None,\n",
        "                           attention_mask=b_input_mask)\n",
        "        logits = logits.detach().cpu().numpy()\n",
        "        label_ids = b_labels.to('cpu').numpy()\n",
        "        predictions.extend([list(p) for p in np.argmax(logits, axis=2)])\n",
        "        true_labels.append(label_ids)\n",
        "        \n",
        "        tmp_eval_accuracy = flat_accuracy(logits, label_ids)\n",
        "        \n",
        "        eval_loss += tmp_eval_loss.mean().item()\n",
        "        eval_accuracy += tmp_eval_accuracy\n",
        "        \n",
        "        nb_eval_examples += b_input_ids.size(0)\n",
        "        nb_eval_steps += 1\n",
        "    eval_loss = eval_loss/nb_eval_steps\n",
        "    print(\"Validation loss: {}\".format(eval_loss))\n",
        "    print(\"Validation Accuracy: {}\".format(eval_accuracy/nb_eval_steps))\n",
        "    pred_tags = [tags_vals[p_i] for p in predictions for p_i in p]\n",
        "    valid_tags = [tags_vals[l_ii] for l in true_labels for l_i in l for l_ii in l_i]\n",
        "    print(\"F1-Score: {}\".format(f1_score(pred_tags, valid_tags)))"
      ],
      "execution_count": 0,
      "outputs": [
        {
          "output_type": "stream",
          "text": [
            "\n",
            "\n",
            "Epoch:   0%|          | 0/5 [00:00<?, ?it/s]\u001b[A\u001b[A"
          ],
          "name": "stderr"
        },
        {
          "output_type": "stream",
          "text": [
            "Train loss: 0.37193206080368585\n"
          ],
          "name": "stdout"
        },
        {
          "output_type": "stream",
          "text": [
            "\n",
            "\n",
            "Epoch:  20%|██        | 1/5 [01:20<05:22, 80.50s/it]\u001b[A\u001b[A"
          ],
          "name": "stderr"
        },
        {
          "output_type": "stream",
          "text": [
            "Validation loss: 0.12120267562568188\n",
            "Validation Accuracy: 0.9748350694444443\n",
            "F1-Score: 0.6874432677760968\n",
            "Train loss: 0.09076898582279683\n"
          ],
          "name": "stdout"
        },
        {
          "output_type": "stream",
          "text": [
            "\n",
            "\n",
            "Epoch:  40%|████      | 2/5 [02:40<04:01, 80.34s/it]\u001b[A\u001b[A"
          ],
          "name": "stderr"
        },
        {
          "output_type": "stream",
          "text": [
            "Validation loss: 0.06395868421532214\n",
            "Validation Accuracy: 0.9850694444444446\n",
            "F1-Score: 0.8264156325773784\n",
            "Train loss: 0.05151951663595225\n"
          ],
          "name": "stdout"
        },
        {
          "output_type": "stream",
          "text": [
            "\n",
            "\n",
            "Epoch:  60%|██████    | 3/5 [04:00<02:40, 80.22s/it]\u001b[A\u001b[A"
          ],
          "name": "stderr"
        },
        {
          "output_type": "stream",
          "text": [
            "Validation loss: 0.041119095869362354\n",
            "Validation Accuracy: 0.990859375\n",
            "F1-Score: 0.8913291500285226\n",
            "Train loss: 0.0335862958936819\n"
          ],
          "name": "stdout"
        },
        {
          "output_type": "stream",
          "text": [
            "\n",
            "\n",
            "Epoch:  80%|████████  | 4/5 [05:20<01:20, 80.18s/it]\u001b[A\u001b[A"
          ],
          "name": "stderr"
        },
        {
          "output_type": "stream",
          "text": [
            "Validation loss: 0.028698137204628438\n",
            "Validation Accuracy: 0.9930844907407409\n",
            "F1-Score: 0.9161327068204471\n",
            "Train loss: 0.023755966838715333\n"
          ],
          "name": "stdout"
        },
        {
          "output_type": "stream",
          "text": [
            "\n",
            "\n",
            "Epoch: 100%|██████████| 5/5 [06:40<00:00, 80.27s/it]\u001b[A\u001b[A\n",
            "\n",
            "\u001b[A\u001b[A"
          ],
          "name": "stderr"
        },
        {
          "output_type": "stream",
          "text": [
            "Validation loss: 0.024513516516890377\n",
            "Validation Accuracy: 0.9942129629629628\n",
            "F1-Score: 0.9296775110100867\n"
          ],
          "name": "stdout"
        }
      ]
    },
    {
      "cell_type": "code",
      "metadata": {
        "id": "RxCnCyG4nmBH",
        "colab_type": "code",
        "outputId": "e443fd87-8707-48a6-bb5d-4fba9c307fab",
        "colab": {
          "base_uri": "https://localhost:8080/",
          "height": 69
        }
      },
      "source": [
        "model.eval()\n",
        "predictions = []\n",
        "true_labels = []\n",
        "eval_loss, eval_accuracy = 0, 0\n",
        "nb_eval_steps, nb_eval_examples = 0, 0\n",
        "for batch in valid_dataloader:\n",
        "    batch = tuple(t.to(device) for t in batch)\n",
        "    b_input_ids, b_input_mask, b_labels = batch\n",
        "\n",
        "    with torch.no_grad():\n",
        "        tmp_eval_loss = model(b_input_ids, token_type_ids=None,\n",
        "                              attention_mask=b_input_mask, labels=b_labels)\n",
        "        logits = model(b_input_ids, token_type_ids=None,\n",
        "                       attention_mask=b_input_mask)\n",
        "        \n",
        "    logits = logits.detach().cpu().numpy()\n",
        "    predictions.extend([list(p) for p in np.argmax(logits, axis=2)])\n",
        "    label_ids = b_labels.to('cpu').numpy()\n",
        "    true_labels.append(label_ids)\n",
        "    tmp_eval_accuracy = flat_accuracy(logits, label_ids)\n",
        "\n",
        "    eval_loss += tmp_eval_loss.mean().item()\n",
        "    eval_accuracy += tmp_eval_accuracy\n",
        "\n",
        "    nb_eval_examples += b_input_ids.size(0)\n",
        "    nb_eval_steps += 1\n",
        "\n",
        "pred_tags = [[tags_vals[p_i] for p_i in p] for p in predictions]\n",
        "valid_tags = [[tags_vals[l_ii] for l_ii in l_i] for l in true_labels for l_i in l ]\n",
        "print(\"Validation loss: {}\".format(eval_loss/nb_eval_steps))\n",
        "print(\"Validation Accuracy: {}\".format(eval_accuracy/nb_eval_steps))\n",
        "print(\"Validation F1-Score: {}\".format(f1_score(pred_tags, valid_tags)))"
      ],
      "execution_count": 0,
      "outputs": [
        {
          "output_type": "stream",
          "text": [
            "Validation loss: 0.024513516516890377\n",
            "Validation Accuracy: 0.9942129629629628\n",
            "Validation F1-Score: 0.9383791858583344\n"
          ],
          "name": "stdout"
        }
      ]
    },
    {
      "cell_type": "code",
      "metadata": {
        "id": "LH14lmRHgWeA",
        "colab_type": "code",
        "colab": {}
      },
      "source": [
        ""
      ],
      "execution_count": 0,
      "outputs": []
    }
  ]
}