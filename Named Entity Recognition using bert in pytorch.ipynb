{
  "nbformat": 4,
  "nbformat_minor": 0,
  "metadata": {
    "colab": {
      "name": "11/06/19_bert.ipynb",
      "version": "0.3.2",
      "provenance": [],
      "collapsed_sections": [],
      "include_colab_link": true
    },
    "kernelspec": {
      "name": "python3",
      "display_name": "Python 3"
    },
    "accelerator": "GPU"
  },
  "cells": [
    {
      "cell_type": "markdown",
      "metadata": {
        "id": "view-in-github",
        "colab_type": "text"
      },
      "source": [
        "<a href=\"https://colab.research.google.com/github/mansi1189/Natural-Language-Processing/blob/master/Named%20Entity%20Recognition%20using%20bert%20in%20pytorch.ipynb\" target=\"_parent\"><img src=\"https://colab.research.google.com/assets/colab-badge.svg\" alt=\"Open In Colab\"/></a>"
      ]
    },
    {
      "cell_type": "code",
      "metadata": {
        "id": "wL4YuxZEhwlL",
        "colab_type": "code",
        "colab": {
          "base_uri": "https://localhost:8080/",
          "height": 52
        },
        "outputId": "d2b3b4dc-9119-463e-cc41-0fa7bf088f0b"
      },
      "source": [
        "import pandas as pd\n",
        "import numpy as np\n",
        "import numpy as np # linear algebra\n",
        "import pandas as pd # data processing, CSV file I/O (e.g. pd.read_csv)\n",
        "from zipfile import ZipFile\n",
        "import os\n",
        "import pickle\n",
        "import torch\n",
        "from torch.optim import Adam\n",
        "from torch.utils.data import TensorDataset, DataLoader, RandomSampler, SequentialSampler\n",
        "from keras.preprocessing.sequence import pad_sequences\n",
        "from sklearn.model_selection import train_test_split\n",
        "from pytorch_pretrained_bert import BertTokenizer, BertConfig\n",
        "from pytorch_pretrained_bert import BertForTokenClassification, BertAdam\n",
        "from tqdm import tqdm, trange\n",
        "from seqeval.metrics import f1_score\n"
      ],
      "execution_count": 2,
      "outputs": [
        {
          "output_type": "stream",
          "text": [
            "Using TensorFlow backend.\n"
          ],
          "name": "stderr"
        },
        {
          "output_type": "stream",
          "text": [
            "Better speed can be achieved with apex installed from https://www.github.com/nvidia/apex.\n"
          ],
          "name": "stdout"
        }
      ]
    },
    {
      "cell_type": "code",
      "metadata": {
        "id": "Kjp_acxs-DnZ",
        "colab_type": "code",
        "colab": {}
      },
      "source": [
        "!pip3 install pytorch_pretrained_bert==0.4.0\n",
        "!pip install seqeval"
      ],
      "execution_count": 0,
      "outputs": []
    },
    {
      "cell_type": "code",
      "metadata": {
        "id": "IV3JMyFBiLQL",
        "colab_type": "code",
        "colab": {}
      },
      "source": [
        "\n",
        "df= pd.read_csv('atis.dict.vocab.csv',header=None)\n",
        "VOCAB=df.values.tolist()\n",
        "VOCAB=sum(VOCAB, [])\n"
      ],
      "execution_count": 0,
      "outputs": []
    },
    {
      "cell_type": "code",
      "metadata": {
        "id": "GAR0bO3jV_mj",
        "colab_type": "code",
        "colab": {}
      },
      "source": [
        "dff= pd.read_csv('atis.dict.slots.csv',header=None)\n",
        "slots=dff.values.tolist()\n",
        "slots=sum(slots, [])"
      ],
      "execution_count": 0,
      "outputs": []
    },
    {
      "cell_type": "code",
      "metadata": {
        "id": "blt-BfXEhcyR",
        "colab_type": "code",
        "colab": {}
      },
      "source": [
        ""
      ],
      "execution_count": 0,
      "outputs": []
    },
    {
      "cell_type": "code",
      "metadata": {
        "id": "4e9KRg-7pv1y",
        "colab_type": "code",
        "colab": {}
      },
      "source": [
        "sen2idx = {tag: idx for idx, tag in enumerate(VOCAB)}\n",
        "idx2sen = {idx: tag for idx, tag in enumerate(VOCAB)}\n",
        "\n",
        "tag2idx = {tag: idx for idx, tag in enumerate(slots)}\n",
        "idx2tag = {idx: tag for idx, tag in enumerate(slots)}\n"
      ],
      "execution_count": 0,
      "outputs": []
    },
    {
      "cell_type": "code",
      "metadata": {
        "id": "NWhjGPHNKUnd",
        "colab_type": "code",
        "colab": {}
      },
      "source": [
        "train_query=pd.read_csv('atis_final.csv')\n",
        "train_text=train_query['tokens'].values.tolist()\n",
        "train_slot=train_query['slots'].values.tolist()\n",
        "train_msg=train_query['intent'].values.tolist()"
      ],
      "execution_count": 0,
      "outputs": []
    },
    {
      "cell_type": "code",
      "metadata": {
        "id": "4K4p7-4BZSCA",
        "colab_type": "code",
        "colab": {}
      },
      "source": [
        "for i in range(len(train_text)):\n",
        "  train_text[i]=train_msg[i]+\" \"+train_text[i]\n",
        "  "
      ],
      "execution_count": 0,
      "outputs": []
    },
    {
      "cell_type": "code",
      "metadata": {
        "id": "54d5Oz99jFAY",
        "colab_type": "code",
        "colab": {}
      },
      "source": [
        "for i in range(len(train_slot)):\n",
        "  train_slot[i]=train_msg[i]+\" \"+train_slot[i]\n",
        "  "
      ],
      "execution_count": 0,
      "outputs": []
    },
    {
      "cell_type": "code",
      "metadata": {
        "id": "aOVnmnTE8Pzj",
        "colab_type": "code",
        "outputId": "82e7b429-e3b6-4953-8d4a-de16231cfc06",
        "colab": {
          "base_uri": "https://localhost:8080/",
          "height": 17388
        }
      },
      "source": [
        "train_slot"
      ],
      "execution_count": 105,
      "outputs": [
        {
          "output_type": "execute_result",
          "data": {
            "text/plain": [
              "['no_msg O O O O O O O B-round_trip I-round_trip O O B-fromloc.city_name O B-toloc.city_name O O B-depart_date.month_name B-depart_date.day_number I-depart_date.day_number O O O B-return_date.month_name B-return_date.day_number O',\n",
              " 'no_msg O O O O O O O B-fromloc.city_name I-fromloc.city_name O O O B-toloc.city_name B-arrive_time.time_relative I-arrive_time.time_relative I-arrive_time.time_relative B-arrive_time.time I-arrive_time.time B-arrive_date.date_relative B-arrive_date.day_name O',\n",
              " 'no_msg O O O O O O B-fromloc.city_name I-fromloc.city_name O B-toloc.city_name O B-depart_date.date_relative B-depart_date.day_name O O B-return_date.date_relative I-return_date.date_relative I-return_date.date_relative O',\n",
              " 'no_msg O O O O O O B-meal_code I-meal_code I-meal_code O',\n",
              " 'no_msg O O O O O O B-fromloc.city_name O B-toloc.city_name O O O B-meal O B-depart_date.today_relative I-depart_date.today_relative I-depart_date.today_relative I-depart_date.today_relative O',\n",
              " 'no_msg O O O O B-airline_name I-airline_name O O B-fromloc.city_name O B-toloc.city_name O B-depart_date.today_relative I-depart_date.today_relative I-depart_date.today_relative I-depart_date.today_relative O',\n",
              " 'no_msg O O O B-flight_stop O B-arrive_time.period_mod B-arrive_date.day_name B-arrive_time.period_of_day O B-fromloc.city_name O B-toloc.city_name O',\n",
              " 'no_msg O O O O O O B-fromloc.city_name I-fromloc.city_name O B-toloc.city_name O O B-arrive_time.period_mod O O B-arrive_time.period_of_day O',\n",
              " 'no_msg O O O O O O O O B-fromloc.city_name I-fromloc.city_name I-fromloc.city_name O B-toloc.city_name B-toloc.country_name O B-depart_date.day_name O O B-depart_time.period_of_day O',\n",
              " 'no_msg O O O O O O B-airline_name I-airline_name O O O B-fromloc.city_name I-fromloc.city_name O B-toloc.city_name B-toloc.country_name O O O O B-stoploc.city_name I-stoploc.city_name O',\n",
              " 'no_msg O O O O O O O B-city_name O B-day_name B-period_of_day O',\n",
              " 'no_msg O O O O O O O O B-city_name O O B-period_of_day O B-day_name O',\n",
              " 'no_msg O O O O O O O O B-city_name I-city_name O B-day_name B-period_of_day O',\n",
              " 'no_msg O O O O O O B-fromloc.city_name O B-toloc.city_name I-toloc.city_name O O O O B-stoploc.city_name B-stoploc.state_code O B-airline_name I-airline_name O',\n",
              " 'no_msg O O O O O O B-fromloc.city_name O B-toloc.city_name I-toloc.city_name O O O B-stoploc.city_name B-stoploc.state_code O',\n",
              " 'no_msg O O O O O O B-airline_name I-airline_name O B-fromloc.city_name O B-toloc.city_name I-toloc.city_name O O O O B-stoploc.state_code O',\n",
              " 'no_msg O O O O O O O B-cost_relative B-round_trip I-round_trip O O B-fromloc.city_name O B-toloc.city_name O',\n",
              " 'no_msg O O O O O O O O O B-fromloc.city_name O B-toloc.city_name O O O O B-fare_amount I-fare_amount O',\n",
              " 'no_msg O O O B-restriction_code O',\n",
              " 'no_msg O O B-state_name O O',\n",
              " 'no_msg O O O O O O O O B-city_name I-city_name B-state_name O',\n",
              " 'no_msg O O O O B-mod O B-city_name B-state_name O',\n",
              " 'no_msg O O B-state_name B-state_name B-state_name O O',\n",
              " 'no_msg O O O O O B-flight_stop O O B-fromloc.city_name I-fromloc.city_name O B-toloc.city_name O B-arrive_date.day_name B-arrive_date.month_name B-arrive_date.day_number I-arrive_date.day_number O',\n",
              " 'no_msg O O O B-flight_stop O O O B-fromloc.city_name O B-toloc.city_name B-arrive_date.month_name B-arrive_date.day_number I-arrive_date.day_number O',\n",
              " 'no_msg O O O O O B-depart_time.period_of_day B-depart_time.period_of_day B-flight_stop O O B-fromloc.city_name I-fromloc.city_name O B-toloc.city_name I-toloc.city_name O B-arrive_date.month_name B-arrive_date.day_number I-arrive_date.day_number O',\n",
              " 'no_msg O O O O O O O O B-fromloc.city_name O B-toloc.state_code O B-arrive_time.time_relative B-arrive_time.time I-arrive_time.time O B-arrive_date.month_name B-arrive_date.day_number I-arrive_date.day_number O',\n",
              " 'no_msg O O O O B-depart_time.period_of_day I-depart_time.period_of_day O O B-fromloc.city_name O B-toloc.city_name O',\n",
              " 'no_msg O O O B-depart_date.day_name B-depart_date.month_name B-depart_date.day_number O O O O O B-fromloc.city_name O B-toloc.city_name O O B-depart_time.period_of_day I-depart_time.period_of_day O',\n",
              " 'no_msg O O O O O O B-depart_time.period_of_day I-depart_time.period_of_day O O B-fromloc.city_name O B-toloc.city_name O',\n",
              " 'no_msg O O O O O O B-depart_time.period_of_day I-depart_time.period_of_day O O B-fromloc.city_name I-fromloc.city_name O B-toloc.city_name O',\n",
              " 'no_msg O O O O O O B-fromloc.city_name O B-toloc.city_name I-toloc.city_name O B-depart_date.month_name B-depart_date.day_number I-depart_date.day_number O O B-depart_time.period_of_day I-depart_time.period_of_day O',\n",
              " 'no_msg O O O B-meal_code O O O',\n",
              " 'no_msg O O O B-meal_code O O O B-meal O',\n",
              " 'no_msg O O O B-period_of_day O O B-toloc.city_name O',\n",
              " 'no_msg O O O O O B-depart_date.day_name O B-fromloc.city_name O B-toloc.city_name O O B-toloc.city_name O B-arrive_time.start_time I-arrive_time.start_time O B-arrive_time.end_time I-arrive_time.end_time O',\n",
              " 'no_msg O O O B-flight_stop O O B-arrive_date.day_name B-arrive_date.month_name B-arrive_date.day_number O B-fromloc.city_name O B-toloc.city_name O O B-toloc.city_name O B-arrive_time.start_time I-arrive_time.start_time O B-arrive_time.end_time I-arrive_time.end_time O',\n",
              " 'no_msg O O O B-depart_date.day_name O O B-fromloc.city_name O B-toloc.city_name O O B-toloc.city_name O B-arrive_time.start_time I-arrive_time.start_time O B-arrive_time.end_time I-arrive_time.end_time O',\n",
              " 'no_msg O O O B-flight_stop O O B-arrive_date.day_name B-arrive_date.month_name B-arrive_date.day_number O B-fromloc.city_name O B-toloc.city_name O O B-toloc.city_name O B-arrive_time.start_time I-arrive_time.start_time O B-arrive_time.end_time I-arrive_time.end_time O',\n",
              " 'no_msg O O O O O O B-flight_days O O O B-toloc.city_name O B-arrive_time.start_time I-arrive_time.start_time O B-arrive_time.end_time I-arrive_time.end_time O',\n",
              " 'no_msg O O O B-airline_name I-airline_name I-airline_name O O B-fromloc.city_name O B-toloc.city_name O O O B-toloc.city_name O B-arrive_time.start_time I-arrive_time.start_time O B-arrive_time.end_time I-arrive_time.end_time O',\n",
              " 'no_msg O O O O B-flight_stop O O B-fromloc.city_name O B-toloc.city_name O O B-arrive_time.start_time I-arrive_time.start_time O B-arrive_time.end_time I-arrive_time.end_time O',\n",
              " 'no_msg O O O O B-fromloc.city_name B-fromloc.state_name I-fromloc.state_name O O O B-toloc.city_name B-toloc.state_name O B-arrive_date.day_name B-arrive_time.time_relative B-arrive_time.time I-arrive_time.time O',\n",
              " 'no_msg O O O O O O O O O B-fromloc.city_name B-fromloc.state_name I-fromloc.state_name O B-toloc.city_name I-toloc.city_name O O O O O O B-stoploc.city_name I-stoploc.city_name O',\n",
              " 'no_msg O O O B-fromloc.city_name B-fromloc.state_name I-fromloc.state_name O B-toloc.city_name B-toloc.state_name O',\n",
              " 'no_msg O O O O O O O B-fromloc.city_name B-fromloc.state_name I-fromloc.state_name O B-toloc.city_name B-toloc.state_name O B-connect O B-stoploc.city_name O',\n",
              " 'no_msg O O O B-fromloc.city_name B-fromloc.state_name I-fromloc.state_name O B-toloc.city_name O',\n",
              " 'no_msg O O O O O O B-fromloc.city_name B-fromloc.state_name I-fromloc.state_name O B-toloc.airport_name I-toloc.airport_name B-depart_date.date_relative B-depart_date.day_name O',\n",
              " 'no_msg O O O B-fromloc.city_name B-fromloc.state_name I-fromloc.state_name O B-toloc.city_name O',\n",
              " 'no_msg O B-transport_type I-transport_type O B-city_name B-state_code O',\n",
              " 'no_msg O O O O O O B-transport_type O B-city_name B-state_code O',\n",
              " 'no_msg O O O O O O O O O B-city_name B-state_code O',\n",
              " 'no_msg O O O O O B-city_name B-state_code O',\n",
              " 'no_msg O O O O O B-city_name B-state_code O',\n",
              " 'no_msg O O O O O O O O O O O B-city_name B-state_code O O O',\n",
              " 'no_msg O O O O O O B-city_name B-state_code O',\n",
              " 'no_msg O O O O O O O B-fromloc.city_name O B-toloc.city_name O B-depart_date.day_name O B-economy I-economy O',\n",
              " 'no_msg O O O O O B-economy I-economy B-round_trip I-round_trip O O O O B-fromloc.city_name O B-toloc.city_name O B-depart_date.month_name B-depart_date.day_number O',\n",
              " 'no_msg O O O O O O O B-economy I-economy O',\n",
              " 'no_msg O O O O B-class_type B-economy I-economy B-depart_time.period_of_day O O B-fromloc.city_name O B-toloc.city_name I-toloc.city_name O',\n",
              " 'no_msg O O O O O O B-fromloc.city_name I-fromloc.city_name O B-toloc.city_name B-flight_days O B-economy I-economy O',\n",
              " 'no_msg O O O O B-fromloc.city_name B-fromloc.state_code O B-toloc.city_name I-toloc.city_name B-depart_time.time_relative B-depart_time.time I-depart_time.time O B-depart_date.month_name B-depart_date.day_number B-economy I-economy O',\n",
              " 'no_msg O O O O B-fromloc.city_name O B-toloc.city_name B-toloc.state_code B-depart_time.time_relative B-depart_time.time I-depart_time.time O B-depart_date.month_name B-depart_date.day_number B-economy I-economy O',\n",
              " 'no_msg O O O O O O O O O O B-class_type B-or B-economy I-economy O B-fromloc.city_name O B-toloc.city_name O',\n",
              " 'no_msg O O O O B-fromloc.city_name O B-toloc.city_name O B-depart_time.start_time I-depart_time.start_time O B-depart_time.end_time I-depart_time.end_time O O B-depart_time.period_of_day O',\n",
              " 'no_msg O O O O B-fromloc.city_name O B-toloc.city_name O O B-depart_time.start_time I-depart_time.start_time O B-depart_time.end_time I-depart_time.end_time O B-depart_date.month_name B-depart_date.day_number O',\n",
              " 'no_msg O O O O B-fromloc.city_name O B-toloc.city_name O O O B-depart_time.start_time I-depart_time.start_time O B-depart_time.end_time I-depart_time.end_time O',\n",
              " 'no_msg O O O O O O O B-fromloc.city_name O B-toloc.city_name O B-depart_time.start_time I-depart_time.start_time O B-depart_time.end_time I-depart_time.end_time O',\n",
              " 'no_msg O O O O O B-fromloc.city_name O B-depart_time.start_time I-depart_time.start_time O B-depart_time.end_time I-depart_time.end_time O',\n",
              " 'no_msg O O O O O O O B-depart_time.start_time I-depart_time.start_time O B-depart_time.end_time I-depart_time.end_time O B-fromloc.city_name O B-toloc.city_name I-toloc.city_name O',\n",
              " 'no_msg O O O O O O B-fromloc.city_name O B-toloc.city_name O B-depart_time.start_time I-depart_time.start_time O B-depart_time.end_time I-depart_time.end_time O',\n",
              " 'no_msg O O O B-fromloc.city_name O B-toloc.city_name O B-depart_time.start_time I-depart_time.start_time O B-depart_time.end_time I-depart_time.end_time O',\n",
              " 'no_msg O O B-meal_description O O B-airline_name I-airline_name O',\n",
              " 'no_msg O O O O B-meal O O O',\n",
              " 'no_msg O O B-meal O O O B-airline_name I-airline_name O',\n",
              " 'no_msg O O O O B-meal O O B-fromloc.city_name O B-toloc.city_name O',\n",
              " 'no_msg O O B-meal O O O O B-flight_number O B-fromloc.city_name O B-toloc.city_name B-toloc.state_code O B-depart_date.day_name B-depart_time.period_of_day O',\n",
              " 'no_msg O O O O O O B-meal O',\n",
              " 'no_msg O O O O O B-meal O O B-fromloc.city_name O B-toloc.airport_code O B-airline_name B-flight_number O',\n",
              " 'no_msg O O O O B-meal O O O B-fromloc.city_name O B-toloc.city_name O',\n",
              " 'no_msg O O O O B-meal O B-airline_name O B-flight_number O B-fromloc.city_name I-fromloc.city_name O B-toloc.city_name I-toloc.city_name I-toloc.city_name O',\n",
              " 'no_msg O O O O B-flight_mod O O O B-fromloc.city_name O B-toloc.city_name O O O B-return_date.date_relative O',\n",
              " 'no_msg O O O O O O B-fromloc.city_name O B-toloc.city_name O O O O O B-return_date.date_relative O O O O O O O O O B-toloc.city_name O',\n",
              " 'no_msg O O O O O O O B-fromloc.city_name O B-toloc.city_name O O O O O B-fromloc.city_name O O O O O O O O O O O O B-toloc.city_name O O O O O O B-return_date.date_relative O',\n",
              " 'no_msg O O O O B-flight_mod O O B-fromloc.city_name O B-toloc.city_name O O B-flight_mod O O B-toloc.city_name O O O B-return_date.date_relative O',\n",
              " 'no_msg O O O O B-flight_mod B-fromloc.city_name O O O B-flight_mod B-fromloc.city_name O O O O O O O O O O O O O O O O B-toloc.city_name O O O B-toloc.city_name O O O B-return_date.date_relative O',\n",
              " 'no_msg O O O O O O B-fromloc.city_name I-fromloc.city_name O B-toloc.city_name B-round_trip I-round_trip O B-depart_date.day_name B-depart_date.month_name B-depart_date.day_number O O B-toloc.city_name O B-arrive_time.time_relative B-arrive_time.time I-arrive_time.time O O B-arrive_time.period_of_day O O O B-return_date.date_relative O O O B-toloc.city_name I-toloc.city_name O B-arrive_time.time_relative B-arrive_time.time I-arrive_time.time O O B-arrive_time.period_of_day O O O O O O',\n",
              " 'no_msg O O O O B-flight_mod B-fromloc.city_name O O B-toloc.city_name O O B-flight_mod O O O B-fromloc.city_name O O O O O O B-toloc.city_name O O O O O O O O B-toloc.city_name O O B-return_date.date_relative O',\n",
              " 'no_msg O O O O O O O B-fromloc.city_name O B-toloc.city_name O B-airline_name I-airline_name O O B-flight_mod I-flight_mod I-flight_mod O O B-depart_time.period_of_day O',\n",
              " 'no_msg O O O B-flight_mod I-flight_mod O O B-fromloc.city_name O B-toloc.city_name O',\n",
              " 'no_msg O O O O B-flight_mod I-flight_mod O O B-fromloc.city_name O B-toloc.city_name B-toloc.state_code O',\n",
              " 'no_msg O O O B-flight_mod I-flight_mod O O B-fromloc.city_name O B-toloc.city_name B-toloc.state_code O',\n",
              " 'no_msg O B-class_type O B-flight_mod I-flight_mod O B-fromloc.city_name O B-toloc.city_name O',\n",
              " 'no_msg O O O O B-flight_mod I-flight_mod O O B-fromloc.city_name I-fromloc.city_name O B-toloc.city_name I-toloc.city_name O B-depart_date.day_name B-depart_time.period_of_day O B-airline_name I-airline_name O',\n",
              " 'no_msg O O O O O O O O B-fromloc.city_name O B-toloc.city_name O O O O O B-flight_mod I-flight_mod I-flight_mod O',\n",
              " 'no_msg O O O O O O O O B-fromloc.city_name O B-toloc.city_name I-toloc.city_name O O O O O B-flight_mod I-flight_mod I-flight_mod O',\n",
              " 'no_msg O O O O B-flight_mod I-flight_mod O O B-fromloc.city_name O B-toloc.city_name B-toloc.state_code O',\n",
              " 'no_msg O O O B-flight_mod O O O B-fromloc.city_name O O O B-toloc.city_name B-arrive_date.date_relative B-arrive_date.day_name O',\n",
              " 'no_msg O O O O B-fromloc.city_name I-fromloc.city_name I-fromloc.city_name O B-toloc.city_name I-toloc.city_name I-toloc.city_name O B-arrive_date.date_relative B-arrive_date.day_name B-arrive_time.time_relative B-arrive_time.time I-arrive_time.time O',\n",
              " 'no_msg O O O O B-fromloc.city_name I-fromloc.city_name O B-toloc.city_name O O B-toloc.city_name O B-arrive_time.time I-arrive_time.time B-arrive_date.date_relative B-arrive_date.day_name O',\n",
              " 'no_msg O O O O B-fromloc.city_name O O O B-toloc.city_name B-arrive_time.time_relative B-arrive_time.time I-arrive_time.time B-arrive_date.date_relative B-arrive_date.day_name O',\n",
              " 'no_msg O O O O O O O B-fromloc.city_name O O O B-toloc.city_name B-arrive_time.time_relative B-arrive_time.time I-arrive_time.time B-arrive_date.date_relative B-arrive_date.day_name O',\n",
              " 'no_msg O O O O O O O B-fromloc.city_name O O O O O B-toloc.city_name I-toloc.city_name I-toloc.city_name O O O B-arrive_date.date_relative B-arrive_date.day_name B-arrive_time.time_relative B-arrive_time.time I-arrive_time.time O',\n",
              " 'no_msg O O O O B-toloc.city_name I-toloc.city_name I-toloc.city_name B-arrive_date.date_relative B-arrive_date.day_name O',\n",
              " 'no_msg O O O O B-fromloc.city_name O B-toloc.city_name O O O B-arrive_time.time I-arrive_time.time B-arrive_date.date_relative B-arrive_date.day_name O',\n",
              " 'no_msg O O O O O O O O B-toloc.city_name B-arrive_time.time_relative B-arrive_time.time I-arrive_time.time B-arrive_date.date_relative B-arrive_date.day_name O O',\n",
              " 'no_msg O O O O B-restriction_code I-restriction_code O',\n",
              " 'no_msg O O O B-restriction_code I-restriction_code O O',\n",
              " 'no_msg O O O O B-restriction_code I-restriction_code O O',\n",
              " 'no_msg O O O O B-restriction_code I-restriction_code O',\n",
              " 'no_msg O O O O B-restriction_code I-restriction_code O',\n",
              " 'no_msg O O O O B-restriction_code I-restriction_code O',\n",
              " 'no_msg O O O O B-restriction_code I-restriction_code O O',\n",
              " 'no_msg O O O O B-restriction_code I-restriction_code O O',\n",
              " 'no_msg O O O O B-restriction_code I-restriction_code O',\n",
              " 'no_msg O O B-airline_code O B-flight_number O B-fromloc.city_name I-fromloc.city_name O B-toloc.city_name O B-flight_stop I-flight_stop O B-depart_date.today_relative B-depart_time.period_of_day O',\n",
              " 'no_msg O O O O B-flight_mod O O O B-flight_stop I-flight_stop O B-fromloc.city_name O B-toloc.city_name I-toloc.city_name O B-depart_date.day_name O',\n",
              " 'no_msg O O O B-flight_stop I-flight_stop O O B-airline_name I-airline_name B-toloc.city_name O O B-arrive_time.time O B-toloc.city_name O',\n",
              " 'no_msg O O O O O B-fromloc.city_name O B-toloc.city_name I-toloc.city_name O O B-flight_stop I-flight_stop I-flight_stop I-flight_stop O',\n",
              " 'no_msg O O O O O O O O B-airline_name I-airline_name O B-fromloc.city_name O B-toloc.city_name I-toloc.city_name O B-flight_stop I-flight_stop O B-stoploc.city_name O',\n",
              " 'no_msg O O O O O O B-fromloc.city_name O B-toloc.city_name O O B-mod O B-flight_stop I-flight_stop O',\n",
              " 'no_msg O B-fromloc.city_name O B-toloc.city_name I-toloc.city_name O B-flight_stop I-flight_stop O B-stoploc.city_name O O',\n",
              " 'no_msg O O O B-airline_name O B-flight_number O B-fromloc.city_name O B-toloc.city_name O O O O O O O B-fromloc.city_name O B-toloc.city_name B-flight_stop I-flight_stop O O O O',\n",
              " 'no_msg O O O O O O B-fromloc.city_name O B-toloc.city_name O B-flight_stop I-flight_stop O',\n",
              " 'no_msg O O O O O O O O B-fromloc.city_name I-fromloc.city_name O B-toloc.city_name O B-flight_stop I-flight_stop O B-stoploc.city_name O',\n",
              " 'no_msg O O O O O O B-fromloc.city_name O B-toloc.city_name B-toloc.state_name I-toloc.state_name B-depart_date.date_relative B-depart_date.day_name O',\n",
              " 'no_msg O O O B-cost_relative B-round_trip I-round_trip O O B-fromloc.city_name B-fromloc.state_name O B-toloc.city_name B-toloc.state_name I-toloc.state_name O',\n",
              " 'no_msg O O O O O O B-fromloc.city_name I-fromloc.city_name O B-toloc.city_name B-toloc.state_name I-toloc.state_name O O B-depart_date.day_name O',\n",
              " 'no_msg O O O O O O B-fromloc.city_name I-fromloc.city_name O B-toloc.city_name B-toloc.state_name I-toloc.state_name O',\n",
              " 'no_msg O O O O O O B-fromloc.city_name O B-toloc.city_name B-toloc.state_name I-toloc.state_name B-depart_date.date_relative B-depart_date.day_name O',\n",
              " 'no_msg O B-depart_date.day_name B-depart_time.period_of_day O O B-fromloc.city_name O B-toloc.city_name B-toloc.state_name I-toloc.state_name O',\n",
              " 'no_msg O O O O O O B-fromloc.city_name O B-toloc.city_name B-toloc.state_name I-toloc.state_name O O B-depart_date.day_name O O O B-toloc.city_name O',\n",
              " 'no_msg O O O O O O O O B-fromloc.city_name I-fromloc.city_name O B-toloc.city_name B-toloc.state_name I-toloc.state_name O',\n",
              " 'no_msg O O O O O O O O B-fromloc.city_name I-fromloc.city_name O B-toloc.city_name B-toloc.state_name I-toloc.state_name O O O B-stoploc.city_name O',\n",
              " 'no_msg O O O O O O B-fromloc.city_name B-fromloc.state_name O B-toloc.city_name B-toloc.state_name I-toloc.state_name O',\n",
              " 'no_msg O O O O O O B-fromloc.city_name O B-toloc.city_name O O O B-depart_time.start_time O B-depart_time.end_time I-depart_time.end_time O',\n",
              " 'no_msg O O O O O O O B-city_name O B-depart_time.start_time O B-depart_time.end_time I-depart_time.end_time O',\n",
              " 'no_msg O O O O B-cost_relative B-round_trip I-round_trip O O B-fromloc.city_name O B-toloc.city_name O B-fromloc.city_name O B-depart_time.start_time O B-depart_time.end_time I-depart_time.end_time O',\n",
              " 'no_msg O O O O O O B-fromloc.city_name O B-toloc.city_name I-toloc.city_name I-toloc.city_name O B-fromloc.city_name O B-depart_time.start_time O B-depart_time.end_time I-depart_time.end_time O',\n",
              " 'no_msg O O O O O B-fromloc.airport_name I-fromloc.airport_name O B-depart_time.start_time O B-depart_time.end_time I-depart_time.end_time O B-depart_date.month_name B-depart_date.day_number O',\n",
              " 'no_msg O O O O B-airline_name O O B-fromloc.airport_code O B-toloc.city_name O',\n",
              " 'no_msg O O O B-fromloc.airport_name I-fromloc.airport_name B-or B-fromloc.airport_code O B-toloc.city_name O',\n",
              " 'no_msg O O O B-fromloc.airport_code B-or B-fromloc.airport_name I-fromloc.airport_name O B-toloc.city_name O',\n",
              " 'no_msg O O O O O O B-fromloc.airport_code O O',\n",
              " 'no_msg O O O O O B-fromloc.airport_code O B-toloc.city_name I-toloc.city_name I-toloc.city_name O',\n",
              " 'no_msg O O O O B-class_type I-class_type O B-class_type O O B-fromloc.airport_code O B-toloc.city_name O',\n",
              " 'no_msg O B-fromloc.airport_code O B-toloc.city_name O B-depart_date.day_name B-depart_date.month_name B-depart_date.day_number B-depart_date.year O',\n",
              " 'no_msg O O O O B-class_type I-class_type O B-class_type O O B-fromloc.airport_code O B-toloc.city_name O',\n",
              " 'no_msg O O O B-cost_relative B-round_trip I-round_trip O O B-fromloc.airport_code O O O O',\n",
              " 'no_msg O O O O O B-fromloc.airport_code O B-toloc.city_name O',\n",
              " 'no_msg O O O O O O O B-round_trip I-round_trip O B-class_type I-class_type O B-fromloc.airport_code O B-toloc.airport_code O',\n",
              " 'no_msg O O O O O O B-fromloc.airport_code O B-toloc.city_name O',\n",
              " 'no_msg O O O O B-flight_mod O O O O O O B-fromloc.airport_code O B-toloc.city_name B-toloc.airport_name O',\n",
              " 'no_msg O O O O O B-flight_stop O O B-fromloc.airport_code O B-toloc.city_name I-toloc.city_name O B-arrive_date.month_name B-arrive_date.day_number O',\n",
              " 'no_msg O O O O O O O O O O B-fromloc.city_name O O O B-toloc.city_name O',\n",
              " 'no_msg O O O O O O O O B-flight_mod O O B-fromloc.city_name O B-toloc.city_name B-toloc.state_code O',\n",
              " 'no_msg O O O O B-fromloc.city_name O B-toloc.city_name O',\n",
              " 'no_msg O O O O O O O O O B-flight_time O O B-cost_relative O O O O B-cost_relative I-cost_relative B-class_type I-class_type O O B-fromloc.city_name I-fromloc.city_name O B-toloc.city_name O B-depart_time.time_relative B-depart_time.time I-depart_time.time B-depart_date.day_name B-depart_time.period_of_day O',\n",
              " 'no_msg O O O O O O O O B-airline_name O O O B-fromloc.city_name O B-depart_time.time I-depart_time.time O O O B-toloc.city_name I-toloc.city_name O',\n",
              " 'no_msg O O O O B-fromloc.city_name O B-toloc.city_name O B-airline_name O',\n",
              " 'no_msg O O O O O O O O O B-fromloc.city_name O B-toloc.city_name I-toloc.city_name O',\n",
              " 'no_msg O O O O O O O O O O B-fromloc.city_name B-fromloc.state_name O B-toloc.city_name B-toloc.state_name O B-depart_date.day_name O',\n",
              " 'no_msg O O O O B-fromloc.city_name O B-toloc.city_name O B-airline_name O',\n",
              " 'no_msg O O O O B-fromloc.city_name O B-toloc.city_name O',\n",
              " 'no_msg O O O O B-fromloc.city_name O B-toloc.city_name B-depart_date.today_relative O',\n",
              " 'no_msg O O O O B-fromloc.city_name O B-toloc.city_name O',\n",
              " 'no_msg O O O O O O O O O O B-depart_date.day_name B-depart_time.time_relative B-depart_time.time I-depart_time.time O B-fromloc.city_name O O B-toloc.city_name I-toloc.city_name I-toloc.city_name O',\n",
              " 'no_msg O O O O O O O O B-toloc.city_name I-toloc.city_name I-toloc.city_name O B-fromloc.city_name B-arrive_time.time_relative B-arrive_time.time O',\n",
              " 'no_msg O O O O B-airline_name I-airline_name O B-fromloc.city_name O B-toloc.city_name O',\n",
              " 'no_msg O O O O O O O O O O O O B-fromloc.city_name I-fromloc.city_name O B-toloc.city_name O B-stoploc.city_name O',\n",
              " 'no_msg O O B-transport_type I-transport_type O O B-depart_date.date_relative B-depart_date.day_name O B-fromloc.airport_name I-fromloc.airport_name O',\n",
              " 'no_msg O O O O B-transport_type I-transport_type O O B-airport_name I-airport_name O O O O O O O',\n",
              " 'no_msg O O O O O B-transport_type I-transport_type O B-city_name O',\n",
              " 'no_msg O O O O B-transport_type I-transport_type O O B-city_name O',\n",
              " 'no_msg O B-transport_type I-transport_type O B-city_name O',\n",
              " 'no_msg O O O O O O B-transport_type I-transport_type O B-city_name O',\n",
              " 'no_msg O O O O O O B-transport_type I-transport_type O B-city_name O',\n",
              " 'no_msg O O O O B-transport_type I-transport_type O O B-city_name I-city_name O',\n",
              " 'no_msg O O O O B-transport_type I-transport_type O B-city_name O',\n",
              " 'no_msg O O O O B-transport_type I-transport_type O O B-airport_name I-airport_name O',\n",
              " 'no_msg O O O O O B-transport_type I-transport_type O B-city_name O',\n",
              " 'no_msg O O O B-transport_type I-transport_type O O B-airport_name I-airport_name O',\n",
              " 'no_msg O O O O O O B-city_name B-transport_type I-transport_type O',\n",
              " 'no_msg O O O O B-transport_type I-transport_type O B-city_name O',\n",
              " 'no_msg O O O O O O O B-transport_type I-transport_type I-transport_type O B-airport_name I-airport_name I-airport_name O',\n",
              " 'no_msg O O O O O O B-transport_type I-transport_type O O B-airport_name I-airport_name O',\n",
              " 'no_msg O O O B-restriction_code O O',\n",
              " 'no_msg O O O B-restriction_code O',\n",
              " 'no_msg O O O B-restriction_code O O',\n",
              " 'no_msg O O O O O O O B-restriction_code O',\n",
              " 'no_msg O O O O O B-flight_days O O O B-toloc.city_name O B-arrive_time.start_time O B-arrive_time.end_time I-arrive_time.end_time O',\n",
              " 'no_msg O O O O O O B-toloc.city_name O B-fromloc.city_name O B-arrive_time.start_time O B-arrive_time.end_time I-arrive_time.end_time O',\n",
              " 'no_msg O O B-cost_relative O O B-fromloc.city_name O B-toloc.city_name O O O B-arrive_time.start_time O B-arrive_time.end_time I-arrive_time.end_time O B-arrive_date.day_name O',\n",
              " 'no_msg O O O O O B-fromloc.city_name I-fromloc.city_name O B-toloc.city_name I-toloc.city_name B-toloc.state_name O O O B-arrive_date.month_name B-arrive_date.day_number O B-arrive_time.start_time O B-arrive_time.end_time I-arrive_time.end_time O',\n",
              " 'no_msg O O O B-fromloc.city_name O B-toloc.city_name O O B-arrive_time.start_time O B-arrive_time.end_time I-arrive_time.end_time O',\n",
              " 'no_msg O O O O B-fromloc.city_name O B-toloc.city_name O O B-arrive_time.start_time O B-arrive_time.end_time I-arrive_time.end_time O',\n",
              " 'no_msg O O O O O O B-fromloc.city_name O B-toloc.city_name O O O B-arrive_time.start_time O B-arrive_time.end_time I-arrive_time.end_time O',\n",
              " 'no_msg O O B-flight_stop O O O O B-fromloc.city_name O B-toloc.city_name O O B-arrive_time.start_time O B-arrive_time.end_time I-arrive_time.end_time O',\n",
              " 'no_msg O O O O O O B-toloc.city_name O B-arrive_time.start_time O B-arrive_time.end_time I-arrive_time.end_time O',\n",
              " 'no_msg O O O O O O O B-airline_name I-airline_name O B-airline_code O B-fromloc.city_name I-fromloc.city_name O B-toloc.airport_code O O B-depart_date.day_name O',\n",
              " 'no_msg O O O B-fromloc.airport_name I-fromloc.airport_name O B-toloc.airport_code O',\n",
              " 'no_msg O O O B-cost_relative B-round_trip I-round_trip O O B-fromloc.city_name O B-toloc.airport_code O',\n",
              " 'no_msg O O O O B-round_trip O O B-fromloc.city_name O B-toloc.airport_code O O',\n",
              " 'no_msg O O O O O O B-fromloc.city_name O B-toloc.airport_code O',\n",
              " 'no_msg O O O O B-flight_mod O O B-fromloc.airport_name O B-toloc.airport_code O',\n",
              " 'no_msg O O O O O O B-fromloc.city_name O B-toloc.airport_code O',\n",
              " 'no_msg O O O O B-cost_relative O O B-fromloc.city_name O B-toloc.airport_code O',\n",
              " 'no_msg O O O B-fromloc.city_name O B-toloc.airport_code O',\n",
              " 'no_msg O O O O O O O O B-fromloc.city_name O B-toloc.airport_code O',\n",
              " 'no_msg O O O O O O B-flight_time O O O B-airline_name O B-airline_name O B-toloc.airport_code O B-depart_date.month_name B-depart_date.day_number O',\n",
              " 'no_msg O O O B-flight_mod O O B-fromloc.city_name O B-toloc.airport_code O O B-meal_description O',\n",
              " 'no_msg O O O O O B-fromloc.city_name O B-toloc.airport_code O',\n",
              " 'no_msg O O O O O O B-depart_date.day_name B-depart_time.period_of_day B-or B-depart_date.day_name B-depart_time.period_of_day O B-fromloc.city_name O B-toloc.airport_code O',\n",
              " 'no_msg O O O O O O O O B-fromloc.city_name O B-toloc.airport_code O O B-airline_name I-airline_name O',\n",
              " 'no_msg O O B-airline_name I-airline_name O B-depart_time.period_mod O O B-depart_time.period_of_day O B-fromloc.airport_name O B-toloc.airport_code O',\n",
              " 'no_msg O O O O O O B-depart_date.day_name B-depart_time.period_of_day O B-fromloc.city_name O B-toloc.airport_code O',\n",
              " 'no_msg O O B-city_name O',\n",
              " 'no_msg O O O O O O O B-airline_name I-airline_name O',\n",
              " 'no_msg O O O B-airport_name I-airport_name I-airport_name O',\n",
              " 'no_msg O O O O B-airline_name O O',\n",
              " 'no_msg O O O O O O O B-airline_name I-airline_name I-airline_name O',\n",
              " 'no_msg O O O O O O O O O O O B-fromloc.city_name O B-toloc.city_name O O O O O O O B-depart_time.time_relative O B-depart_time.time O O B-depart_time.period_of_day O',\n",
              " 'no_msg O O O O B-airline_name O O O',\n",
              " 'no_msg O O O B-airport_name I-airport_name I-airport_name O O',\n",
              " 'no_msg O O O B-airport_code O',\n",
              " 'no_msg O O O O B-airline_name I-airline_name O O',\n",
              " 'no_msg O O O O O O O B-airline_name O B-airline_name I-airline_name I-airline_name O',\n",
              " 'no_msg O O O O O O O B-airline_name O O O',\n",
              " 'no_msg O O O O O O B-airline_name O O',\n",
              " 'no_msg O O O O O B-city_name O O',\n",
              " 'no_msg O O O O B-airport_code O',\n",
              " 'no_msg O O O O O O B-airline_name I-airline_name I-airline_name O',\n",
              " 'no_msg O O O O O O O B-airline_name O',\n",
              " 'no_msg O O O O B-airline_name I-airline_name O O O B-toloc.city_name O B-arrive_time.start_time O B-arrive_time.end_time O O B-arrive_time.period_of_day O',\n",
              " 'no_msg O O O O O B-airline_name O O O O O B-toloc.city_name O B-depart_time.start_time O B-depart_time.end_time O O B-depart_time.period_of_day O',\n",
              " 'no_msg O O O O O B-airline_name I-airline_name O O B-fromloc.city_name O B-depart_time.start_time O B-depart_time.end_time O O B-depart_time.period_of_day O',\n",
              " 'no_msg O O O O O B-airline_name O O B-fromloc.city_name O B-depart_time.start_time O B-depart_time.end_time O O B-depart_time.period_of_day O',\n",
              " 'no_msg O O O O B-airline_name I-airline_name O O O B-toloc.city_name O B-depart_time.start_time O B-depart_time.end_time O O B-depart_time.period_of_day O',\n",
              " 'no_msg O O O O O O O B-flight_stop O B-fromloc.city_name O B-toloc.city_name O O O B-depart_time.start_time O B-depart_time.end_time O O B-depart_time.period_of_day O',\n",
              " 'no_msg O O O O O O B-transport_type O B-city_name O',\n",
              " 'no_msg O O O O O O O O O B-city_name O',\n",
              " 'no_msg O O O O O B-transport_type O O B-airport_name I-airport_name O',\n",
              " 'no_msg O O O O O B-transport_type O O B-airport_name I-airport_name O',\n",
              " 'no_msg O O O O O B-transport_type O O B-city_name O',\n",
              " 'no_msg O O O O O B-transport_type O B-fromloc.airport_name I-fromloc.airport_name I-fromloc.airport_name I-fromloc.airport_name I-fromloc.airport_name O B-toloc.city_name O',\n",
              " 'no_msg O O O O O B-transport_type O O B-city_name O',\n",
              " 'no_msg O O O O O O O O B-fromloc.city_name O O O',\n",
              " 'no_msg O O O O B-transport_type O O B-city_name I-city_name O',\n",
              " 'no_msg O O O O O O O O O B-transport_type O B-city_name O',\n",
              " 'no_msg O O O O O B-city_name I-city_name B-transport_type O O',\n",
              " 'no_msg O O O O O O B-transport_type O O B-airport_name I-airport_name O',\n",
              " 'no_msg O O O O O B-transport_type O O B-fromloc.city_name I-fromloc.city_name B-fromloc.airport_name I-fromloc.airport_name O',\n",
              " 'no_msg O O O O O O O O O B-toloc.city_name O O O B-arrive_time.start_time O B-arrive_time.period_of_day O',\n",
              " 'no_msg O O O B-fromloc.city_name O B-toloc.city_name I-toloc.city_name O B-depart_date.month_name B-depart_date.day_number I-depart_date.day_number B-depart_date.year O',\n",
              " 'no_msg O O O O O B-round_trip I-round_trip O B-fromloc.city_name I-fromloc.city_name O B-toloc.city_name B-toloc.state_name O O O O B-stoploc.city_name I-stoploc.city_name B-cost_relative I-cost_relative O O O B-fare_amount I-fare_amount O B-depart_date.month_name B-depart_date.day_number B-depart_date.year O',\n",
              " 'no_msg O O O O O O O B-depart_time.time O B-fromloc.city_name O B-toloc.city_name O B-depart_date.month_name B-depart_date.day_number I-depart_date.day_number B-depart_date.year O',\n",
              " 'no_msg O O O O O O B-fromloc.city_name O B-toloc.city_name I-toloc.city_name O O B-depart_time.period_of_day O B-depart_date.month_name B-depart_date.day_number B-depart_date.year O',\n",
              " 'no_msg O O O O O O B-fromloc.city_name O B-toloc.city_name O B-depart_date.month_name B-depart_date.day_number B-depart_date.year O',\n",
              " 'no_msg O O O O B-cost_relative B-round_trip I-round_trip O O B-fromloc.city_name I-fromloc.city_name O B-toloc.city_name O B-depart_date.month_name B-depart_date.day_number I-depart_date.day_number B-depart_date.year O',\n",
              " 'no_msg O O B-class_type I-class_type O O O O B-depart_date.month_name B-depart_date.day_number I-depart_date.day_number B-depart_date.year O B-fromloc.city_name O B-toloc.city_name O',\n",
              " 'no_msg O O O O O O B-fromloc.city_name O B-toloc.city_name O B-depart_date.month_name B-depart_date.day_number I-depart_date.day_number B-depart_date.year O O B-mod O O O O',\n",
              " 'no_msg O O O O O O B-depart_date.month_name B-depart_date.day_number B-depart_date.year O B-fromloc.city_name O B-toloc.city_name I-toloc.city_name O',\n",
              " 'no_msg O O O O O O O O O O B-fromloc.city_name O B-toloc.city_name B-depart_date.month_name B-depart_date.day_number I-depart_date.day_number B-depart_date.year O',\n",
              " 'no_msg O O O O O O B-fromloc.city_name O B-toloc.city_name O B-depart_date.month_name B-depart_date.day_number I-depart_date.day_number B-depart_date.year O',\n",
              " 'no_msg O O O O O O O B-fromloc.city_name I-fromloc.city_name O B-toloc.city_name O B-depart_date.month_name B-depart_date.day_number I-depart_date.day_number B-depart_date.year O',\n",
              " 'no_msg O O O O O B-fromloc.city_name O B-toloc.city_name I-toloc.city_name O B-depart_date.month_name B-depart_date.day_number I-depart_date.day_number B-depart_date.year O',\n",
              " 'no_msg O O B-economy O O O O B-fromloc.city_name O B-toloc.city_name O B-depart_date.month_name B-depart_date.day_number I-depart_date.day_number B-depart_date.year O',\n",
              " 'no_msg O O B-class_type I-class_type O O O O B-fromloc.city_name O B-toloc.city_name O B-depart_date.month_name B-depart_date.day_number I-depart_date.day_number B-depart_date.year O',\n",
              " 'no_msg O O O O O O B-fromloc.city_name O B-toloc.city_name O B-depart_date.month_name B-depart_date.day_number B-depart_date.year O',\n",
              " 'no_msg O O O O B-cost_relative B-round_trip I-round_trip O O B-fromloc.city_name I-fromloc.city_name O B-toloc.city_name O B-depart_date.month_name B-depart_date.day_number I-depart_date.day_number B-depart_date.year O',\n",
              " 'no_msg O O O O O O O B-fromloc.city_name O B-toloc.city_name O B-depart_date.month_name B-depart_date.day_number B-depart_date.year O',\n",
              " 'no_msg O O O O B-depart_date.month_name B-depart_date.day_number I-depart_date.day_number B-depart_date.year O B-fromloc.city_name O B-toloc.city_name I-toloc.city_name O',\n",
              " 'no_msg O O O O O B-flight_time I-flight_time I-flight_time O O O O B-toloc.city_name I-toloc.city_name I-toloc.city_name O B-fromloc.city_name B-arrive_time.time_relative B-arrive_time.time O',\n",
              " 'no_msg O O O O B-flight_time I-flight_time O B-fromloc.city_name O B-toloc.city_name O',\n",
              " 'no_msg O O B-airline_name I-airline_name O O O B-flight_time I-flight_time O B-fromloc.city_name O B-toloc.city_name O',\n",
              " 'no_msg O O O O O O B-fromloc.city_name O B-toloc.city_name O O O O B-flight_time I-flight_time I-flight_time I-flight_time O O B-depart_time.period_of_day B-depart_time.time_relative B-depart_time.time I-depart_time.time O',\n",
              " 'no_msg O O O O B-flight_time I-flight_time I-flight_time O B-fromloc.city_name O B-toloc.city_name O O B-depart_time.period_of_day O B-depart_date.month_name B-depart_date.day_number O',\n",
              " 'no_msg O O O O B-flight_time I-flight_time O B-fromloc.city_name O B-toloc.city_name O',\n",
              " 'no_msg O B-airline_name I-airline_name B-flight_number O B-fromloc.city_name O B-depart_time.time O O O B-flight_time I-flight_time O B-toloc.city_name O',\n",
              " 'no_msg O O O O B-flight_time I-flight_time O B-fromloc.city_name O B-toloc.city_name O',\n",
              " 'no_msg O O O O B-flight_time I-flight_time O B-fromloc.city_name O B-toloc.city_name I-toloc.city_name O',\n",
              " 'no_msg O O O O B-flight_mod B-flight_time I-flight_time O B-fromloc.city_name O B-toloc.city_name O',\n",
              " 'no_msg O O O O B-flight_days B-flight_time I-flight_time O B-fromloc.city_name O B-toloc.city_name O',\n",
              " 'no_msg O O O O O O B-flight_time I-flight_time O O B-depart_time.period_of_day O B-depart_date.month_name B-depart_date.day_number O B-fromloc.city_name O B-toloc.city_name I-toloc.city_name O',\n",
              " 'no_msg O O O O B-flight_time I-flight_time O B-fromloc.city_name O B-toloc.city_name O',\n",
              " 'no_msg O O O O B-flight_time I-flight_time O O B-aircraft_code O B-fromloc.city_name O B-toloc.city_name O',\n",
              " 'no_msg O O O O B-flight_time I-flight_time O B-fromloc.city_name I-fromloc.city_name O O B-depart_time.time I-depart_time.time O O B-fromloc.city_name O',\n",
              " 'no_msg O O O O O O B-fromloc.city_name I-fromloc.city_name O B-toloc.city_name O B-depart_date.month_name B-depart_date.day_number O B-flight_time I-flight_time B-depart_time.time_relative B-depart_time.time I-depart_time.time O',\n",
              " 'no_msg O O O O O B-flight_time I-flight_time O O O B-fromloc.city_name I-fromloc.city_name I-fromloc.city_name O B-toloc.city_name B-depart_time.time_relative B-depart_time.time I-depart_time.time O',\n",
              " 'no_msg O O O O B-flight_time I-flight_time O B-fromloc.city_name O B-toloc.city_name I-toloc.city_name O B-depart_date.day_name B-depart_time.period_of_day O',\n",
              " 'no_msg O O O O B-flight_time I-flight_time O B-fromloc.city_name O B-toloc.city_name I-toloc.city_name O',\n",
              " 'no_msg O O O O O B-flight_time I-flight_time O B-depart_time.period_of_day O B-airline_name I-airline_name O B-depart_date.month_name B-depart_date.day_number O B-fromloc.city_name O B-toloc.city_name I-toloc.city_name O',\n",
              " 'no_msg O O O O O B-fromloc.city_name O B-toloc.city_name O',\n",
              " 'no_msg O O O O O O O O O O O B-fromloc.city_name O B-toloc.city_name O O O O',\n",
              " 'no_msg O O O O B-round_trip I-round_trip O B-fromloc.city_name O B-toloc.city_name B-toloc.state_code O O O O O O B-depart_time.period_of_day O',\n",
              " 'no_msg O O O O O O O O B-fromloc.city_name O B-toloc.city_name O O B-depart_date.day_name B-depart_time.period_of_day O',\n",
              " 'no_msg O O O O O O B-fromloc.city_name O',\n",
              " 'no_msg O O O O O O O O B-fromloc.city_name O B-toloc.city_name I-toloc.city_name O',\n",
              " 'no_msg O O O O O O O O B-fromloc.city_name O B-toloc.city_name O',\n",
              " 'no_msg O O O O O O O O B-fromloc.city_name O B-toloc.city_name O',\n",
              " 'no_msg O O O O O O O B-fromloc.city_name O B-toloc.city_name I-toloc.city_name O',\n",
              " 'no_msg O O O O O B-fromloc.city_name I-fromloc.city_name O B-toloc.city_name O B-depart_date.date_relative B-depart_date.day_name O O B-toloc.city_name B-arrive_time.time_relative B-arrive_time.time I-arrive_time.time O',\n",
              " 'no_msg O O O O O O B-fromloc.city_name O B-toloc.city_name O B-airline_name I-airline_name O B-flight_number O O B-depart_date.day_name O',\n",
              " 'no_msg O O O O O O B-fromloc.city_name O B-toloc.city_name B-round_trip I-round_trip B-depart_time.time_relative B-depart_time.time I-depart_time.time B-cost_relative O B-fare_amount I-fare_amount O',\n",
              " 'no_msg O O O O B-round_trip I-round_trip O O B-fromloc.city_name I-fromloc.city_name O B-toloc.city_name B-toloc.state_code O O O O',\n",
              " 'no_msg O O O B-depart_date.day_name O O B-fromloc.city_name O B-toloc.city_name O O O O',\n",
              " 'no_msg O O O O O O O O B-fromloc.city_name O B-toloc.city_name O O B-depart_date.day_name B-depart_time.period_of_day O',\n",
              " 'no_msg O O O O O O O O O B-fromloc.city_name O B-toloc.city_name I-toloc.city_name I-toloc.city_name O B-depart_date.day_name B-depart_time.time_relative B-depart_time.time I-depart_time.time O',\n",
              " 'no_msg O O O O O O O O O O O B-fromloc.city_name O B-toloc.city_name O',\n",
              " 'no_msg O B-flight_mod O O O O B-fromloc.city_name O B-toloc.city_name O O B-depart_date.day_name O',\n",
              " 'no_msg O O O O O O O O O O B-round_trip I-round_trip O O B-fromloc.city_name O B-toloc.city_name O O O O O O O O O O O O O B-cost_relative O O',\n",
              " 'no_msg O O O O B-flight_stop O O O O B-fromloc.city_name O B-toloc.city_name I-toloc.city_name O',\n",
              " 'no_msg O O O O O O O O B-depart_date.month_name B-depart_date.day_number I-depart_date.day_number O B-fromloc.city_name O B-toloc.city_name O',\n",
              " 'no_msg O O O B-airport_code O O',\n",
              " 'no_msg O O O B-airport_code O O',\n",
              " 'no_msg O O O B-airport_code O O',\n",
              " 'no_msg O O O B-airport_code O O',\n",
              " 'no_msg O O O B-airport_code O',\n",
              " 'no_msg O O O O O O O B-airport_code O O B-city_name O',\n",
              " 'no_msg O O O B-airport_code O',\n",
              " 'no_msg O O O B-airport_code O O O',\n",
              " 'no_msg O O O B-airport_code O',\n",
              " 'no_msg O O O B-airport_code O',\n",
              " 'no_msg O O O B-airport_code O O',\n",
              " 'no_msg O O O B-airport_code O',\n",
              " 'no_msg O O O O O O O B-airport_code O B-city_name I-city_name I-city_name O',\n",
              " 'no_msg O O O B-airport_code O O O',\n",
              " 'no_msg O O O B-airport_code O',\n",
              " 'no_msg O O O O O O B-airport_code O B-city_name O',\n",
              " 'no_msg O O O B-airport_code O O',\n",
              " 'no_msg O O O O O O B-airport_code O B-city_name I-city_name I-city_name O',\n",
              " 'no_msg O O O B-airport_code O',\n",
              " 'no_msg O O O B-airport_code O',\n",
              " 'no_msg O O O O O O O O O B-fromloc.airport_name I-fromloc.airport_name O O O O B-toloc.city_name O',\n",
              " 'no_msg O O O O O O B-fromloc.airport_name I-fromloc.airport_name O B-toloc.city_name I-toloc.city_name O O',\n",
              " 'no_msg O O O O O O O B-fromloc.city_name O B-toloc.city_name I-toloc.city_name O B-depart_time.time O B-depart_date.month_name B-depart_date.day_number O',\n",
              " 'no_msg O O O O B-city_name I-city_name B-airport_name I-airport_name O O O',\n",
              " 'no_msg O O O O O O O O O B-fromloc.city_name I-fromloc.city_name O B-toloc.city_name I-toloc.city_name O',\n",
              " 'no_msg O O O O O O O B-fromloc.airport_name I-fromloc.airport_name I-fromloc.airport_name I-fromloc.airport_name O B-toloc.city_name I-toloc.city_name O O',\n",
              " 'no_msg O O O O O O B-fromloc.airport_name I-fromloc.airport_name I-fromloc.airport_name I-fromloc.airport_name O B-toloc.city_name I-toloc.city_name O',\n",
              " 'no_msg O O O O O O B-fromloc.airport_name I-fromloc.airport_name I-fromloc.airport_name I-fromloc.airport_name O B-toloc.city_name I-toloc.city_name O',\n",
              " 'no_msg O O O O O O B-fromloc.airport_name I-fromloc.airport_name O B-toloc.city_name O',\n",
              " 'no_msg O O O O O O O B-fromloc.city_name I-fromloc.city_name B-fromloc.airport_name I-fromloc.airport_name I-fromloc.airport_name O O B-city_name I-city_name I-city_name O',\n",
              " 'no_msg O O O O O O O O B-fromloc.airport_name I-fromloc.airport_name I-fromloc.airport_name I-fromloc.airport_name O B-fromloc.city_name O',\n",
              " 'no_msg O O O O O O B-fromloc.airport_name I-fromloc.airport_name O O B-toloc.city_name O',\n",
              " 'no_msg O O O O B-fromloc.airport_name I-fromloc.airport_name O O O',\n",
              " 'no_msg O O O O B-airport_name I-airport_name I-airport_name O O O',\n",
              " 'no_msg O O O O O O O B-fromloc.city_name I-fromloc.city_name O',\n",
              " 'no_msg O O O O O O O O O B-fromloc.city_name O B-toloc.city_name O',\n",
              " 'no_msg O O O O O O O O B-city_name I-city_name O',\n",
              " 'no_msg O O O O O O B-fromloc.airport_name I-fromloc.airport_name I-fromloc.airport_name I-fromloc.airport_name O B-toloc.city_name I-toloc.city_name I-toloc.city_name O',\n",
              " 'no_msg O O O O O O O O B-fromloc.city_name O',\n",
              " 'no_msg O O O O O O O O O B-fromloc.city_name O',\n",
              " 'no_msg O O O O O O O B-fromloc.airport_name I-fromloc.airport_name O O B-city_name O',\n",
              " 'no_msg O O O O O O B-fromloc.airport_name I-fromloc.airport_name I-fromloc.airport_name O B-toloc.city_name O',\n",
              " 'no_msg O O O O O O O B-fromloc.airport_name I-fromloc.airport_name O O B-toloc.city_name O',\n",
              " 'no_msg O O O O O O B-fromloc.airport_name I-fromloc.airport_name O B-toloc.city_name O',\n",
              " 'no_msg O O O O',\n",
              " 'no_msg O O O B-airport_name I-airport_name O O O O',\n",
              " 'no_msg O O O O O O O B-city_name O',\n",
              " 'no_msg O O O O O O O B-airline_name I-airline_name O',\n",
              " 'no_msg O O O O B-city_name O',\n",
              " 'no_msg O O O O B-city_name I-city_name O',\n",
              " 'no_msg O O O O O O O B-city_name I-city_name O',\n",
              " 'no_msg O O O B-city_name I-city_name O',\n",
              " 'no_msg O O O O O B-airport_name I-airport_name I-airport_name O',\n",
              " 'no_msg O O O O O B-city_name O',\n",
              " 'no_msg O O O O O O O O B-city_name I-city_name I-city_name O O',\n",
              " 'no_msg O O O O O B-city_name O',\n",
              " 'no_msg O O O O O B-city_name O',\n",
              " 'no_msg O O O O O',\n",
              " 'no_msg O O O O O O O O O B-city_name O',\n",
              " 'no_msg O O O O O O B-airport_name I-airport_name O',\n",
              " 'no_msg O O O O O O O O O O B-city_name I-city_name O',\n",
              " 'no_msg O O B-airport_name I-airport_name O',\n",
              " 'no_msg O O O O B-fromloc.city_name O B-toloc.city_name O B-depart_date.month_name B-depart_date.day_number O O B-mod O O O',\n",
              " 'no_msg O O O O O O O B-mod O O O O B-fromloc.city_name O O O B-toloc.city_name O B-arrive_date.month_name B-arrive_date.day_number O',\n",
              " 'no_msg O O O O O B-mod O O O',\n",
              " 'no_msg O O O B-mod O O O O B-fromloc.city_name O B-toloc.city_name O B-depart_time.time O O',\n",
              " 'no_msg O O O O O O O O B-mod O O B-fromloc.city_name O',\n",
              " 'no_msg O O O B-mod O O O B-fromloc.city_name O B-toloc.city_name O B-depart_date.month_name B-depart_date.day_number O',\n",
              " 'no_msg O O O O O B-mod O O B-toloc.city_name O',\n",
              " 'no_msg O O O O O O O O B-mod O O O',\n",
              " 'no_msg O O O O B-mod O O O O O O B-fromloc.city_name O B-toloc.city_name O',\n",
              " 'no_msg O O O O B-mod B-class_type I-class_type O O O O O O',\n",
              " 'no_msg O O O O B-mod O O O O O O B-airline_name I-airline_name O',\n",
              " 'no_msg O O O O O B-mod B-class_type I-class_type O O',\n",
              " 'no_msg O O O O B-flight_mod O B-depart_date.today_relative O B-fromloc.city_name I-fromloc.city_name O B-toloc.city_name O O O B-mod O B-airline_code O',\n",
              " 'no_msg O O O O B-mod O O O O B-fromloc.city_name O B-toloc.city_name O O B-arrive_date.month_name B-arrive_date.day_number O',\n",
              " 'no_msg O O O O B-mod O O O O B-fromloc.city_name O B-toloc.city_name O B-arrive_date.month_name B-arrive_date.day_number O',\n",
              " 'no_msg O B-mod O B-fromloc.city_name O O O O O O O B-fromloc.city_name O B-toloc.city_name I-toloc.city_name O O O B-stoploc.city_name I-stoploc.city_name I-stoploc.city_name O',\n",
              " 'no_msg O O O O O O O O B-mod O O B-toloc.city_name O',\n",
              " 'no_msg O O O B-mod B-airline_name O O B-fromloc.city_name O B-toloc.city_name O',\n",
              " 'no_msg O O O O B-mod O O O O O',\n",
              " 'no_msg O O O O B-flight_mod O O B-fromloc.city_name O B-toloc.city_name I-toloc.city_name B-mod B-airline_name O B-flight_number O',\n",
              " 'no_msg O O O O O O O O B-mod O O O O O O',\n",
              " 'no_msg O O O O O O B-fromloc.city_name I-fromloc.city_name O B-toloc.airport_name I-toloc.airport_name B-flight_stop O',\n",
              " 'no_msg O O O O O O O O O B-toloc.airport_name I-toloc.airport_name I-toloc.airport_name O',\n",
              " 'no_msg O O O O O B-toloc.airport_name I-toloc.airport_name O B-arrive_date.month_name B-arrive_date.day_number O',\n",
              " 'no_msg O O O B-class_type I-class_type O B-airline_name O B-fromloc.city_name I-fromloc.city_name I-fromloc.city_name O B-toloc.airport_name I-toloc.airport_name I-toloc.airport_name O',\n",
              " 'no_msg O O O O O O O B-toloc.airport_name I-toloc.airport_name O O O O O',\n",
              " 'no_msg O O O O O O B-toloc.airport_name I-toloc.airport_name O O O O O',\n",
              " 'no_msg O O O O O O B-fromloc.city_name I-fromloc.city_name O B-toloc.airport_name I-toloc.airport_name O O O B-arrive_date.day_name B-arrive_time.time_relative B-arrive_time.time I-arrive_time.time O',\n",
              " 'no_msg O O O O O O O O O B-toloc.airport_name I-toloc.airport_name O',\n",
              " 'no_msg O O O O O O B-toloc.airport_name I-toloc.airport_name O',\n",
              " 'no_msg O O O O O O B-fromloc.city_name O B-toloc.airport_name I-toloc.airport_name O',\n",
              " 'no_msg O O O O O O O B-toloc.airport_name I-toloc.airport_name O O O O',\n",
              " 'no_msg O O O O O O O O O B-fromloc.city_name O B-toloc.airport_name I-toloc.airport_name B-depart_date.date_relative B-depart_date.day_name O',\n",
              " 'no_msg O O O O O O O B-toloc.airport_name I-toloc.airport_name O',\n",
              " 'no_msg O O O O O O O O B-toloc.airport_name I-toloc.airport_name I-toloc.airport_name O',\n",
              " 'no_msg O O O O O O B-toloc.airport_name I-toloc.airport_name I-toloc.airport_name O',\n",
              " 'no_msg O O O O O O O O B-toloc.airport_name I-toloc.airport_name I-toloc.airport_name I-toloc.airport_name O',\n",
              " 'no_msg O O O O O O B-fromloc.city_name O B-toloc.airport_name I-toloc.airport_name O O O B-arrive_date.day_name B-arrive_time.time_relative B-arrive_time.time I-arrive_time.time O',\n",
              " 'no_msg O O O O O O B-toloc.airport_name I-toloc.airport_name I-toloc.airport_name O',\n",
              " 'no_msg O O O O O O O O O O B-fromloc.city_name O B-toloc.airport_name I-toloc.airport_name B-depart_date.date_relative B-depart_date.day_name O',\n",
              " 'no_msg O O O O O B-toloc.airport_name I-toloc.airport_name I-toloc.airport_name O',\n",
              " 'no_msg O O O O O O B-fromloc.city_name O B-toloc.airport_name I-toloc.airport_name B-depart_date.date_relative B-depart_date.day_name O',\n",
              " 'no_msg O O O O O O O O B-toloc.airport_name I-toloc.airport_name I-toloc.airport_name O O O O',\n",
              " 'no_msg O O O O O O O B-toloc.airport_name I-toloc.airport_name O O O O',\n",
              " 'no_msg O O O O B-flight_mod O O B-toloc.airport_name I-toloc.airport_name O',\n",
              " 'no_msg O O O O O O O O B-toloc.airport_name I-toloc.airport_name O O B-fromloc.city_name O',\n",
              " 'no_msg O O O O O O B-fromloc.city_name I-fromloc.city_name O B-toloc.airport_name O O B-aircraft_code O',\n",
              " 'no_msg O O O O O B-fromloc.city_name I-fromloc.city_name O B-toloc.city_name O O B-depart_date.day_name O O B-flight_stop O O B-cost_relative O B-fare_amount I-fare_amount O',\n",
              " 'no_msg O O O O O B-round_trip I-round_trip O O B-fare_amount I-fare_amount O B-fromloc.city_name O B-toloc.city_name O',\n",
              " 'no_msg O O O O O O B-fromloc.city_name I-fromloc.city_name O B-toloc.city_name O O B-depart_date.day_name O B-round_trip I-round_trip O B-cost_relative B-fare_amount I-fare_amount O',\n",
              " 'no_msg O B-round_trip I-round_trip O O B-fromloc.city_name O B-toloc.city_name B-cost_relative O B-fare_amount I-fare_amount O',\n",
              " 'no_msg O O O O O O B-fromloc.city_name O B-toloc.city_name I-toloc.city_name O O B-cost_relative O B-fare_amount I-fare_amount B-round_trip I-round_trip O',\n",
              " 'no_msg O O B-flight_stop O O B-fromloc.city_name I-fromloc.city_name O B-toloc.city_name O O B-arrive_date.day_name O O B-cost_relative O B-fare_amount I-fare_amount B-round_trip I-round_trip O',\n",
              " 'no_msg O O O O O O B-fromloc.city_name I-fromloc.city_name O B-toloc.city_name O O B-depart_date.day_name O B-round_trip I-round_trip O B-cost_relative O B-fare_amount I-fare_amount O',\n",
              " 'no_msg O B-round_trip I-round_trip O O O B-fromloc.city_name O B-toloc.city_name B-cost_relative O B-fare_amount I-fare_amount O',\n",
              " 'no_msg O B-round_trip I-round_trip O O B-fromloc.city_name O B-toloc.city_name B-cost_relative O B-fare_amount I-fare_amount O',\n",
              " 'no_msg O O O O O B-fromloc.city_name O B-toloc.city_name O O B-cost_relative O B-fare_amount I-fare_amount O',\n",
              " 'no_msg O O O B-fromloc.city_name O B-toloc.city_name O O B-round_trip I-round_trip O O B-cost_relative O B-fare_amount I-fare_amount O',\n",
              " 'no_msg O B-round_trip I-round_trip O O B-fromloc.city_name O B-toloc.city_name B-cost_relative B-fare_amount I-fare_amount O',\n",
              " 'no_msg O O O B-depart_time.period_of_day O O O B-fare_amount I-fare_amount O B-fromloc.city_name O B-toloc.city_name O',\n",
              " 'no_msg O B-round_trip I-round_trip O O B-fromloc.city_name O B-toloc.city_name B-cost_relative O B-fare_amount I-fare_amount B-round_trip I-round_trip O O B-fromloc.city_name O B-toloc.city_name B-cost_relative O B-fare_amount I-fare_amount B-round_trip I-round_trip O O B-fromloc.city_name O B-toloc.city_name B-cost_relative O B-fare_amount I-fare_amount O',\n",
              " 'no_msg O O O B-flight_stop O O B-fromloc.city_name O B-toloc.city_name I-toloc.city_name O O B-arrive_date.day_name O O O O O O B-cost_relative O B-fare_amount I-fare_amount O',\n",
              " 'no_msg O O O O O O B-fromloc.city_name O B-toloc.city_name B-cost_relative B-fare_amount I-fare_amount O',\n",
              " 'no_msg O O O O O O O B-cost_relative O O O O B-fare_amount I-fare_amount O B-fromloc.city_name I-fromloc.city_name O B-toloc.city_name O O O B-depart_date.day_name O',\n",
              " 'no_msg O O O O O O B-fromloc.city_name O B-toloc.city_name B-round_trip I-round_trip B-cost_relative O B-fare_amount I-fare_amount O',\n",
              " 'no_msg O O O O B-fromloc.city_name B-cost_relative O B-fare_amount I-fare_amount O',\n",
              " 'no_msg O B-round_trip I-round_trip O O B-fromloc.city_name O B-toloc.city_name B-cost_relative B-fare_amount I-fare_amount O B-fromloc.city_name O B-toloc.city_name B-cost_relative B-fare_amount I-fare_amount O',\n",
              " 'no_msg O B-round_trip I-round_trip O O B-fromloc.city_name O B-toloc.city_name B-cost_relative O B-fare_amount I-fare_amount B-or B-round_trip I-round_trip O O B-fromloc.city_name O B-toloc.city_name B-cost_relative O B-fare_amount I-fare_amount B-or B-round_trip I-round_trip O O B-fromloc.city_name O B-toloc.city_name B-cost_relative O B-fare_amount I-fare_amount O',\n",
              " 'no_msg O O O B-fromloc.city_name B-fromloc.city_name O B-fromloc.city_name O B-toloc.city_name O O B-round_trip I-round_trip O O O O B-cost_relative O B-fare_amount I-fare_amount O',\n",
              " 'no_msg O O O O O O O B-fromloc.city_name I-fromloc.city_name O B-toloc.city_name B-round_trip I-round_trip O O B-cost_relative O B-fare_amount I-fare_amount O',\n",
              " 'no_msg O O O O B-cost_relative O B-fare_amount I-fare_amount O O O B-fromloc.city_name O B-toloc.city_name O',\n",
              " 'no_msg O B-round_trip I-round_trip O O O B-fromloc.city_name O B-toloc.city_name B-cost_relative O B-fare_amount I-fare_amount O',\n",
              " 'no_msg O O O O O O O B-aircraft_code O O',\n",
              " 'no_msg O O O O O O B-aircraft_code O O O',\n",
              " 'no_msg O O O O O O O O O',\n",
              " 'no_msg O O O O O O O O B-aircraft_code O',\n",
              " 'no_msg O O O O O O O O O O O B-airline_name I-airline_name O O',\n",
              " 'no_msg O O O O O O O B-aircraft_code O',\n",
              " 'no_msg O O O O O O B-aircraft_code O',\n",
              " 'no_msg O O O O O O O O O B-aircraft_code O',\n",
              " 'no_msg O O O O O O O O O O O B-aircraft_code O',\n",
              " 'no_msg O O O O O O O B-aircraft_code O',\n",
              " 'no_msg O O O O O O O O B-aircraft_code O',\n",
              " 'no_msg O O O O O O O O B-aircraft_code O',\n",
              " 'no_msg O O O O O O O O B-aircraft_code O',\n",
              " 'no_msg O O O O O O B-aircraft_code O',\n",
              " 'no_msg O O O O O O O O B-aircraft_code O',\n",
              " 'no_msg O O O O O O O O O O O O O O O O O B-fromloc.city_name O B-toloc.city_name O',\n",
              " 'no_msg O O O O O O O O O B-aircraft_code O',\n",
              " 'no_msg O O O O O B-airline_name O O B-fromloc.city_name O B-toloc.city_name I-toloc.city_name I-toloc.city_name O',\n",
              " 'no_msg O O O O O O B-aircraft_code O',\n",
              " 'no_msg O O O O O O O O B-aircraft_code O',\n",
              " 'no_msg O O O O O O O O O B-fromloc.city_name O B-toloc.city_name O',\n",
              " 'no_msg O O O O O O O O B-aircraft_code O',\n",
              " 'no_msg O O O O O O O O B-aircraft_code O',\n",
              " 'no_msg O O O O O O B-aircraft_code O',\n",
              " 'no_msg O O O O O O O O B-aircraft_code O',\n",
              " 'no_msg O O O O O O O O O B-aircraft_code O',\n",
              " 'no_msg O O O O O O B-aircraft_code O O',\n",
              " 'no_msg O O O O O O O B-aircraft_code O',\n",
              " 'no_msg O O O O B-fromloc.city_name O B-toloc.city_name B-round_trip I-round_trip B-depart_time.time_relative B-depart_time.time I-depart_time.time B-cost_relative O B-fare_amount O',\n",
              " 'no_msg O B-round_trip I-round_trip O O B-fromloc.city_name O B-toloc.city_name I-toloc.city_name B-class_type B-economy O O',\n",
              " 'no_msg O O O O O O B-economy O B-fromloc.city_name O B-toloc.city_name O',\n",
              " 'no_msg O O O O O O O B-class_type B-economy O O B-fromloc.city_name O B-toloc.city_name I-toloc.city_name O',\n",
              " 'no_msg O O O O B-class_type B-economy O O B-toloc.city_name I-toloc.city_name O B-fromloc.city_name O',\n",
              " 'no_msg O O B-economy O O O O B-fromloc.city_name O B-toloc.city_name O B-depart_date.month_name B-depart_date.day_number O',\n",
              " 'no_msg O O O O O O B-economy O O O B-fromloc.city_name O B-toloc.city_name O',\n",
              " 'no_msg O O O O O O O O O B-fromloc.city_name O B-toloc.city_name O B-economy O O',\n",
              " 'no_msg O O O O O O O O B-fromloc.city_name O B-toloc.city_name O B-economy O O',\n",
              " 'no_msg O O O O O O B-fromloc.city_name O B-toloc.city_name O B-economy O O',\n",
              " 'no_msg O O O B-economy O O B-fromloc.city_name O B-toloc.city_name O',\n",
              " 'no_msg O O O O O O B-fromloc.city_name O B-toloc.city_name O B-round_trip I-round_trip B-economy O O',\n",
              " 'no_msg O O O O O O B-fromloc.city_name O B-toloc.city_name O B-round_trip I-round_trip B-economy O O',\n",
              " 'no_msg O O O O B-economy B-class_type O O B-fromloc.city_name O B-toloc.city_name O',\n",
              " 'no_msg O O O O O O O B-economy O O B-fromloc.city_name O B-toloc.city_name O',\n",
              " 'no_msg O O O O B-class_type B-economy O O O B-fromloc.city_name O B-toloc.city_name I-toloc.city_name O',\n",
              " 'no_msg O O O O O O O O B-fromloc.city_name O B-toloc.city_name O B-economy O O',\n",
              " 'no_msg O O O O B-cost_relative B-economy O O B-fromloc.city_name O B-toloc.city_name I-toloc.city_name O',\n",
              " 'no_msg O O O O O B-economy O O B-fromloc.city_name O B-toloc.city_name I-toloc.city_name O B-depart_date.month_name B-depart_date.day_number O',\n",
              " 'no_msg O O O O O O B-economy O O B-airline_name O B-fromloc.city_name O B-toloc.city_name O',\n",
              " 'no_msg O O O O B-economy O O B-fromloc.city_name O B-toloc.city_name O',\n",
              " 'no_msg O O O O O O O B-economy O O B-fromloc.city_name O B-toloc.city_name O',\n",
              " 'no_msg O O O O B-economy O O B-fromloc.city_name O B-toloc.city_name O',\n",
              " 'no_msg O B-fromloc.city_name I-fromloc.city_name O B-toloc.city_name B-economy O',\n",
              " 'no_msg O O O O O O B-fromloc.city_name I-fromloc.city_name O B-toloc.city_name O O O O B-stoploc.city_name I-stoploc.city_name I-stoploc.city_name O O O O O O B-airline_name I-airline_name O',\n",
              " 'no_msg O B-fromloc.city_name O B-toloc.city_name O O O O O B-stoploc.city_name I-stoploc.city_name O',\n",
              " 'no_msg O O O O O O B-fromloc.city_name O B-toloc.city_name O O O B-stoploc.city_name I-stoploc.city_name O',\n",
              " 'no_msg O O O O O O B-fromloc.city_name O B-toloc.city_name I-toloc.city_name O O O B-stoploc.city_name I-stoploc.city_name O O O O',\n",
              " 'no_msg O O O O O O B-fromloc.city_name I-fromloc.city_name O B-toloc.city_name O O O O B-stoploc.city_name I-stoploc.city_name I-stoploc.city_name O',\n",
              " 'no_msg O O O O O O O O O O B-airline_code O B-flight_number O B-fromloc.city_name O B-toloc.city_name I-toloc.city_name O O O O B-stoploc.city_name I-stoploc.city_name O B-meal_description O B-airline_code O B-flight_number B-or B-flight_number O',\n",
              " 'no_msg O O O O O B-depart_date.today_relative O B-fromloc.city_name O B-toloc.city_name I-toloc.city_name O O O O B-stoploc.city_name I-stoploc.city_name O O O B-meal_description O',\n",
              " 'no_msg O O O O O O O B-fromloc.city_name O B-toloc.city_name I-toloc.city_name O O O B-stoploc.city_name I-stoploc.city_name O',\n",
              " 'no_msg O O O O O O B-fromloc.city_name O B-toloc.city_name B-connect O B-stoploc.city_name I-stoploc.city_name O',\n",
              " 'no_msg O O O O O B-fromloc.city_name O B-toloc.city_name I-toloc.city_name O O O O B-stoploc.city_name I-stoploc.city_name O B-airline_name I-airline_name O',\n",
              " 'no_msg O O O O O O B-fromloc.city_name O B-toloc.city_name I-toloc.city_name O O O B-stoploc.city_name I-stoploc.city_name O',\n",
              " 'no_msg O O O O B-fromloc.city_name O B-toloc.city_name O O O B-stoploc.city_name I-stoploc.city_name O',\n",
              " 'no_msg O O O O B-airline_code O O B-fromloc.city_name O B-toloc.city_name O O O O B-stoploc.city_name I-stoploc.city_name B-stoploc.city_name O O',\n",
              " 'no_msg O O O O O O B-fromloc.city_name O B-toloc.city_name I-toloc.city_name O O O O B-stoploc.city_name I-stoploc.city_name I-stoploc.city_name O',\n",
              " 'no_msg O O O O O O B-airline_name I-airline_name O O O B-fromloc.city_name I-fromloc.city_name O B-toloc.city_name B-toloc.state_name O O O B-stoploc.city_name I-stoploc.city_name O',\n",
              " 'no_msg O O O O O O O B-fromloc.city_name O B-toloc.city_name I-toloc.city_name O O O B-stoploc.city_name I-stoploc.city_name O O B-meal_description O O O O O O O O',\n",
              " 'no_msg O O O O O O O O B-fromloc.city_name O B-toloc.city_name O O O O O B-stoploc.city_name I-stoploc.city_name O',\n",
              " 'no_msg O O O O O O O O O B-fromloc.city_name O B-toloc.city_name O O B-stoploc.city_name I-stoploc.city_name O',\n",
              " 'no_msg O O O O O O O B-fromloc.city_name O B-toloc.city_name O O O O B-stoploc.city_name I-stoploc.city_name I-stoploc.city_name O',\n",
              " 'no_msg O O O O O O O O B-fromloc.city_name I-fromloc.city_name O B-toloc.city_name O O O O B-stoploc.city_name I-stoploc.city_name O',\n",
              " 'no_msg O O O O O O B-fromloc.city_name O B-toloc.city_name I-toloc.city_name O B-stoploc.city_name I-stoploc.city_name I-stoploc.city_name O B-airline_name I-airline_name O',\n",
              " 'no_msg O O O O O O O B-fromloc.city_name O B-toloc.city_name O O O O B-stoploc.city_name I-stoploc.city_name I-stoploc.city_name O',\n",
              " 'no_msg O O O O O B-fromloc.city_name O B-toloc.city_name O O O B-stoploc.city_name I-stoploc.city_name O',\n",
              " 'no_msg O O O O O O O O O O O B-fromloc.city_name O B-toloc.city_name O O O O O O O O O B-stoploc.city_name I-stoploc.city_name O O O O O O O O B-meal_description O',\n",
              " 'no_msg O O O O O O O O B-fromloc.city_name O B-toloc.city_name O O O O B-stoploc.city_name I-stoploc.city_name I-stoploc.city_name O B-depart_date.month_name B-depart_date.day_number O',\n",
              " 'no_msg O O O O O O O O B-fromloc.city_name O B-toloc.city_name O O O O B-stoploc.city_name I-stoploc.city_name I-stoploc.city_name O O O O O O O',\n",
              " 'no_msg O O O O O O O O O B-fromloc.city_name O B-toloc.city_name I-toloc.city_name O O O O O B-stoploc.city_name I-stoploc.city_name O',\n",
              " 'no_msg O O O O O O B-fromloc.city_name O B-toloc.city_name I-toloc.city_name O B-stoploc.city_name I-stoploc.city_name I-stoploc.city_name O',\n",
              " 'no_msg O O O O O O B-fromloc.city_name I-fromloc.city_name O B-toloc.city_name O O O O B-stoploc.city_name I-stoploc.city_name I-stoploc.city_name O',\n",
              " 'no_msg O O O O O O B-fromloc.city_name O B-toloc.city_name O O O B-stoploc.city_name I-stoploc.city_name O',\n",
              " 'no_msg O O O O B-connect O O B-fromloc.city_name O B-toloc.city_name O O O O B-depart_date.day_name O',\n",
              " 'no_msg O O O O O B-connect O O B-fromloc.city_name O B-toloc.city_name O',\n",
              " 'no_msg O O O O B-connect O O B-airline_name O B-depart_date.month_name B-depart_date.day_number O B-fromloc.city_name O B-toloc.city_name O',\n",
              " 'no_msg O O O O B-connect O O B-fromloc.city_name O B-toloc.city_name O O B-toloc.city_name B-arrive_time.time_relative B-arrive_time.time I-arrive_time.time O',\n",
              " 'no_msg O O O O B-fromloc.city_name O O B-toloc.city_name B-connect O',\n",
              " 'no_msg O O O B-connect O O B-fromloc.city_name O B-toloc.city_name O B-depart_date.month_name B-depart_date.day_number O',\n",
              " 'no_msg O O O O B-round_trip I-round_trip O O B-fromloc.city_name O B-toloc.city_name B-connect O B-stoploc.city_name O',\n",
              " 'no_msg O O O O O O B-fromloc.city_name O B-toloc.city_name B-connect O B-stoploc.city_name O',\n",
              " 'no_msg O O O O B-fromloc.city_name O B-toloc.city_name B-connect O B-stoploc.city_name O',\n",
              " 'no_msg O O O O B-round_trip I-round_trip O O B-fromloc.city_name O B-toloc.city_name B-connect O B-stoploc.city_name O',\n",
              " 'no_msg O O O O O B-connect O O B-fromloc.city_name O B-toloc.city_name O',\n",
              " 'no_msg O O O O B-connect O O B-fromloc.city_name O B-toloc.city_name O B-depart_date.day_name B-depart_time.period_of_day O',\n",
              " 'no_msg O O O B-connect O O B-fromloc.city_name O B-toloc.city_name O',\n",
              " 'no_msg O O O O O O O B-fromloc.city_name B-connect O B-stoploc.city_name O B-toloc.city_name O',\n",
              " 'no_msg O O O O O O O B-connect O O B-fromloc.city_name I-fromloc.city_name I-fromloc.city_name O B-toloc.city_name I-toloc.city_name O O B-fromloc.city_name I-fromloc.city_name I-fromloc.city_name O B-depart_time.time O',\n",
              " 'no_msg O O O O O O B-fromloc.city_name O B-toloc.city_name I-toloc.city_name O B-connect O B-stoploc.city_name O',\n",
              " 'no_msg O O O O B-connect O O B-fromloc.city_name O B-toloc.city_name O O O B-toloc.city_name B-arrive_time.time_relative B-arrive_time.time I-arrive_time.time O',\n",
              " 'no_msg O O O O B-connect O O B-fromloc.city_name O B-toloc.city_name O',\n",
              " 'no_msg O O O O B-connect B-class_type O O B-fromloc.city_name O B-toloc.city_name O',\n",
              " 'no_msg O O O O O O B-fromloc.city_name O B-toloc.city_name O B-connect O B-stoploc.city_name O',\n",
              " 'no_msg O O O O B-connect O O B-fromloc.city_name O B-toloc.city_name O O O O O O O',\n",
              " 'no_msg O O O O B-connect O O B-fromloc.city_name I-fromloc.city_name O B-toloc.city_name O',\n",
              " 'no_msg O O O O O B-airline_name O O B-connect O B-fromloc.city_name O B-toloc.city_name I-toloc.city_name O B-depart_time.time O O B-depart_time.period_of_day O',\n",
              " 'no_msg O O O O O O O O O B-depart_date.month_name B-depart_date.day_number I-depart_date.day_number O O B-fromloc.city_name O B-toloc.city_name O B-connect O O O O',\n",
              " 'no_msg O O O O B-connect O O B-airline_name I-airline_name O B-fromloc.city_name O B-toloc.city_name I-toloc.city_name O',\n",
              " 'no_msg O O O O B-airline_name I-airline_name O B-fromloc.city_name O B-toloc.city_name B-connect O B-stoploc.city_name O',\n",
              " 'no_msg O O O O B-cost_relative B-connect O O B-fromloc.city_name O B-toloc.city_name O O B-depart_date.month_name B-depart_date.day_number O',\n",
              " 'no_msg O O O O B-connect O O B-fromloc.city_name O B-toloc.city_name O O B-depart_time.period_of_day O B-depart_date.month_name B-depart_date.day_number I-depart_date.day_number O O B-flight_stop O',\n",
              " 'no_msg O O O O O O B-fromloc.city_name O B-toloc.city_name B-connect O B-stoploc.city_name O',\n",
              " 'no_msg O O O B-connect O O B-fromloc.city_name O B-toloc.city_name O',\n",
              " 'no_msg O O B-connect O O B-fromloc.city_name I-fromloc.city_name I-fromloc.city_name O B-toloc.city_name I-toloc.city_name B-depart_time.time_relative B-depart_time.time I-depart_time.time O',\n",
              " 'no_msg O O O O B-connect O O B-fromloc.city_name I-fromloc.city_name I-fromloc.city_name O O B-toloc.city_name I-toloc.city_name B-or B-toloc.city_name O',\n",
              " 'no_msg O O O O O O O O O B-connect O O B-fromloc.city_name I-fromloc.city_name B-fromloc.state_name O B-toloc.city_name B-toloc.state_name O O B-depart_date.today_relative B-depart_time.period_of_day O',\n",
              " 'no_msg O O O O O B-connect O O B-fromloc.city_name O B-toloc.city_name I-toloc.city_name B-or B-toloc.city_name O O B-arrive_time.time_relative O O O B-arrive_time.time O',\n",
              " 'no_msg O O O O O O B-fromloc.city_name O B-toloc.city_name I-toloc.city_name B-depart_time.period_mod B-depart_date.today_relative O',\n",
              " 'no_msg O O O O O O B-fromloc.city_name O B-toloc.city_name B-depart_time.period_mod B-depart_date.day_name B-depart_time.period_of_day B-flight_stop O',\n",
              " 'no_msg O O O O O O B-airline_name I-airline_name O B-fromloc.city_name O B-toloc.city_name O O B-depart_time.period_mod B-depart_time.period_of_day O O O O O O',\n",
              " 'no_msg O O O O O O O O B-fromloc.city_name O B-toloc.city_name O B-depart_time.period_mod B-depart_date.day_name B-depart_time.period_of_day O',\n",
              " 'no_msg O O O O O O B-fromloc.city_name I-fromloc.city_name O B-toloc.city_name B-depart_time.period_mod O O B-depart_time.period_of_day O',\n",
              " 'no_msg O O O O O B-fromloc.city_name O B-toloc.city_name B-depart_time.period_mod B-depart_time.period_of_day O B-depart_date.day_name O',\n",
              " 'no_msg O O O O O O B-fromloc.city_name O B-toloc.city_name B-depart_time.period_mod O O B-depart_time.period_of_day O',\n",
              " 'no_msg O O B-depart_date.month_name B-depart_date.day_number O O O O O O B-fromloc.city_name O B-toloc.city_name I-toloc.city_name O O B-depart_time.period_mod B-depart_time.period_of_day O',\n",
              " 'no_msg O O O O B-depart_time.period_mod O O B-fromloc.city_name O B-toloc.city_name O B-depart_date.day_name B-depart_time.period_of_day O',\n",
              " 'no_msg O O O O O O O B-fromloc.city_name O B-toloc.city_name B-depart_time.period_mod O O B-depart_time.period_of_day O',\n",
              " 'no_msg O O O O O O B-fromloc.city_name I-fromloc.city_name O B-toloc.city_name O O B-depart_time.period_mod O O B-depart_time.period_of_day O',\n",
              " 'no_msg O O O O O O B-fromloc.city_name O O O B-toloc.city_name O O B-depart_time.period_mod O B-depart_date.day_name B-depart_time.period_of_day O',\n",
              " 'no_msg O O O O B-depart_date.month_name B-depart_date.day_number O O O O O O B-fromloc.city_name O B-toloc.city_name O B-depart_time.period_mod O O B-depart_time.period_of_day B-depart_time.time_relative B-depart_time.time O',\n",
              " 'no_msg O O O O O O O B-toloc.city_name I-toloc.city_name B-depart_time.period_mod O O O O',\n",
              " 'no_msg O O O O O O B-fromloc.city_name O B-toloc.city_name O B-airline_name O O B-meal B-depart_time.period_mod B-depart_date.day_name B-depart_time.period_of_day O',\n",
              " 'no_msg O O O O O O B-fromloc.city_name O B-toloc.city_name B-depart_time.period_mod O O B-depart_time.period_of_day B-flight_mod O O',\n",
              " 'no_msg O O O O O O O O O B-fromloc.city_name O B-toloc.city_name B-depart_time.period_mod O O B-depart_time.period_of_day O B-depart_date.month_name B-depart_date.day_number O',\n",
              " 'no_msg O O O O O O O B-fromloc.city_name O B-toloc.city_name B-depart_time.period_mod O O B-depart_time.period_of_day O',\n",
              " 'no_msg O O O O O O B-fromloc.city_name O B-toloc.city_name O O B-depart_time.period_mod B-depart_date.day_name B-depart_time.period_of_day O',\n",
              " 'no_msg O O O O O B-fromloc.city_name I-fromloc.city_name O B-toloc.city_name B-depart_time.period_mod B-depart_date.day_name O',\n",
              " 'no_msg O O O O O O B-fromloc.city_name O B-toloc.city_name B-toloc.state_code B-depart_time.period_mod O B-depart_date.day_number I-depart_date.day_number B-or B-depart_time.period_mod O B-depart_date.day_number I-depart_date.day_number O',\n",
              " 'no_msg O O O O O B-depart_time.period_mod B-depart_date.today_relative O B-fromloc.city_name O B-toloc.city_name I-toloc.city_name O',\n",
              " 'no_msg O O O O O B-depart_date.today_relative B-depart_time.period_mod O B-fromloc.city_name O B-toloc.city_name O B-meal_description O O',\n",
              " 'no_msg O O O O O O O O O O O O B-depart_date.month_name B-depart_date.day_number I-depart_date.day_number O B-fromloc.city_name O B-toloc.city_name O B-depart_time.period_mod O O B-depart_time.period_of_day B-depart_time.time_relative B-depart_time.time I-depart_time.time O',\n",
              " 'no_msg O O O O O O O O B-depart_time.period_mod B-depart_date.day_name B-depart_time.period_of_day O B-fromloc.city_name O B-toloc.city_name O',\n",
              " 'no_msg O O O B-depart_date.day_name B-depart_date.month_name B-depart_date.day_number I-depart_date.day_number O O O O O B-fromloc.city_name I-fromloc.city_name O B-toloc.city_name B-depart_time.period_mod O O B-depart_time.period_of_day O',\n",
              " 'no_msg O O O O O O B-fromloc.city_name I-fromloc.city_name I-fromloc.city_name O B-toloc.city_name I-toloc.city_name B-depart_time.period_mod B-depart_time.period_of_day O B-depart_date.day_name O',\n",
              " 'no_msg O O O O B-fromloc.city_name O B-toloc.city_name O B-depart_time.period_mod O O B-depart_time.period_of_day O B-depart_date.month_name B-depart_date.day_number O',\n",
              " 'no_msg O O O O B-meal O O B-depart_time.period_mod B-depart_date.day_name B-depart_time.period_of_day O B-fromloc.city_name O B-toloc.city_name B-flight_stop O',\n",
              " 'no_msg O O B-depart_date.month_name B-depart_date.day_number O O O O O O O B-fromloc.city_name O B-toloc.city_name I-toloc.city_name B-depart_time.period_mod O O B-depart_time.period_of_day O',\n",
              " 'no_msg O O O O O O B-airline_name O O B-fromloc.city_name O B-toloc.city_name O O B-meal B-depart_time.period_mod B-depart_date.day_name B-depart_time.period_of_day O',\n",
              " 'no_msg O O O O O O O B-fromloc.city_name O O B-toloc.city_name O B-fromloc.city_name B-depart_time.period_mod O O B-depart_time.period_of_day O',\n",
              " 'no_msg O O O O O O B-fromloc.city_name O B-toloc.city_name O B-depart_time.period_mod O O B-depart_time.period_of_day O O O O',\n",
              " 'no_msg O O O O O O B-fromloc.city_name O B-toloc.city_name B-depart_time.period_mod O B-depart_date.day_name B-depart_time.period_of_day O',\n",
              " 'no_msg O O O O O O O O O O O O O O O B-depart_date.month_name B-depart_date.day_number O B-fromloc.city_name O B-toloc.city_name B-depart_time.period_mod O O B-depart_time.period_of_day O',\n",
              " 'no_msg O O O O O O B-fromloc.city_name O B-toloc.city_name B-depart_time.period_mod B-depart_date.day_name B-depart_time.period_of_day B-or B-depart_time.period_mod B-depart_date.day_name B-depart_time.period_of_day O',\n",
              " 'no_msg O O O B-fromloc.city_name O B-toloc.city_name B-flight_days B-depart_time.time I-depart_time.time I-depart_time.time O',\n",
              " 'no_msg O O B-flight_days O O B-fromloc.city_name O B-toloc.city_name O',\n",
              " 'no_msg O O O B-fromloc.city_name O B-toloc.city_name B-depart_time.time I-depart_time.time I-depart_time.time B-flight_days O',\n",
              " 'no_msg O O O O B-fromloc.city_name O B-toloc.city_name B-flight_days O',\n",
              " 'no_msg O O B-flight_days O O B-fromloc.city_name O B-toloc.city_name O B-airline_name I-airline_name O',\n",
              " 'no_msg O O O O B-flight_days O O B-fromloc.city_name O B-toloc.city_name O',\n",
              " 'no_msg O O O O O B-airline_name I-airline_name B-fromloc.city_name O B-toloc.city_name B-flight_days B-flight_stop O O',\n",
              " 'no_msg O O O O O O B-flight_days O O B-fromloc.city_name O B-toloc.city_name I-toloc.city_name O',\n",
              " 'no_msg O O O B-fromloc.city_name O B-toloc.city_name B-flight_days O',\n",
              " 'no_msg O O O O B-flight_mod B-flight_days O O B-fromloc.city_name O B-toloc.city_name I-toloc.city_name I-toloc.city_name O',\n",
              " 'no_msg O O O B-flight_days O O B-fromloc.city_name O B-toloc.city_name O B-airline_name I-airline_name O',\n",
              " 'no_msg O O B-flight_days O O B-fromloc.city_name O B-toloc.city_name O B-airline_name I-airline_name O',\n",
              " 'no_msg O O B-flight_days O O B-fromloc.city_name O B-toloc.city_name O B-airline_code O',\n",
              " 'no_msg O O O B-flight_days O O B-fromloc.city_name O B-toloc.city_name O O B-fromloc.city_name O B-toloc.city_name O B-airline_name I-airline_name O',\n",
              " 'no_msg O O O B-flight_days O O B-fromloc.city_name O B-toloc.city_name O B-airline_name I-airline_name O',\n",
              " 'no_msg O O O B-fromloc.city_name O B-toloc.city_name B-flight_days O',\n",
              " 'no_msg O O O B-round_trip I-round_trip B-flight_days O O B-fromloc.city_name O B-toloc.city_name O',\n",
              " 'no_msg O O O B-fromloc.city_name I-fromloc.city_name O B-toloc.city_name I-toloc.city_name B-flight_days O',\n",
              " 'no_msg O O O B-flight_days O O B-fromloc.city_name O B-toloc.city_name O O O B-fromloc.city_name O B-toloc.city_name O B-airline_name I-airline_name O',\n",
              " 'no_msg O O O O O O O O O O O B-flight_days O B-fromloc.city_name O B-toloc.city_name I-toloc.city_name O O',\n",
              " 'no_msg O O O O B-fromloc.city_name O B-toloc.city_name B-flight_days O',\n",
              " 'no_msg O O B-flight_days O O B-fromloc.city_name O B-toloc.city_name O',\n",
              " 'no_msg O O B-flight_days O O B-fromloc.city_name O B-toloc.city_name O',\n",
              " 'no_msg O B-fromloc.city_name O B-toloc.city_name B-flight_days O',\n",
              " 'no_msg O O O B-flight_days O O B-fromloc.city_name O B-toloc.city_name O B-airline_name I-airline_name O',\n",
              " 'no_msg O O B-flight_days O O B-fromloc.city_name O B-toloc.city_name O B-airline_name I-airline_name O',\n",
              " 'no_msg O O B-flight_days O O B-fromloc.city_name O B-toloc.city_name O B-airline_code O',\n",
              " 'no_msg O B-flight_days O O B-fromloc.city_name O B-toloc.city_name O B-depart_time.time I-depart_time.time I-depart_time.time O',\n",
              " 'no_msg O O O O B-flight_days O O O B-fromloc.city_name O O B-class_type I-class_type O',\n",
              " 'no_msg O O B-flight_days O O B-fromloc.city_name O B-toloc.city_name O B-airline_name I-airline_name O',\n",
              " 'no_msg O O B-flight_days O O B-fromloc.city_name O B-toloc.city_name O B-class_type I-class_type O O',\n",
              " 'no_msg O O O O B-flight_days O O B-fromloc.city_name O B-toloc.city_name O',\n",
              " 'no_msg O O O O O O O B-flight_days O O B-fromloc.city_name O B-toloc.city_name O',\n",
              " 'no_msg O O O O O O O B-fromloc.city_name I-fromloc.city_name O O O B-toloc.city_name O B-arrive_date.month_name B-arrive_date.day_number O O B-arrive_time.period_of_day O',\n",
              " 'no_msg O O O O O O B-toloc.city_name O B-fromloc.city_name B-arrive_time.time_relative B-arrive_time.time I-arrive_time.time O B-arrive_date.month_name B-arrive_date.day_number O',\n",
              " 'no_msg O O O O O O B-fromloc.city_name B-depart_date.month_name B-depart_date.day_number O O O B-toloc.city_name B-toloc.state_name B-arrive_date.month_name B-arrive_date.day_number O O O B-depart_time.period_of_day O',\n",
              " 'no_msg O O O B-cost_relative I-cost_relative O O O O O O O B-fromloc.city_name O B-toloc.city_name O O B-arrive_date.month_name B-arrive_date.day_number O',\n",
              " 'no_msg O O O O O O O B-fromloc.city_name O B-toloc.city_name O B-arrive_date.month_name B-arrive_date.day_number O',\n",
              " 'no_msg O O O O O B-fromloc.city_name O B-toloc.city_name O B-arrive_date.month_name B-arrive_date.day_number O',\n",
              " 'no_msg O O O O O B-fromloc.city_name O B-toloc.city_name O O B-arrive_date.month_name B-arrive_date.day_number O',\n",
              " 'no_msg O O O O B-flight_mod B-depart_time.period_of_day O O B-fromloc.city_name I-fromloc.city_name O O O B-toloc.city_name O B-arrive_date.month_name B-arrive_date.day_number O',\n",
              " 'no_msg O O O O B-flight_mod O O B-fromloc.city_name I-fromloc.city_name O O O B-toloc.city_name O B-arrive_date.month_name B-arrive_date.day_number O',\n",
              " 'no_msg O O O O B-flight_stop O O O B-fromloc.city_name O B-toloc.city_name B-arrive_date.month_name B-arrive_date.day_number O O B-airline_name I-airline_name O',\n",
              " 'no_msg O O O O B-cost_relative O O B-fromloc.city_name O B-toloc.city_name O O B-arrive_date.month_name B-arrive_date.day_number O',\n",
              " 'no_msg O O O O B-flight_stop O O O B-fromloc.city_name O O B-toloc.city_name O B-arrive_date.month_name B-arrive_date.day_number O',\n",
              " 'no_msg O O O O O O O O O O O B-depart_date.month_name B-depart_date.day_number O O B-fromloc.city_name O O O B-toloc.city_name O B-arrive_date.month_name B-arrive_date.day_number O',\n",
              " 'no_msg O O O O O B-flight_stop O O B-fromloc.city_name O B-toloc.city_name I-toloc.city_name O B-arrive_date.month_name B-arrive_date.day_number O',\n",
              " 'no_msg O O O O O O B-fromloc.city_name O B-toloc.city_name O B-arrive_date.month_name B-arrive_date.day_number O',\n",
              " 'no_msg O O O O O O B-fromloc.city_name O B-toloc.city_name B-class_type I-class_type O B-airline_name I-airline_name O B-arrive_date.month_name B-arrive_date.day_number B-arrive_time.time_relative B-arrive_time.time O',\n",
              " 'no_msg O O O O B-flight_stop O O B-fromloc.city_name O B-toloc.city_name I-toloc.city_name O B-arrive_date.day_name B-arrive_date.month_name B-arrive_date.day_number O',\n",
              " 'no_msg O O O O B-flight_mod O O B-fromloc.city_name O O O B-toloc.city_name O B-arrive_date.month_name B-arrive_date.day_number O',\n",
              " 'no_msg O O O O B-flight_mod B-airline_name I-airline_name O O O B-fromloc.city_name O B-toloc.city_name O O O B-arrive_date.month_name B-arrive_date.day_number O',\n",
              " 'no_msg O O O O O O B-toloc.city_name O B-fromloc.city_name O B-arrive_date.month_name B-arrive_date.day_number O',\n",
              " 'no_msg O O O O O B-flight_stop O O B-fromloc.city_name O B-toloc.city_name O O O B-toloc.city_name O O B-depart_time.period_of_day B-arrive_time.period_of_day O B-arrive_date.day_name B-arrive_date.month_name B-arrive_date.day_number O',\n",
              " 'no_msg O O O O B-cost_relative O O B-fromloc.city_name O B-toloc.city_name O O B-arrive_date.month_name B-arrive_date.day_number O',\n",
              " 'no_msg O O O O O O B-fromloc.city_name O B-toloc.city_name O B-arrive_date.month_name B-arrive_date.day_number B-arrive_time.time_relative B-arrive_time.time I-arrive_time.time O',\n",
              " 'no_msg O O O O O O B-toloc.city_name O B-fromloc.city_name O B-arrive_date.month_name B-arrive_date.day_number O',\n",
              " 'no_msg O O O O O O B-toloc.city_name O B-fromloc.city_name B-arrive_time.time_relative B-arrive_time.time O B-arrive_date.month_name B-arrive_date.day_number O',\n",
              " 'no_msg O O O O B-flight_mod O O B-fromloc.city_name I-fromloc.city_name O O O B-toloc.city_name O B-arrive_date.month_name B-arrive_date.day_number O',\n",
              " 'no_msg O O O O O O B-toloc.city_name O B-fromloc.city_name O B-arrive_date.month_name B-arrive_date.day_number O',\n",
              " 'no_msg O O O O O B-fromloc.city_name O B-toloc.city_name B-class_type I-class_type O B-airline_name I-airline_name O O B-arrive_date.month_name B-arrive_date.day_number O',\n",
              " 'no_msg O O O B-flight_stop O O O O O B-fromloc.city_name O B-toloc.city_name I-toloc.city_name O O B-arrive_time.time_relative B-arrive_time.time I-arrive_time.time I-arrive_time.time O',\n",
              " 'no_msg O O O O O B-airline_name B-flight_number O B-fromloc.city_name O B-toloc.city_name I-toloc.city_name O',\n",
              " 'no_msg O O O O O O O B-airline_name O B-class_type I-class_type O O',\n",
              " 'no_msg O O O B-class_type I-class_type O O O O B-airline_name I-airline_name O',\n",
              " 'no_msg O O O O O O O B-fromloc.city_name I-fromloc.city_name O B-toloc.city_name O B-depart_date.month_name B-depart_date.day_number O',\n",
              " 'no_msg O O O O O O B-fromloc.city_name O B-toloc.city_name O B-depart_date.month_name B-depart_date.day_number O',\n",
              " 'no_msg O O O O O B-airline_name I-airline_name O O O O O O O B-fare_basis_code O',\n",
              " 'no_msg O O O B-class_type I-class_type O O B-airline_name O B-depart_date.today_relative O',\n",
              " 'no_msg O O O B-class_type I-class_type O O B-airline_name I-airline_name O O O B-fromloc.city_name B-depart_date.today_relative O',\n",
              " 'no_msg O O O O O O O B-airline_name O B-class_type I-class_type O O',\n",
              " 'no_msg O O O O O O B-fromloc.city_name O B-toloc.city_name O B-depart_date.month_name B-depart_date.day_number O',\n",
              " 'no_msg O O O B-class_type I-class_type O O B-airline_name I-airline_name O O',\n",
              " 'no_msg O O O O O O B-flight_stop O O O O B-fromloc.city_name O B-toloc.city_name O',\n",
              " 'no_msg O O O B-airline_name I-airline_name I-airline_name O O O B-aircraft_code O',\n",
              " 'no_msg O O O O O O O O O O O B-fare_basis_code O',\n",
              " 'no_msg O O O O O O O O O O O B-airline_name O',\n",
              " 'no_msg O O O O O B-airline_name I-airline_name O O B-fromloc.city_name O B-toloc.city_name O',\n",
              " 'no_msg O O O O O O O O',\n",
              " 'no_msg O O O O O O O O O O O B-airline_name O',\n",
              " 'no_msg O O O B-class_type I-class_type O O B-airline_name O O O O O B-depart_date.today_relative O',\n",
              " 'no_msg O O O O O O B-round_trip I-round_trip O B-fromloc.city_name O B-toloc.city_name O',\n",
              " 'no_msg O O O O O O O O O B-fare_basis_code O',\n",
              " 'no_msg O O O O O B-airline_name I-airline_name O O B-fromloc.city_name O B-toloc.city_name O',\n",
              " 'no_msg O O O O O O O B-airline_code O B-class_type I-class_type O O',\n",
              " 'no_msg O O O B-airline_name I-airline_name I-airline_name O O B-aircraft_code O',\n",
              " 'no_msg O O O O O O O O O',\n",
              " 'no_msg O O O O O B-city_name O O',\n",
              " 'no_msg O O O B-airline_name I-airline_name O O B-fromloc.city_name B-depart_date.month_name B-depart_date.day_number O',\n",
              " 'no_msg O O O B-airline_name O O O O B-fromloc.city_name I-fromloc.city_name O O',\n",
              " 'no_msg O O O O O O O B-airline_name O B-class_type I-class_type O O',\n",
              " 'no_msg O O O B-airline_name O O O O B-toloc.city_name I-toloc.city_name O',\n",
              " 'no_msg O O O B-airline_name I-airline_name O O O B-aircraft_code O',\n",
              " 'no_msg O O O B-airline_name O O O B-fromloc.city_name O',\n",
              " 'no_msg O O O O O B-airline_name O O O O O O O B-fare_basis_code O',\n",
              " 'no_msg O O O O O B-airline_name I-airline_name O O O O O O O B-fare_basis_code O',\n",
              " 'no_msg O O O B-airline_name I-airline_name O O O B-fromloc.city_name O',\n",
              " 'no_msg O O O O O O O O O B-class_type I-class_type O O',\n",
              " 'no_msg O O O O O O O B-airline_name I-airline_name O B-class_type I-class_type O O',\n",
              " 'no_msg O O O O O B-flight_time O O O O B-depart_date.day_name B-depart_time.period_of_day O B-fromloc.city_name O O B-fromloc.city_name I-fromloc.city_name I-fromloc.city_name O B-toloc.city_name O',\n",
              " 'no_msg O O O O B-flight_time O O O B-fromloc.city_name O B-toloc.city_name B-depart_date.date_relative B-depart_date.day_name O',\n",
              " 'no_msg O O B-flight_time O B-depart_date.day_name O O O O O O B-fromloc.city_name O B-toloc.city_name O',\n",
              " 'no_msg O O O O O B-flight_time O O O O B-fromloc.city_name I-fromloc.city_name O B-toloc.city_name O B-depart_date.day_name O',\n",
              " 'no_msg O O O O O O O O B-airport_name I-airport_name O',\n",
              " 'no_msg O O B-flight_time O O B-flight_mod O O O O B-fromloc.city_name O B-toloc.city_name O O',\n",
              " 'no_msg O O O O B-flight_time O O O O B-fromloc.airport_name I-fromloc.airport_name O O O',\n",
              " 'no_msg O O O B-flight_time O B-class_type O O B-fromloc.city_name O B-toloc.city_name O B-depart_date.day_name O',\n",
              " 'no_msg O O O B-airline_name B-flight_time O B-depart_time.period_of_day O O B-toloc.city_name O',\n",
              " 'no_msg O O B-flight_time O O O O B-fromloc.city_name O O B-toloc.city_name I-toloc.city_name O B-airline_name I-airline_name O',\n",
              " 'no_msg O O B-flight_time O O B-flight_mod O O B-fromloc.city_name O B-toloc.city_name I-toloc.city_name O',\n",
              " 'no_msg O O O O O B-flight_time O B-airline_name O O O O O',\n",
              " 'no_msg O O B-flight_time O O O B-fromloc.city_name O B-toloc.city_name I-toloc.city_name O B-airline_name I-airline_name O',\n",
              " 'no_msg O O O O O B-flight_time O O O O B-fromloc.city_name O B-toloc.city_name O',\n",
              " 'no_msg O O B-flight_time O O O O O B-fromloc.city_name O B-toloc.city_name O B-depart_date.month_name B-depart_date.day_number O',\n",
              " 'no_msg O O O O O O B-flight_time O O O O O B-fromloc.city_name O B-toloc.city_name O O B-depart_time.period_of_day O',\n",
              " 'no_msg O O O O O B-depart_time.period_of_day B-flight_time O O O B-fromloc.city_name I-fromloc.city_name O B-toloc.city_name O',\n",
              " 'no_msg O O O O B-flight_time O O O B-fromloc.city_name O B-toloc.city_name I-toloc.city_name O B-depart_date.month_name B-depart_date.day_number O',\n",
              " 'no_msg O O B-flight_time O O O O B-fromloc.city_name O B-toloc.city_name I-toloc.city_name O',\n",
              " 'no_msg O O O B-airline_name B-flight_time O B-depart_time.period_of_day O O B-toloc.city_name O',\n",
              " 'no_msg O O O B-flight_time O O O B-fromloc.city_name I-fromloc.city_name O B-toloc.city_name O',\n",
              " 'no_msg O O O O O B-flight_time O B-flight_mod O O B-fromloc.city_name O B-toloc.city_name O',\n",
              " 'no_msg O O B-flight_time O B-airline_name O O B-fromloc.city_name O B-toloc.city_name I-toloc.city_name O',\n",
              " 'no_msg O O O O B-flight_time O O O B-fromloc.city_name O O B-toloc.city_name I-toloc.city_name O B-depart_date.date_relative B-depart_date.day_name O',\n",
              " 'no_msg O O B-flight_time O O B-airline_code B-flight_number O O',\n",
              " 'no_msg O O B-transport_type O O B-city_name O',\n",
              " 'no_msg O O O O B-transport_type B-or B-transport_type O O O O B-airport_name I-airport_name O',\n",
              " 'no_msg O O O O O B-transport_type O B-city_name I-city_name O O',\n",
              " 'no_msg O B-transport_type O B-city_name O',\n",
              " 'no_msg O O B-transport_type O O O B-city_name O',\n",
              " 'no_msg O O O O O O B-transport_type O B-city_name O',\n",
              " 'no_msg O O O O O B-transport_type O B-fromloc.airport_name I-fromloc.airport_name I-fromloc.airport_name O B-fromloc.city_name O',\n",
              " 'no_msg O O O O B-transport_type O B-fromloc.city_name O B-depart_date.month_name B-depart_date.day_number O',\n",
              " 'no_msg O O O O O B-transport_type O B-fromloc.city_name I-fromloc.city_name O O O B-fromloc.city_name I-fromloc.city_name O',\n",
              " 'no_msg O O B-transport_type O O B-city_name I-city_name O',\n",
              " 'no_msg O O B-city_name I-city_name O O O O O B-transport_type O',\n",
              " 'no_msg O O O O O O B-transport_type O B-city_name O',\n",
              " 'no_msg O O O O B-transport_type O O O O B-fromloc.airport_name I-fromloc.airport_name O',\n",
              " 'no_msg O O O O O B-depart_time.period_of_day O O B-fromloc.city_name B-fromloc.state_name O B-toloc.city_name B-toloc.state_name O',\n",
              " 'no_msg O O O O O O O O B-fromloc.city_name B-fromloc.state_name O B-toloc.city_name B-toloc.state_name O O O O B-stoploc.city_name O',\n",
              " 'no_msg O O O O B-fromloc.city_name B-fromloc.state_name O B-toloc.city_name B-toloc.state_name O',\n",
              " 'no_msg O O O O B-fromloc.city_name B-fromloc.state_name O B-toloc.city_name I-toloc.city_name I-toloc.city_name B-toloc.state_name O',\n",
              " 'no_msg O O O O O O O B-fromloc.city_name I-fromloc.city_name B-fromloc.state_name O B-toloc.city_name I-toloc.city_name I-toloc.city_name B-toloc.state_name O O O O O O O O B-airline_name I-airline_name O',\n",
              " 'no_msg O B-flight_mod O O B-fromloc.city_name B-fromloc.state_name O B-toloc.city_name B-toloc.state_name O',\n",
              " 'no_msg O O O O O O O O O B-depart_date.day_name O B-fromloc.city_name B-fromloc.state_name O B-toloc.city_name I-toloc.city_name B-toloc.state_name O',\n",
              " 'no_msg O O O O O B-fromloc.city_name B-fromloc.state_name O B-toloc.city_name I-toloc.city_name O',\n",
              " 'no_msg O O O O O O B-fromloc.city_name B-fromloc.state_name O B-toloc.city_name I-toloc.city_name O B-arrive_time.time_relative B-arrive_time.time I-arrive_time.time O',\n",
              " 'no_msg O O O O O O O B-fromloc.city_name B-fromloc.state_name B-depart_date.day_name O B-toloc.city_name B-arrive_date.day_name O',\n",
              " 'no_msg O O O O O O O O B-fromloc.city_name I-fromloc.city_name B-fromloc.state_name O B-toloc.city_name I-toloc.city_name I-toloc.city_name B-toloc.state_name O',\n",
              " 'no_msg O O O O O O B-fromloc.city_name I-fromloc.city_name B-fromloc.state_name O B-toloc.city_name B-toloc.state_name O O O B-depart_time.period_of_day O B-depart_date.day_name O',\n",
              " 'no_msg O O O O O O O O B-fromloc.city_name I-fromloc.city_name B-fromloc.state_name O B-toloc.city_name B-toloc.state_name O',\n",
              " 'no_msg O O O O B-fromloc.city_name B-fromloc.state_name O B-toloc.city_name B-toloc.state_name O',\n",
              " 'no_msg O O O O O O B-depart_date.day_name O B-fromloc.city_name B-fromloc.state_name O B-toloc.city_name I-toloc.city_name B-toloc.state_name O',\n",
              " 'no_msg O O O O B-fromloc.city_name B-fromloc.state_name O B-toloc.city_name O',\n",
              " 'no_msg O O O B-airline_name I-airline_name O B-fromloc.city_name I-fromloc.city_name B-fromloc.state_name O B-toloc.city_name O',\n",
              " 'no_msg O O O O O O O O B-fromloc.city_name B-fromloc.state_name O B-toloc.city_name O O B-depart_date.day_name B-depart_time.period_of_day O',\n",
              " 'no_msg O O O O O O O O B-fromloc.city_name B-fromloc.state_name O B-toloc.city_name I-toloc.city_name B-toloc.state_name O O O B-arrive_time.time_relative B-arrive_time.time I-arrive_time.time O B-arrive_date.day_name O',\n",
              " 'no_msg O O O O O B-fromloc.city_name B-fromloc.state_name O B-toloc.city_name O O O B-cost_relative B-round_trip I-round_trip O',\n",
              " 'no_msg O O O O B-fromloc.city_name I-fromloc.city_name I-fromloc.city_name B-fromloc.state_name O B-toloc.city_name B-toloc.state_name B-depart_date.day_name O',\n",
              " 'no_msg O O O O O O B-airline_name I-airline_name O B-fromloc.city_name I-fromloc.city_name B-fromloc.state_name O B-toloc.city_name B-toloc.state_name O',\n",
              " 'no_msg O O O O O O B-fromloc.city_name B-fromloc.state_name O B-toloc.city_name I-toloc.city_name B-toloc.state_name O B-depart_date.date_relative B-depart_date.day_name O',\n",
              " 'no_msg O O O O O O B-fromloc.city_name B-fromloc.state_name O B-toloc.city_name B-toloc.state_name O B-depart_date.day_name B-depart_time.time_relative B-depart_time.time I-depart_time.time O',\n",
              " 'no_msg O O O O O O O B-fromloc.city_name B-fromloc.state_name O B-toloc.city_name O B-depart_date.day_name O',\n",
              " 'no_msg O O O O O O B-depart_date.day_name O O B-fromloc.city_name I-fromloc.city_name B-fromloc.state_name O B-toloc.city_name I-toloc.city_name O',\n",
              " 'no_msg O O O O O O O O B-fromloc.city_name I-fromloc.city_name B-fromloc.state_name O B-toloc.city_name B-toloc.state_name O B-depart_date.today_relative O O O O O O O O O B-stoploc.city_name O O',\n",
              " 'no_msg O O O O O O B-fromloc.city_name B-fromloc.state_name O B-toloc.city_name I-toloc.city_name B-toloc.state_name O B-depart_date.day_name O',\n",
              " 'no_msg O O B-depart_date.day_name O O O O B-fromloc.city_name I-fromloc.city_name B-fromloc.state_name O B-toloc.city_name B-toloc.state_name O O O O O O O O O B-depart_time.period_of_day O',\n",
              " 'no_msg O O O O B-fromloc.city_name B-fromloc.state_name O B-toloc.city_name I-toloc.city_name I-toloc.city_name B-toloc.state_name B-depart_date.day_name O',\n",
              " 'no_msg O O O O O O B-fromloc.city_name B-fromloc.state_name O B-toloc.city_name I-toloc.city_name B-toloc.state_name O O B-depart_date.day_name O',\n",
              " 'no_msg O O O O B-cost_relative I-cost_relative O O B-fromloc.city_name O B-toloc.city_name I-toloc.city_name O O B-airline_name B-flight_number O B-airline_name B-flight_number O',\n",
              " 'no_msg O O O O B-cost_relative I-cost_relative B-class_type I-class_type B-round_trip I-round_trip O O B-airline_name I-airline_name O B-fromloc.city_name O B-toloc.city_name O',\n",
              " 'no_msg O O O O B-cost_relative I-cost_relative O O B-fromloc.city_name O B-toloc.city_name I-toloc.city_name I-toloc.city_name O',\n",
              " 'no_msg O O O O B-cost_relative I-cost_relative O O B-fromloc.city_name O B-toloc.city_name I-toloc.city_name O',\n",
              " 'no_msg O O O O O O B-cost_relative I-cost_relative O B-round_trip I-round_trip O B-fromloc.city_name O B-toloc.city_name O',\n",
              " 'no_msg O O O O B-cost_relative I-cost_relative O O B-fromloc.city_name O B-toloc.city_name O B-depart_date.day_name B-depart_time.time_relative B-depart_time.time O',\n",
              " 'no_msg O O O O B-cost_relative I-cost_relative O O B-fromloc.city_name O B-toloc.city_name O B-depart_date.month_name B-depart_date.day_number O',\n",
              " 'no_msg O O O O B-cost_relative I-cost_relative O O B-fromloc.city_name O B-toloc.city_name O',\n",
              " 'no_msg O O O O B-cost_relative I-cost_relative B-round_trip I-round_trip O O B-fromloc.city_name O B-toloc.city_name O',\n",
              " 'no_msg O O O O B-cost_relative I-cost_relative B-class_type I-class_type O O B-fromloc.city_name O B-toloc.city_name I-toloc.city_name O',\n",
              " 'no_msg O O O O B-fromloc.city_name O B-toloc.city_name O O B-cost_relative I-cost_relative O O',\n",
              " 'no_msg O O O O O O O B-cost_relative I-cost_relative O O B-fromloc.city_name O B-toloc.city_name O',\n",
              " 'no_msg O O O O B-cost_relative I-cost_relative O O B-fromloc.city_name O B-toloc.city_name I-toloc.city_name O O B-depart_date.month_name B-depart_date.day_number O',\n",
              " 'no_msg O O O O B-cost_relative I-cost_relative O O B-fromloc.city_name O B-toloc.city_name O',\n",
              " 'no_msg O O O O B-cost_relative I-cost_relative B-class_type I-class_type O O B-fromloc.city_name O B-toloc.city_name O',\n",
              " 'no_msg O O O O B-cost_relative I-cost_relative B-round_trip I-round_trip O O B-fromloc.city_name O B-toloc.city_name I-toloc.city_name O',\n",
              " 'no_msg O O O O O O B-cost_relative I-cost_relative B-round_trip I-round_trip O O B-fromloc.city_name O B-toloc.city_name O',\n",
              " 'no_msg O O B-cost_relative I-cost_relative O O B-fromloc.city_name O B-toloc.city_name O',\n",
              " 'no_msg O O B-cost_relative I-cost_relative O O B-fromloc.city_name O B-toloc.city_name O',\n",
              " 'no_msg O O O O B-cost_relative I-cost_relative O O B-airline_name O O B-fromloc.city_name O B-toloc.city_name I-toloc.city_name O',\n",
              " 'no_msg O O O O B-cost_relative I-cost_relative O O B-fromloc.city_name O B-toloc.city_name O O B-depart_date.month_name B-depart_date.day_number O',\n",
              " 'no_msg O O O O B-cost_relative I-cost_relative B-round_trip I-round_trip B-class_type I-class_type O O B-fromloc.city_name O B-toloc.city_name O',\n",
              " 'no_msg O O O B-cost_relative I-cost_relative O O O O O B-toloc.city_name O',\n",
              " 'no_msg O O O O B-cost_relative I-cost_relative O O B-fromloc.city_name O B-toloc.city_name O',\n",
              " 'no_msg O O O O O B-fromloc.city_name B-depart_date.month_name B-depart_date.day_number O B-toloc.city_name B-cost_relative I-cost_relative O O',\n",
              " 'no_msg O O O O B-cost_relative I-cost_relative O O B-fromloc.city_name O B-toloc.city_name O',\n",
              " 'no_msg O O O O B-cost_relative I-cost_relative O O B-round_trip I-round_trip O O B-fromloc.city_name O B-toloc.city_name O',\n",
              " 'no_msg O O O O B-cost_relative I-cost_relative O O B-fromloc.city_name O B-depart_date.day_name B-depart_time.time_relative B-depart_time.time I-depart_time.time I-depart_time.time O O B-toloc.city_name O',\n",
              " 'no_msg O O B-cost_relative I-cost_relative O O B-fromloc.city_name O B-toloc.city_name O O O B-meal O',\n",
              " 'no_msg O O O O B-cost_relative I-cost_relative B-round_trip I-round_trip O O B-fromloc.city_name O B-toloc.city_name I-toloc.city_name O',\n",
              " 'no_msg O O O O B-cost_relative I-cost_relative B-round_trip I-round_trip O O B-fromloc.city_name O B-toloc.city_name O B-airline_name I-airline_name O',\n",
              " 'no_msg O O O O B-cost_relative I-cost_relative O B-depart_date.today_relative O B-fromloc.city_name O B-toloc.city_name I-toloc.city_name O',\n",
              " 'no_msg O O O O B-cost_relative I-cost_relative B-class_type I-class_type O O B-fromloc.city_name O B-toloc.city_name O',\n",
              " 'no_msg O O O O B-cost_relative I-cost_relative O O B-fromloc.city_name O B-toloc.city_name O O B-depart_date.month_name B-depart_date.day_number O',\n",
              " 'no_msg O O O O B-cost_relative I-cost_relative O O O B-fromloc.city_name I-fromloc.city_name I-fromloc.city_name O B-toloc.city_name I-toloc.city_name O',\n",
              " 'no_msg O O O O O O O O B-fromloc.city_name O B-depart_date.month_name B-depart_date.day_number I-depart_date.day_number O O B-depart_time.period_of_day O B-toloc.city_name B-cost_relative I-cost_relative O B-round_trip I-round_trip O',\n",
              " 'no_msg O O O O B-cost_relative I-cost_relative O O',\n",
              " 'no_msg O O O O B-cost_relative I-cost_relative B-round_trip I-round_trip O O B-fromloc.city_name O B-toloc.city_name O',\n",
              " 'no_msg O O O O B-cost_relative I-cost_relative B-round_trip I-round_trip O O B-fromloc.city_name O B-toloc.city_name I-toloc.city_name O',\n",
              " 'no_msg O O O O B-cost_relative I-cost_relative O B-fromloc.city_name O B-toloc.city_name O',\n",
              " 'no_msg O O O O O B-cost_relative I-cost_relative O O O B-depart_date.day_name O B-toloc.city_name O B-fromloc.city_name I-fromloc.city_name O',\n",
              " 'no_msg O O O O B-cost_relative I-cost_relative O O B-fromloc.city_name O B-toloc.city_name I-toloc.city_name O O B-depart_date.day_name O B-class_type I-class_type O O',\n",
              " 'no_msg O O O O O O O O O B-airport_name I-airport_name O',\n",
              " 'no_msg O O O O O O O O B-airport_name I-airport_name I-airport_name O',\n",
              " 'no_msg O O O O B-airport_name I-airport_name O',\n",
              " 'no_msg O O O O O O O O B-airport_name I-airport_name O',\n",
              " 'no_msg O O O O O O O O B-airport_name I-airport_name I-airport_name O',\n",
              " 'no_msg O O O O O O B-airport_name I-airport_name O',\n",
              " 'no_msg O O O O O O O O B-airport_name I-airport_name O',\n",
              " 'no_msg O O O O O O O O O O B-airport_name I-airport_name I-airport_name O',\n",
              " 'no_msg O O O O O O O B-airport_name I-airport_name I-airport_name O',\n",
              " 'no_msg O O O O O O B-airport_name I-airport_name O',\n",
              " 'no_msg O O O O O O O B-airport_name I-airport_name I-airport_name O',\n",
              " 'no_msg O O O O O O O B-airport_name I-airport_name O O O O O',\n",
              " 'no_msg O O B-airport_name I-airport_name O O O O O O O O O O',\n",
              " 'no_msg O O O O O O O O B-airport_name I-airport_name I-airport_name I-airport_name O',\n",
              " 'no_msg O O O O O O O O B-airport_name I-airport_name I-airport_name I-airport_name O',\n",
              " 'no_msg O O O B-airport_name I-airport_name O O O O O O O O',\n",
              " 'no_msg O O O O O O O O B-airport_name I-airport_name O',\n",
              " 'no_msg O O O O O O O O B-airport_name I-airport_name O',\n",
              " 'no_msg O O O O O O O B-airport_name I-airport_name O',\n",
              " 'no_msg O O O O O O O O O B-airport_name I-airport_name O',\n",
              " 'no_msg O O O O O O O B-airport_name I-airport_name O',\n",
              " 'no_msg O O O O O O O O O O B-airport_name I-airport_name I-airport_name I-airport_name O',\n",
              " 'no_msg O O O O O O O O O B-airport_name I-airport_name O',\n",
              " 'no_msg O O O O O O O B-airport_name I-airport_name O O B-city_name O',\n",
              " 'no_msg O O O O O O O B-airport_name I-airport_name I-airport_name O',\n",
              " 'no_msg O O O O O O O B-airport_name I-airport_name O O B-city_name O',\n",
              " 'no_msg O O O O O O B-city_name I-city_name O',\n",
              " 'no_msg O O O O O O O B-city_name I-city_name O',\n",
              " 'no_msg O O O O B-city_name I-city_name O',\n",
              " 'no_msg O O O O O O O B-city_name I-city_name O',\n",
              " 'no_msg O O O O O O B-city_name I-city_name O',\n",
              " 'no_msg O O O O O O O O B-city_name I-city_name I-city_name O',\n",
              " 'no_msg O O O O O O O B-city_name I-city_name O',\n",
              " 'no_msg O O O O O O B-city_name I-city_name O',\n",
              " 'no_msg O O O O O O O O B-city_name I-city_name I-city_name O O O O O',\n",
              " 'no_msg O O O O O O B-city_name I-city_name O',\n",
              " 'no_msg O O O O O O O B-city_name I-city_name O',\n",
              " 'no_msg O O O O B-city_name I-city_name O',\n",
              " 'no_msg O O O O B-city_name I-city_name O',\n",
              " 'no_msg O O O O O O O O B-city_name I-city_name O',\n",
              " 'no_msg O O O O O O B-city_name I-city_name O',\n",
              " 'no_msg O O O O B-city_name I-city_name O',\n",
              " 'no_msg O O O O O O O O O O B-city_name I-city_name O',\n",
              " 'no_msg O O O O O O O O O B-city_name I-city_name O',\n",
              " 'no_msg O O B-city_name I-city_name I-city_name O O O O O O O O',\n",
              " 'no_msg O O O O O O B-city_name I-city_name O',\n",
              " 'no_msg O O O O O O O B-city_name I-city_name I-city_name O',\n",
              " 'no_msg O O O O O O O B-city_name I-city_name I-city_name O',\n",
              " 'no_msg O O O O B-city_name I-city_name O',\n",
              " 'no_msg O O O B-city_name I-city_name O O O O O O O O O B-airline_name I-airline_name O',\n",
              " 'no_msg O O O O O O B-city_name I-city_name O',\n",
              " 'no_msg O O O O O O O O O O O B-city_name I-city_name O',\n",
              " 'no_msg O O O O O O B-fromloc.city_name O B-toloc.city_name O O B-depart_date.day_name B-depart_time.period_of_day B-or B-depart_date.day_name B-depart_time.period_of_day O',\n",
              " 'no_msg O O O O O B-fromloc.city_name O O O O O O O O B-toloc.city_name B-or B-toloc.city_name I-toloc.city_name O',\n",
              " 'no_msg O O O O O O B-fromloc.city_name O B-toloc.city_name I-toloc.city_name O B-depart_date.day_name B-depart_time.period_of_day B-or B-depart_date.day_name O',\n",
              " 'no_msg O O O O O O O O O O B-fromloc.city_name I-fromloc.city_name I-fromloc.city_name O O B-toloc.city_name I-toloc.city_name B-or B-toloc.city_name O O B-depart_time.time_relative B-depart_time.time I-depart_time.time O',\n",
              " 'no_msg O O O O O O B-fromloc.city_name B-or B-fromloc.city_name B-or B-fromloc.city_name O O O B-toloc.city_name O',\n",
              " 'no_msg O O O O O O O O B-toloc.city_name O B-fromloc.city_name B-fromloc.city_name B-or B-fromloc.city_name O',\n",
              " 'no_msg O O O B-fromloc.city_name O B-toloc.city_name O B-depart_date.day_name B-or B-depart_date.day_name B-airline_name I-airline_name O',\n",
              " 'no_msg O O O O B-round_trip I-round_trip O O B-fromloc.city_name O B-toloc.city_name O B-depart_date.day_name B-depart_time.period_of_day B-or B-depart_date.day_name B-depart_time.period_of_day O',\n",
              " 'no_msg O O O O O O O B-fromloc.city_name O B-toloc.city_name B-toloc.state_code O O O O B-depart_date.day_name B-depart_time.time_relative B-depart_time.time I-depart_time.time B-or B-depart_date.day_name B-depart_time.time_relative B-depart_time.time I-depart_time.time O',\n",
              " 'no_msg O O O O O O B-fromloc.city_name O B-toloc.city_name O B-depart_date.today_relative B-depart_time.period_of_day B-or B-depart_time.period_of_day O',\n",
              " 'no_msg O O O O O O B-fromloc.city_name O B-toloc.city_name B-or B-toloc.city_name B-toloc.state_code O',\n",
              " 'no_msg O O O B-depart_date.date_relative O O O O O O O B-fromloc.city_name O B-toloc.city_name I-toloc.city_name B-or O B-toloc.city_name O',\n",
              " 'no_msg O O O B-round_trip I-round_trip O O B-fromloc.city_name O B-toloc.city_name O O O B-depart_date.month_name B-depart_date.day_number I-depart_date.day_number B-or O B-depart_date.month_name B-depart_date.day_number I-depart_date.day_number O',\n",
              " 'no_msg O O O O O B-fromloc.city_name O B-toloc.city_name O B-depart_date.day_name B-or B-depart_date.day_name B-airline_name I-airline_name O',\n",
              " 'no_msg O O B-airline_name I-airline_name O O B-fromloc.city_name O B-toloc.city_name O B-depart_date.day_name B-or B-depart_date.day_name O',\n",
              " 'no_msg O O O O O O B-fromloc.city_name O B-toloc.city_name B-or B-toloc.city_name B-toloc.state_code O O B-arrive_time.time_relative B-or B-arrive_time.time_relative B-arrive_time.time O',\n",
              " 'no_msg O O O O O B-toloc.city_name O O B-fromloc.city_name B-or B-fromloc.city_name B-or B-fromloc.city_name O',\n",
              " 'no_msg O O O O O O O O O O O B-toloc.city_name I-toloc.city_name B-or B-toloc.city_name O B-fromloc.city_name O O B-arrive_time.time_relative B-arrive_time.time I-arrive_time.time O',\n",
              " 'no_msg O O O O O B-fromloc.city_name O B-toloc.city_name O B-depart_date.day_name B-depart_time.period_of_day B-or B-depart_date.day_name B-depart_time.period_of_day O',\n",
              " 'no_msg O O O O B-fromloc.city_name I-fromloc.city_name O B-toloc.city_name O O B-depart_date.day_name O B-depart_date.day_number I-depart_date.day_number B-or B-depart_date.day_name O B-depart_date.day_number I-depart_date.day_number O',\n",
              " 'no_msg O O O O O O B-fromloc.city_name O B-toloc.city_name O B-depart_date.day_name B-or B-depart_date.day_name O B-airline_name I-airline_name O',\n",
              " 'no_msg O O O O O O O B-toloc.city_name O B-fromloc.city_name B-or B-fromloc.city_name B-or B-fromloc.city_name O',\n",
              " 'no_msg O O O O O O B-fromloc.city_name I-fromloc.city_name O B-toloc.city_name O O O O O B-toloc.city_name B-arrive_time.time_relative B-arrive_time.time I-arrive_time.time B-or O O O O O O',\n",
              " 'no_msg O O O O O O O O B-fromloc.city_name O B-toloc.city_name O O O O B-depart_time.period_of_day B-or B-depart_time.period_of_day O',\n",
              " 'no_msg O O O O O O O O B-round_trip I-round_trip O O B-fromloc.city_name O B-toloc.city_name O O B-depart_date.day_number I-depart_date.day_number B-or O B-depart_date.day_number I-depart_date.day_number O B-depart_date.month_name O',\n",
              " 'no_msg O O O O O B-fromloc.city_name O B-toloc.city_name O B-depart_date.day_name B-depart_time.period_of_day B-or B-depart_date.day_name B-depart_time.period_of_day O',\n",
              " 'no_msg O O O O O O B-fromloc.city_name O B-toloc.city_name O B-depart_date.day_name B-or B-depart_date.day_name O',\n",
              " 'no_msg O O O O O O O B-fromloc.city_name O B-toloc.city_name B-toloc.state_code O O O O B-depart_time.time_relative B-depart_time.time I-depart_time.time O B-depart_date.day_name B-or B-depart_time.time_relative B-depart_time.time I-depart_time.time O B-depart_date.day_name O',\n",
              " 'no_msg O O O B-fromloc.city_name B-or B-fromloc.city_name O O O O B-stoploc.city_name O O B-toloc.city_name I-toloc.city_name O',\n",
              " 'no_msg O O B-flight_mod O O B-fromloc.city_name O B-toloc.city_name I-toloc.city_name I-toloc.city_name O B-depart_date.day_name B-or B-flight_mod O O B-fromloc.city_name O B-toloc.city_name I-toloc.city_name I-toloc.city_name O B-depart_date.day_name O',\n",
              " 'no_msg O O O O O B-fromloc.city_name O B-toloc.city_name O B-depart_date.day_name B-depart_time.period_of_day B-or B-depart_date.day_name B-depart_time.period_of_day O',\n",
              " 'no_msg O O O O O B-fromloc.city_name O B-toloc.city_name O O O O B-depart_time.period_of_day B-or O O O B-depart_time.period_of_day O',\n",
              " 'no_msg O O O O O O O O B-fromloc.city_name O B-toloc.city_name O O B-toloc.city_name O B-arrive_time.time I-arrive_time.time B-arrive_date.day_name B-arrive_time.period_of_day O B-or B-arrive_time.time_relative B-arrive_time.time I-arrive_time.time B-arrive_date.day_name B-arrive_time.period_of_day O',\n",
              " 'no_msg O O O B-fare_basis_code O O O O O',\n",
              " 'no_msg O O O O O B-fare_basis_code O O',\n",
              " 'no_msg O O O O O O O B-fare_basis_code O O O B-fare_basis_code O',\n",
              " 'no_msg O O O O O B-fare_basis_code O O',\n",
              " 'no_msg O O O B-fare_basis_code O O',\n",
              " 'no_msg O O O O B-fare_basis_code O O',\n",
              " 'no_msg O O O O O O B-fare_basis_code O O',\n",
              " 'no_msg O O O O O B-fare_basis_code O O',\n",
              " 'no_msg O O O O O B-fare_basis_code O',\n",
              " 'no_msg O O O O O B-fare_basis_code O B-fare_basis_code O',\n",
              " 'no_msg O O O O O B-fare_basis_code O',\n",
              " 'no_msg O O B-round_trip I-round_trip O O B-fromloc.city_name O B-toloc.city_name O O O O B-fare_basis_code O',\n",
              " 'no_msg O O O B-airline_name O O B-fromloc.city_name O B-toloc.city_name I-toloc.city_name O O O B-fare_basis_code O',\n",
              " 'no_msg O O O O O B-fare_basis_code O',\n",
              " 'no_msg O O O O O B-fare_basis_code O O',\n",
              " 'no_msg O O O O B-fare_basis_code O O',\n",
              " 'no_msg O O O O O B-fare_basis_code O',\n",
              " 'no_msg O O O O O B-fare_basis_code O O',\n",
              " 'no_msg O O O O O B-fare_basis_code O O',\n",
              " 'no_msg O O O O O O O O B-fare_basis_code O B-fare_basis_code O',\n",
              " 'no_msg O O O B-fare_basis_code O O O O O',\n",
              " 'no_msg O O O O O O B-fare_basis_code O O',\n",
              " 'no_msg O O O O B-fromloc.city_name O B-toloc.city_name O B-depart_date.day_name O O O O O B-fare_basis_code O',\n",
              " 'no_msg O O O O B-fare_basis_code O',\n",
              " 'no_msg O O O B-fare_basis_code O O',\n",
              " 'no_msg O O O O O B-fare_basis_code O O',\n",
              " 'no_msg O O O O B-fare_basis_code O O O',\n",
              " 'no_msg O O O O O O B-fare_basis_code O O',\n",
              " 'no_msg O O O O O O B-fare_basis_code O O O O',\n",
              " 'no_msg O O O O O O B-fare_basis_code O O O O O O B-fare_basis_code O',\n",
              " 'no_msg O O O O O O O B-fare_basis_code O O O B-fare_basis_code O',\n",
              " 'no_msg O O O B-fare_basis_code O O O',\n",
              " 'no_msg O O O O O B-fare_basis_code O',\n",
              " 'no_msg O O O O B-fare_basis_code O O',\n",
              " 'no_msg O O O O O B-fare_basis_code O O',\n",
              " 'no_msg O O O O O B-fare_basis_code O',\n",
              " 'no_msg O O O O O B-fare_basis_code O',\n",
              " 'no_msg O O O B-fare_basis_code O O',\n",
              " 'no_msg O O O O O B-fare_basis_code O O',\n",
              " 'no_msg O O O O B-fare_basis_code O',\n",
              " 'no_msg O O O O B-fare_basis_code O',\n",
              " 'no_msg O O O O B-airline_name O O B-meal O O B-fromloc.city_name O B-depart_date.day_name O B-toloc.city_name O',\n",
              " 'no_msg O O O O O O B-fromloc.city_name I-fromloc.city_name O B-toloc.city_name I-toloc.city_name O B-depart_date.day_name O O B-meal O',\n",
              " 'no_msg O O O O B-depart_date.day_name B-depart_time.period_of_day O O B-fromloc.city_name O B-toloc.city_name I-toloc.city_name O B-airline_name O O B-meal O',\n",
              " 'no_msg O O O O O O O B-flight_mod O O B-depart_date.day_name O O O O B-fromloc.city_name O B-toloc.city_name I-toloc.city_name I-toloc.city_name O O O B-meal O',\n",
              " 'no_msg O O O O O O O B-fromloc.city_name O B-toloc.city_name O O B-meal O',\n",
              " 'no_msg O O O O B-flight_mod O O B-fromloc.city_name O B-toloc.city_name I-toloc.city_name O O O B-meal O',\n",
              " 'no_msg O O O O O O B-fromloc.city_name O B-toloc.city_name B-depart_date.today_relative O O O B-meal O',\n",
              " 'no_msg O O O O B-fromloc.city_name I-fromloc.city_name O B-toloc.city_name I-toloc.city_name B-depart_date.day_name O O B-depart_time.period_of_day O O B-meal O O',\n",
              " 'no_msg O O O O O O O O O B-meal O B-fromloc.city_name O B-toloc.city_name B-depart_time.time_relative B-depart_time.time O B-depart_date.day_name O',\n",
              " 'no_msg O O O O O O B-fromloc.city_name O B-toloc.city_name B-depart_date.day_name B-depart_time.period_of_day O O B-meal O',\n",
              " 'no_msg O O O O O O B-fromloc.city_name O B-toloc.city_name O O O O O O O O B-meal O',\n",
              " 'no_msg O O O O O O O O B-depart_date.day_name B-depart_time.period_of_day O B-fromloc.city_name O B-toloc.city_name O O O B-meal O O O O O O O O',\n",
              " 'no_msg O O O O O O B-fromloc.city_name O B-toloc.city_name O B-depart_date.day_name O O O B-meal O',\n",
              " 'no_msg O O O B-airline_code B-flight_number O B-fromloc.city_name O B-toloc.city_name O O B-meal O',\n",
              " 'no_msg O O O O B-fromloc.city_name I-fromloc.city_name O B-toloc.city_name I-toloc.city_name O B-depart_date.day_name O O B-meal O',\n",
              " 'no_msg O O O O O O B-fromloc.city_name O B-toloc.city_name O O B-meal O B-airline_name B-depart_date.day_name B-depart_time.period_of_day O',\n",
              " 'no_msg O O O O O B-fromloc.city_name O B-toloc.city_name O B-airline_name I-airline_name O O O B-depart_date.day_name B-depart_time.time_relative B-depart_time.time O O O B-meal O',\n",
              " 'no_msg O O O O B-flight_mod O O B-depart_date.month_name B-depart_date.day_number O B-fromloc.city_name O B-toloc.city_name O O O B-meal O',\n",
              " 'no_msg O O O O O O B-fromloc.city_name O B-toloc.city_name O B-depart_date.day_name O O O B-meal O O B-arrive_time.time_relative B-arrive_time.time O',\n",
              " 'no_msg O O B-flight_mod O O B-fromloc.city_name O B-toloc.city_name I-toloc.city_name O O O O O O B-meal O',\n",
              " 'no_msg O O O B-flight_mod O O B-fromloc.city_name O B-toloc.city_name I-toloc.city_name O O O B-meal O',\n",
              " 'no_msg O O O O O O B-fromloc.city_name I-fromloc.city_name O B-toloc.city_name I-toloc.city_name O B-depart_date.day_name B-depart_time.period_of_day O O B-meal O',\n",
              " 'no_msg O O O O O O B-fromloc.city_name O B-toloc.city_name O B-depart_date.day_name O O O B-meal O O O B-toloc.city_name B-arrive_time.time_relative B-arrive_time.time O',\n",
              " 'no_msg O O O B-meal B-fromloc.city_name O B-toloc.city_name B-depart_date.day_name O',\n",
              " 'no_msg O O O B-flight_mod O O B-fromloc.city_name I-fromloc.city_name O B-toloc.city_name O B-airline_name O O B-meal O O O',\n",
              " 'no_msg O O B-airline_name O O O B-fromloc.city_name O B-toloc.city_name B-depart_time.time_relative B-depart_time.time I-depart_time.time O O B-depart_time.period_of_day O O O B-meal O',\n",
              " 'no_msg O O O O B-depart_date.day_name B-depart_time.period_of_day O O B-airline_name O O B-meal O B-fromloc.city_name O B-toloc.city_name O',\n",
              " 'no_msg O O B-flight_mod O O B-fromloc.city_name O B-toloc.city_name O O O O O B-meal O O O',\n",
              " 'no_msg O O O B-airline_name I-airline_name O O B-meal O',\n",
              " 'no_msg O O O O B-flight_mod O O B-fromloc.city_name O B-toloc.city_name O O O B-meal O',\n",
              " 'no_msg O O O O O B-fromloc.city_name O B-toloc.city_name O O B-meal O B-airline_name O',\n",
              " 'no_msg O O O B-flight_mod O O B-fromloc.city_name I-fromloc.city_name O B-toloc.city_name O O O B-meal O',\n",
              " 'no_msg O O O O O O B-flight_mod O O B-fromloc.city_name O B-toloc.city_name O O O B-meal O',\n",
              " 'no_msg O O O O O B-aircraft_code O O O B-fromloc.city_name I-fromloc.city_name O B-toloc.city_name O',\n",
              " 'no_msg O O O O B-fromloc.city_name O B-toloc.city_name I-toloc.city_name I-toloc.city_name O B-airline_name B-aircraft_code O',\n",
              " 'no_msg O O O O O O B-fromloc.city_name O B-toloc.city_name I-toloc.city_name O O O B-aircraft_code O',\n",
              " 'no_msg O O O O O B-aircraft_code O O',\n",
              " 'no_msg O O O O O O O O O O O O O O O B-aircraft_code O B-fromloc.city_name B-fromloc.state_code O B-toloc.city_name B-toloc.state_name O',\n",
              " 'no_msg O O O O O O O B-flight_mod O O B-fromloc.city_name O B-toloc.city_name I-toloc.city_name O O B-aircraft_code O B-depart_date.month_name B-depart_date.day_number I-depart_date.day_number O',\n",
              " 'no_msg O O O O O O B-fromloc.city_name O B-toloc.city_name O O B-aircraft_code O O',\n",
              " 'no_msg O O O B-aircraft_code O',\n",
              " 'no_msg O O O O O O O B-fromloc.city_name O B-toloc.city_name B-flight_stop O O O B-aircraft_code O B-toloc.city_name B-arrive_time.time_relative B-arrive_time.time I-arrive_time.time O',\n",
              " 'no_msg O O O O O O O B-aircraft_code O',\n",
              " 'no_msg O O O O O O O O O O B-fromloc.city_name O B-toloc.city_name I-toloc.city_name O O B-aircraft_code O B-depart_date.month_name B-depart_date.day_number I-depart_date.day_number O',\n",
              " 'no_msg O O O O O O O O O O O B-aircraft_code O O O O O O B-fromloc.city_name O B-toloc.city_name O',\n",
              " 'no_msg O O O O O O O O O O B-aircraft_code O',\n",
              " 'no_msg O O O O O O O B-aircraft_code O',\n",
              " 'no_msg O O B-airline_name O O B-aircraft_code O',\n",
              " 'no_msg O O O O O B-aircraft_code O O B-fromloc.city_name O B-toloc.city_name O',\n",
              " 'no_msg O O O O O O B-fromloc.city_name O B-toloc.city_name O O B-aircraft_code O O',\n",
              " 'no_msg O B-depart_time.time_relative B-depart_time.time I-depart_time.time O B-depart_date.day_name O O O B-aircraft_code O O O B-fromloc.city_name O B-toloc.city_name I-toloc.city_name O',\n",
              " 'no_msg O O O O O B-aircraft_code O',\n",
              " 'no_msg O O O O O O B-fromloc.city_name I-fromloc.city_name O B-toloc.city_name I-toloc.city_name O B-aircraft_code O',\n",
              " 'no_msg O O O O O O B-fromloc.city_name O B-toloc.city_name O O O O O B-stoploc.city_name O B-depart_date.month_name B-depart_date.day_number B-round_trip I-round_trip O B-meal_description O',\n",
              " 'no_msg O O O O B-fromloc.city_name O B-toloc.city_name I-toloc.city_name O O O B-meal_description O',\n",
              " 'no_msg O O O O B-flight_mod B-meal_description O O B-fromloc.city_name O B-toloc.city_name O',\n",
              " 'no_msg O O O O O B-depart_date.today_relative B-depart_time.period_of_day O B-fromloc.city_name O B-toloc.city_name O O B-meal_description O B-depart_date.today_relative O',\n",
              " 'no_msg O O O O O O B-airline_name O B-flight_number O B-meal_description O',\n",
              " 'no_msg O O O B-flight_mod B-meal_description O O B-fromloc.city_name O B-toloc.city_name O',\n",
              " 'no_msg O O O O O O B-fromloc.city_name I-fromloc.city_name O B-toloc.city_name I-toloc.city_name O O B-stoploc.city_name O O O O O B-meal_description O',\n",
              " 'no_msg O O O O O O O B-fromloc.city_name O B-toloc.city_name O B-meal_description O',\n",
              " 'no_msg O O O O B-flight_mod O O B-fromloc.city_name O B-toloc.city_name O O B-meal_description O',\n",
              " 'no_msg O O B-meal_description O O O B-airline_code B-flight_number O B-fromloc.city_name O B-toloc.city_name B-class_type I-class_type O',\n",
              " 'no_msg O O O O B-flight_mod O O O O B-fromloc.city_name O B-toloc.city_name O O B-meal_description O',\n",
              " 'no_msg O O O B-meal_description O O B-fromloc.city_name O B-toloc.city_name O B-stoploc.city_name O',\n",
              " ...]"
            ]
          },
          "metadata": {
            "tags": []
          },
          "execution_count": 105
        }
      ]
    },
    {
      "cell_type": "code",
      "metadata": {
        "id": "nLkqkRK_jCwI",
        "colab_type": "code",
        "colab": {}
      },
      "source": [
        "MAX_LEN = 75\n",
        "bs = 32"
      ],
      "execution_count": 0,
      "outputs": []
    },
    {
      "cell_type": "code",
      "metadata": {
        "id": "54GNyF_KjC8o",
        "colab_type": "code",
        "colab": {}
      },
      "source": [
        "\n",
        "device = torch.device(\"cuda\" if torch.cuda.is_available() else \"cpu\")\n",
        "n_gpu = torch.cuda.device_count()\n"
      ],
      "execution_count": 0,
      "outputs": []
    },
    {
      "cell_type": "code",
      "metadata": {
        "id": "87eRqJQajDJJ",
        "colab_type": "code",
        "outputId": "13d1dae9-b724-4870-ccf0-bf487a33aa04",
        "colab": {
          "base_uri": "https://localhost:8080/",
          "height": 35
        }
      },
      "source": [
        "torch.cuda.get_device_name(0) "
      ],
      "execution_count": 10,
      "outputs": [
        {
          "output_type": "execute_result",
          "data": {
            "text/plain": [
              "'Tesla T4'"
            ]
          },
          "metadata": {
            "tags": []
          },
          "execution_count": 10
        }
      ]
    },
    {
      "cell_type": "code",
      "metadata": {
        "id": "N2xF9WLhqLnQ",
        "colab_type": "code",
        "colab": {
          "base_uri": "https://localhost:8080/",
          "height": 35
        },
        "outputId": "16b428aa-338c-4c7d-b9d5-07b32ec270d7"
      },
      "source": [
        "tokenizer = BertTokenizer.from_pretrained('bert-base-uncased', do_lower_case=True)\n"
      ],
      "execution_count": 11,
      "outputs": [
        {
          "output_type": "stream",
          "text": [
            "100%|██████████| 231508/231508 [00:00<00:00, 1201925.19B/s]\n"
          ],
          "name": "stderr"
        }
      ]
    },
    {
      "cell_type": "code",
      "metadata": {
        "id": "jN-39o4N_wNS",
        "colab_type": "code",
        "outputId": "a9b676e4-6dfd-45db-85c2-03b4d84c41e1",
        "colab": {
          "base_uri": "https://localhost:8080/",
          "height": 55
        }
      },
      "source": [
        "tags_vals = list(tag2idx.keys())\n",
        "print(tags_vals)"
      ],
      "execution_count": 107,
      "outputs": [
        {
          "output_type": "stream",
          "text": [
            "['B-aircraft_code', 'B-airline_code', 'B-airline_name', 'B-airport_code', 'B-airport_name', 'B-arrive_date.date_relative', 'B-arrive_date.day_name', 'B-arrive_date.day_number', 'B-arrive_date.month_name', 'B-arrive_date.today_relative', 'B-arrive_time.end_time', 'B-arrive_time.period_mod', 'B-arrive_time.period_of_day', 'B-arrive_time.start_time', 'B-arrive_time.time', 'B-arrive_time.time_relative', 'B-booking_class', 'B-city_name', 'B-class_type', 'B-compartment', 'B-connect', 'B-cost_relative', 'B-day_name', 'B-day_number', 'B-days_code', 'B-depart_date.date_relative', 'B-depart_date.day_name', 'B-depart_date.day_number', 'B-depart_date.month_name', 'B-depart_date.today_relative', 'B-depart_date.year', 'B-depart_time.end_time', 'B-depart_time.period_mod', 'B-depart_time.period_of_day', 'B-depart_time.start_time', 'B-depart_time.time', 'B-depart_time.time_relative', 'B-economy', 'B-fare_amount', 'B-fare_basis_code', 'B-flight', 'B-flight_days', 'B-flight_mod', 'B-flight_number', 'B-flight_stop', 'B-flight_time', 'B-fromloc.airport_code', 'B-fromloc.airport_name', 'B-fromloc.city_name', 'B-fromloc.state_code', 'B-fromloc.state_name', 'B-meal', 'B-meal_code', 'B-meal_description', 'B-mod', 'B-month_name', 'B-or', 'B-period_of_day', 'B-restriction_code', 'B-return_date.date_relative', 'B-return_date.day_name', 'B-return_date.day_number', 'B-return_date.month_name', 'B-return_date.today_relative', 'B-return_time.period_mod', 'B-return_time.period_of_day', 'B-round_trip', 'B-state_code', 'B-state_name', 'B-stoploc.airport_code', 'B-stoploc.airport_name', 'B-stoploc.city_name', 'B-stoploc.state_code', 'B-time', 'B-time_relative', 'B-today_relative', 'B-toloc.airport_code', 'B-toloc.airport_name', 'B-toloc.city_name', 'B-toloc.country_name', 'B-toloc.state_code', 'B-toloc.state_name', 'B-transport_type', 'I-airline_name', 'I-airport_name', 'I-arrive_date.day_number', 'I-arrive_time.end_time', 'I-arrive_time.period_of_day', 'I-arrive_time.start_time', 'I-arrive_time.time', 'I-arrive_time.time_relative', 'I-city_name', 'I-class_type', 'I-cost_relative', 'I-depart_date.day_name', 'I-depart_date.day_number', 'I-depart_date.today_relative', 'I-depart_time.end_time', 'I-depart_time.period_of_day', 'I-depart_time.start_time', 'I-depart_time.time', 'I-depart_time.time_relative', 'I-economy', 'I-fare_amount', 'I-fare_basis_code', 'I-flight_mod', 'I-flight_number', 'I-flight_stop', 'I-flight_time', 'I-fromloc.airport_name', 'I-fromloc.city_name', 'I-fromloc.state_name', 'I-meal_code', 'I-meal_description', 'I-mod', 'I-restriction_code', 'I-return_date.date_relative', 'I-return_date.day_number', 'I-return_date.today_relative', 'I-round_trip', 'I-state_name', 'I-stoploc.city_name', 'I-time', 'I-today_relative', 'I-toloc.airport_name', 'I-toloc.city_name', 'I-toloc.state_name', 'I-transport_type', 'O', 'no_msg', 'ask_src', 'ask_des', 'ask_dep_date', 'ask_return_date']\n"
          ],
          "name": "stdout"
        }
      ]
    },
    {
      "cell_type": "code",
      "metadata": {
        "id": "1v7UgbP7qb3Q",
        "colab_type": "code",
        "outputId": "f2038693-ab66-4923-b86a-cb277cf3e711",
        "colab": {
          "base_uri": "https://localhost:8080/",
          "height": 72
        }
      },
      "source": [
        "tokenized_texts = [tokenizer.tokenize(sent) for sent in train_text]\n",
        "print(tokenized_texts[0:10])\n",
        "len(tokenized_texts)"
      ],
      "execution_count": 108,
      "outputs": [
        {
          "output_type": "stream",
          "text": [
            "[['no', '_', 'ms', '##g', 'bo', '##s', 'what', 'is', 'the', 'cost', 'of', 'a', 'round', 'trip', 'flight', 'from', 'pittsburgh', 'to', 'atlanta', 'beginning', 'on', 'april', 'twenty', 'fifth', 'and', 'returning', 'on', 'may', 'sixth', 'e', '##os'], ['no', '_', 'ms', '##g', 'bo', '##s', 'now', 'i', 'need', 'a', 'flight', 'leaving', 'fort', 'worth', 'and', 'arriving', 'in', 'denver', 'no', 'later', 'than', '2', 'pm', 'next', 'monday', 'e', '##os'], ['no', '_', 'ms', '##g', 'bo', '##s', 'i', 'need', 'to', 'fly', 'from', 'kansas', 'city', 'to', 'chicago', 'leaving', 'next', 'wednesday', 'and', 'returning', 'the', 'following', 'day', 'e', '##os'], ['no', '_', 'ms', '##g', 'bo', '##s', 'what', 'is', 'the', 'meaning', 'of', 'meal', 'code', 's', 'e', '##os'], ['no', '_', 'ms', '##g', 'bo', '##s', 'show', 'me', 'all', 'flights', 'from', 'denver', 'to', 'pittsburgh', 'which', 'serve', 'a', 'meal', 'for', 'the', 'day', 'after', 'tomorrow', 'e', '##os'], ['no', '_', 'ms', '##g', 'bo', '##s', 'show', 'me', 'all', 'us', 'air', 'flights', 'from', 'atlanta', 'to', 'denver', 'for', 'the', 'day', 'after', 'tomorrow', 'e', '##os'], ['no', '_', 'ms', '##g', 'bo', '##s', 'list', 'the', 'nonstop', 'flights', 'early', 'tuesday', 'morning', 'from', 'dallas', 'to', 'atlanta', 'e', '##os'], ['no', '_', 'ms', '##g', 'bo', '##s', 'show', 'me', 'the', 'flights', 'from', 'st', '.', 'petersburg', 'to', 'toronto', 'that', 'arrive', 'early', 'in', 'the', 'morning', 'e', '##os'], ['no', '_', 'ms', '##g', 'bo', '##s', 'i', 'need', 'a', 'listing', 'of', 'flights', 'from', 'new', 'york', 'city', 'to', 'montreal', 'canada', 'departing', 'thursday', 'in', 'the', 'morning', 'e', '##os'], ['no', '_', 'ms', '##g', 'bo', '##s', 'show', 'me', 'the', 'flights', 'on', 'american', 'airlines', 'which', 'fly', 'from', 'st', '.', 'petersburg', 'to', 'ontario', 'canada', 'with', 'a', 'stop', '##over', 'in', 'st', '.', 'louis', 'e', '##os']]\n"
          ],
          "name": "stdout"
        },
        {
          "output_type": "execute_result",
          "data": {
            "text/plain": [
              "24758"
            ]
          },
          "metadata": {
            "tags": []
          },
          "execution_count": 108
        }
      ]
    },
    {
      "cell_type": "code",
      "metadata": {
        "id": "a9E6uCDLrhlP",
        "colab_type": "code",
        "colab": {}
      },
      "source": [
        "#pad_sequences is used to ensure that all sequences in a list have the same length. By default this is done by padding 0 in the beginning of each sequence until each sequence has the same length as the longest sequence.\n",
        "input_ids = pad_sequences([tokenizer.convert_tokens_to_ids(txt) for txt in tokenized_texts],\n",
        "                          maxlen=MAX_LEN, dtype=\"long\", padding=\"post\")"
      ],
      "execution_count": 0,
      "outputs": []
    },
    {
      "cell_type": "code",
      "metadata": {
        "id": "Wp2LcKK1JCk9",
        "colab_type": "code",
        "outputId": "a3a1c740-0903-4e7d-ba11-bab13ff93a80",
        "colab": {
          "base_uri": "https://localhost:8080/",
          "height": 139
        }
      },
      "source": [
        "input_ids"
      ],
      "execution_count": 110,
      "outputs": [
        {
          "output_type": "execute_result",
          "data": {
            "text/plain": [
              "array([[2053, 1035, 5796, ...,    0,    0,    0],\n",
              "       [2053, 1035, 5796, ...,    0,    0,    0],\n",
              "       [2053, 1035, 5796, ...,    0,    0,    0],\n",
              "       ...,\n",
              "       [3198, 1035, 2709, ...,    0,    0,    0],\n",
              "       [3198, 1035, 2709, ...,    0,    0,    0],\n",
              "       [3198, 1035, 2709, ...,    0,    0,    0]])"
            ]
          },
          "metadata": {
            "tags": []
          },
          "execution_count": 110
        }
      ]
    },
    {
      "cell_type": "code",
      "metadata": {
        "id": "PluJlXgfP3_M",
        "colab_type": "code",
        "colab": {}
      },
      "source": [
        "tok_slot=[]\n",
        "\n",
        "for i in train_slot:\n",
        "  tok_slot.append(i.split())"
      ],
      "execution_count": 0,
      "outputs": []
    },
    {
      "cell_type": "code",
      "metadata": {
        "id": "C_YvITXSxrlg",
        "colab_type": "code",
        "colab": {}
      },
      "source": [
        "tags = pad_sequences([[tag2idx.get(l) for l in lab] for lab in tok_slot],\n",
        "                     maxlen=MAX_LEN, value=tag2idx[\"O\"], padding=\"post\",dtype=\"long\", truncating=\"post\")"
      ],
      "execution_count": 0,
      "outputs": []
    },
    {
      "cell_type": "code",
      "metadata": {
        "id": "AkY9DzQWF__P",
        "colab_type": "code",
        "outputId": "55e97d2d-5e5b-44c9-e9e9-bf1c1777ee92",
        "colab": {
          "base_uri": "https://localhost:8080/",
          "height": 87
        }
      },
      "source": [
        "print(len(train_text))\n",
        "print(len(train_slot))\n",
        "print(len(tags))\n",
        "print(len(input_ids))"
      ],
      "execution_count": 113,
      "outputs": [
        {
          "output_type": "stream",
          "text": [
            "24758\n",
            "24758\n",
            "24758\n",
            "24758\n"
          ],
          "name": "stdout"
        }
      ]
    },
    {
      "cell_type": "code",
      "metadata": {
        "id": "H1t21tNXzj6d",
        "colab_type": "code",
        "colab": {}
      },
      "source": [
        "attention_masks = [[float(i>0) for i in ii] for ii in input_ids]"
      ],
      "execution_count": 0,
      "outputs": []
    },
    {
      "cell_type": "code",
      "metadata": {
        "id": "TX_Z1iook4mV",
        "colab_type": "code",
        "outputId": "59fd7bbc-4712-49fc-b475-80697e48be02",
        "colab": {
          "base_uri": "https://localhost:8080/",
          "height": 55
        }
      },
      "source": [
        "print(attention_masks[:1])"
      ],
      "execution_count": 115,
      "outputs": [
        {
          "output_type": "stream",
          "text": [
            "[[1.0, 1.0, 1.0, 1.0, 1.0, 1.0, 1.0, 1.0, 1.0, 1.0, 1.0, 1.0, 1.0, 1.0, 1.0, 1.0, 1.0, 1.0, 1.0, 1.0, 1.0, 1.0, 1.0, 1.0, 1.0, 1.0, 1.0, 1.0, 1.0, 1.0, 1.0, 0.0, 0.0, 0.0, 0.0, 0.0, 0.0, 0.0, 0.0, 0.0, 0.0, 0.0, 0.0, 0.0, 0.0, 0.0, 0.0, 0.0, 0.0, 0.0, 0.0, 0.0, 0.0, 0.0, 0.0, 0.0, 0.0, 0.0, 0.0, 0.0, 0.0, 0.0, 0.0, 0.0, 0.0, 0.0, 0.0, 0.0, 0.0, 0.0, 0.0, 0.0, 0.0, 0.0, 0.0]]\n"
          ],
          "name": "stdout"
        }
      ]
    },
    {
      "cell_type": "code",
      "metadata": {
        "id": "302fzX6hB8C7",
        "colab_type": "code",
        "colab": {}
      },
      "source": [
        "tr_inputs, val_inputs, tr_tags, val_tags = train_test_split(input_ids, tags, \n",
        "                                                            random_state=2018, test_size=0.1)\n",
        "tr_masks, val_masks, _, _ = train_test_split(attention_masks, input_ids,\n",
        "                                             random_state=2018, test_size=0.1)"
      ],
      "execution_count": 0,
      "outputs": []
    },
    {
      "cell_type": "code",
      "metadata": {
        "id": "G9O0L8uMC1JS",
        "colab_type": "code",
        "outputId": "69f5a334-c05d-4a82-d538-8acc4c71492f",
        "colab": {
          "base_uri": "https://localhost:8080/",
          "height": 35
        }
      },
      "source": [
        "len(val_inputs)"
      ],
      "execution_count": 117,
      "outputs": [
        {
          "output_type": "execute_result",
          "data": {
            "text/plain": [
              "2476"
            ]
          },
          "metadata": {
            "tags": []
          },
          "execution_count": 117
        }
      ]
    },
    {
      "cell_type": "code",
      "metadata": {
        "id": "AWFg_5kKCInq",
        "colab_type": "code",
        "colab": {}
      },
      "source": [
        "tr_inputs = torch.tensor(tr_inputs)\n",
        "val_inputs = torch.tensor(val_inputs)\n",
        "tr_tags = torch.tensor(tr_tags)\n",
        "val_tags = torch.tensor(val_tags)\n",
        "tr_masks = torch.tensor(tr_masks)\n",
        "val_masks = torch.tensor(val_masks)"
      ],
      "execution_count": 0,
      "outputs": []
    },
    {
      "cell_type": "code",
      "metadata": {
        "id": "U01KGeVeaSYp",
        "colab_type": "code",
        "colab": {}
      },
      "source": [
        "_#TensorDataset:Dataset wrapping tensors.\n",
        "\n",
        "#Each sample will be retrieved by indexing tensors along the first dimension.\n",
        "\n",
        "train_data = TensorDataset(tr_inputs, tr_masks, tr_tags)\n",
        "train_sampler = RandomSampler(train_data)\n",
        "train_dataloader = DataLoader(train_data, sampler=train_sampler, batch_size=bs)\n",
        "\n",
        "valid_data = TensorDataset(val_inputs, val_masks, val_tags)\n",
        "valid_sampler = SequentialSampler(valid_data)\n",
        "valid_dataloader = DataLoader(valid_data, sampler=valid_sampler, batch_size=bs)\n",
        "\n",
        "\n",
        "#Data loader. Combines a dataset and a sampler, and provides single- or multi-process iterators over the dataset.\n",
        "# sampler (Sampler, optional) – defines the strategy to draw samples from the dataset. \n",
        "# bs=32\n",
        "\n",
        "\n"
      ],
      "execution_count": 0,
      "outputs": []
    },
    {
      "cell_type": "code",
      "metadata": {
        "id": "qxwE5iO2gBsI",
        "colab_type": "code",
        "colab": {}
      },
      "source": [
        "model = BertForTokenClassification.from_pretrained(\"bert-base-uncased\", num_labels=len(tag2idx))"
      ],
      "execution_count": 0,
      "outputs": []
    },
    {
      "cell_type": "code",
      "metadata": {
        "id": "3795zm7BgEdQ",
        "colab_type": "code",
        "colab": {}
      },
      "source": [
        "model.cuda();"
      ],
      "execution_count": 0,
      "outputs": []
    },
    {
      "cell_type": "code",
      "metadata": {
        "id": "275x3N91gLIX",
        "colab_type": "code",
        "colab": {}
      },
      "source": [
        "\n",
        "FULL_FINETUNING = True\n",
        "if FULL_FINETUNING:\n",
        "    param_optimizer = list(model.named_parameters())\n",
        "    no_decay = ['bias', 'gamma', 'beta']\n",
        "    optimizer_grouped_parameters = [\n",
        "        {'params': [p for n, p in param_optimizer if not any(nd in n for nd in no_decay)],\n",
        "         'weight_decay_rate': 0.01},\n",
        "        {'params': [p for n, p in param_optimizer if any(nd in n for nd in no_decay)],\n",
        "         'weight_decay_rate': 0.0}\n",
        "    ]\n",
        "else:\n",
        "    param_optimizer = list(model.classifier.named_parameters()) \n",
        "    optimizer_grouped_parameters = [{\"params\": [p for n, p in param_optimizer]}]\n",
        "optimizer = Adam(optimizer_grouped_parameters, lr=3e-5)\n"
      ],
      "execution_count": 0,
      "outputs": []
    },
    {
      "cell_type": "code",
      "metadata": {
        "id": "EZUY_pMwgQ5P",
        "colab_type": "code",
        "colab": {}
      },
      "source": [
        "\n",
        "\n",
        "def flat_accuracy(preds, labels):\n",
        "    pred_flat = np.argmax(preds, axis=2).flatten()\n",
        "    labels_flat = labels.flatten()\n",
        "    return np.sum(pred_flat == labels_flat) / len(labels_flat)"
      ],
      "execution_count": 0,
      "outputs": []
    },
    {
      "cell_type": "markdown",
      "metadata": {
        "id": "RQTe81llq420",
        "colab_type": "text"
      },
      "source": [
        "In some cases you may find that each layer of your net amplifies the gradient it receives. This causes a problem because the lower layers of the net then get huge gradients and their updates will be far too large to allow the model to learn anything.\n",
        "\n",
        "This function ‘clips’ the norm of the gradients by scaling the gradients down by the same amount in order to reduce the norm to an acceptable level. In practice this places a limit on the size of the parameter updates.\n",
        "\n",
        "The hope is that this will ensure that your model gets reasonably sized gradients and that the corresponding updates will allow the model to learn."
      ]
    },
    {
      "cell_type": "code",
      "metadata": {
        "id": "Dg0AK__rgT3T",
        "colab_type": "code",
        "outputId": "6b0361ac-797d-4d6b-d12b-c676c192794b",
        "colab": {
          "base_uri": "https://localhost:8080/",
          "height": 555
        }
      },
      "source": [
        "epochs = 5\n",
        "max_grad_norm = 1.0\n",
        "\n",
        "for _ in trange(epochs, desc=\"Epoch\"):\n",
        "    # TRAIN loop\n",
        "    model.train()\n",
        "    tr_loss = 0\n",
        "    nb_tr_examples, nb_tr_steps = 0, 0\n",
        "    for step, batch in enumerate(train_dataloader):\n",
        "        # add batch to gpu\n",
        "        batch = tuple(t.to(device) for t in batch)\n",
        "        b_input_ids, b_input_mask, b_labels = batch\n",
        "        \n",
        "        # forward pass\n",
        "        loss = model(b_input_ids, token_type_ids=None,\n",
        "                     attention_mask=b_input_mask, labels=b_labels)\n",
        "        \n",
        "        # backward pass\n",
        "        loss.backward()\n",
        "        \n",
        "        # track train loss\n",
        "        tr_loss += loss.item()\n",
        "        nb_tr_examples += b_input_ids.size(0)\n",
        "        nb_tr_steps += 1\n",
        "        # gradient clipping\n",
        "        torch.nn.utils.clip_grad_norm_(parameters=model.parameters(), max_norm=max_grad_norm)\n",
        "        # update parameters\n",
        "        optimizer.step()\n",
        "        model.zero_grad()\n",
        "    # print train loss per epoch\n",
        "    print(\"Train loss: {}\".format(tr_loss/nb_tr_steps))\n",
        "    print(\"tr loss \",tr_loss)\n",
        "    # VALIDATION on validation set\n",
        "    model.eval()\n",
        "    eval_loss, eval_accuracy = 0, 0\n",
        "    nb_eval_steps, nb_eval_examples = 0, 0\n",
        "    predictions , true_labels = [], []\n",
        "    for batch in valid_dataloader:\n",
        "        batch = tuple(t.to(device) for t in batch)\n",
        "        b_input_ids, b_input_mask, b_labels = batch\n",
        "        \n",
        "        with torch.no_grad():\n",
        "            tmp_eval_loss = model(b_input_ids, token_type_ids=None,\n",
        "                                  attention_mask=b_input_mask, labels=b_labels)\n",
        "            logits = model(b_input_ids, token_type_ids=None,\n",
        "                           attention_mask=b_input_mask)\n",
        "        logits = logits.detach().cpu().numpy()\n",
        "        label_ids = b_labels.to('cpu').numpy()\n",
        "        predictions.extend([list(p) for p in np.argmax(logits, axis=2)])\n",
        "        true_labels.append(label_ids)\n",
        "        \n",
        "        tmp_eval_accuracy = flat_accuracy(logits, label_ids)\n",
        "        \n",
        "        eval_loss += tmp_eval_loss.mean().item()\n",
        "        eval_accuracy += tmp_eval_accuracy\n",
        "        \n",
        "        nb_eval_examples += b_input_ids.size(0)\n",
        "        nb_eval_steps += 1\n",
        "    print(\"eval_example \",nb_eval_examples)\n",
        "    eval_loss = eval_loss/nb_eval_steps\n",
        "    print(\"Validation loss: {}\".format(eval_loss))\n",
        "    print(\"Validation Accuracy: {}\".format(eval_accuracy/nb_eval_steps))\n",
        "    pred_tags = [tags_vals[p_i] for p in predictions for p_i in p]\n",
        "    valid_tags = [tags_vals[l_ii] for l in true_labels for l_i in l for l_ii in l_i]\n",
        "    print(\"F1-Score: {}\".format(f1_score(pred_tags, valid_tags)))"
      ],
      "execution_count": 124,
      "outputs": [
        {
          "output_type": "stream",
          "text": [
            "\rEpoch:   0%|          | 0/5 [00:00<?, ?it/s]"
          ],
          "name": "stderr"
        },
        {
          "output_type": "stream",
          "text": [
            "Train loss: 0.09776385831733474\n",
            "tr loss  68.14140924718231\n",
            "eval_example  2476\n",
            "Validation loss: 0.023813401092178166\n",
            "Validation Accuracy: 0.9949697293447295\n"
          ],
          "name": "stdout"
        },
        {
          "output_type": "stream",
          "text": [
            "\rEpoch:  20%|██        | 1/5 [06:54<27:38, 414.62s/it]"
          ],
          "name": "stderr"
        },
        {
          "output_type": "stream",
          "text": [
            "F1-Score: 0.9006028525216879\n",
            "Train loss: 0.018859301488799773\n",
            "tr loss  13.144933137693442\n",
            "eval_example  2476\n",
            "Validation loss: 0.012351521932615492\n",
            "Validation Accuracy: 0.9970548433048441\n"
          ],
          "name": "stdout"
        },
        {
          "output_type": "stream",
          "text": [
            "\rEpoch:  40%|████      | 2/5 [13:51<20:45, 415.17s/it]"
          ],
          "name": "stderr"
        },
        {
          "output_type": "stream",
          "text": [
            "F1-Score: 0.942373874203705\n",
            "Train loss: 0.010848568603381384\n",
            "tr loss  7.561452316556824\n",
            "eval_example  2476\n",
            "Validation loss: 0.00882723489709091\n",
            "Validation Accuracy: 0.9977368233618237\n"
          ],
          "name": "stdout"
        },
        {
          "output_type": "stream",
          "text": [
            "\rEpoch:  60%|██████    | 3/5 [20:47<13:51, 415.50s/it]"
          ],
          "name": "stderr"
        },
        {
          "output_type": "stream",
          "text": [
            "F1-Score: 0.9550258765216123\n",
            "Train loss: 0.007385572163922441\n",
            "tr loss  5.147743798253941\n",
            "eval_example  2476\n",
            "Validation loss: 0.006789154373855593\n",
            "Validation Accuracy: 0.998358262108263\n"
          ],
          "name": "stdout"
        },
        {
          "output_type": "stream",
          "text": [
            "\rEpoch:  80%|████████  | 4/5 [27:43<06:55, 415.63s/it]"
          ],
          "name": "stderr"
        },
        {
          "output_type": "stream",
          "text": [
            "F1-Score: 0.9686884169038756\n",
            "Train loss: 0.005184359029729629\n",
            "tr loss  3.6134982437215513\n",
            "eval_example  2476\n",
            "Validation loss: 0.0060634969416311765\n",
            "Validation Accuracy: 0.9985274216524224\n"
          ],
          "name": "stdout"
        },
        {
          "output_type": "stream",
          "text": [
            "\rEpoch: 100%|██████████| 5/5 [34:38<00:00, 415.52s/it]"
          ],
          "name": "stderr"
        },
        {
          "output_type": "stream",
          "text": [
            "F1-Score: 0.9724757246112288\n"
          ],
          "name": "stdout"
        },
        {
          "output_type": "stream",
          "text": [
            "\n"
          ],
          "name": "stderr"
        }
      ]
    },
    {
      "cell_type": "code",
      "metadata": {
        "id": "LWGLpnopFC_M",
        "colab_type": "code",
        "colab": {}
      },
      "source": [
        "def get_output(msg:str,text: str):\n",
        "  text=msg+\" BOS \"+text+\" EOS\"\n",
        "\n",
        "  tokenized_texts = [tokenizer.tokenize(text)]\n",
        "  input_ids = pad_sequences([tokenizer.convert_tokens_to_ids(txt) for txt in tokenized_texts],\n",
        "                          maxlen=MAX_LEN, dtype=\"long\", padding=\"post\")\n",
        "  attention_masks = [[float(i>0) for i in ii] for ii in input_ids]  \n",
        "\n",
        "  test_inputs=torch.tensor(input_ids)\n",
        "\n",
        "  test_mask=torch.tensor(attention_masks)\n",
        "\n",
        "  test_data = TensorDataset(test_inputs, test_mask)\n",
        "  test_sampler = RandomSampler(test_data)\n",
        "  test_dataloader = DataLoader(test_data, sampler=test_sampler, batch_size=bs)\n",
        "\n",
        "  predictions=[]\n",
        "\n",
        "\n",
        "\n",
        "  model.eval()\n",
        "  for batch in test_dataloader:\n",
        "      batch = tuple(t.to(device) for t in batch)\n",
        "      b_input_ids, b_input_mask = batch\n",
        "  #     print(b_input_ids)\n",
        "      with torch.no_grad():\n",
        "\n",
        "          logits = model(b_input_ids, token_type_ids=None,\n",
        "                         attention_mask=b_input_mask)\n",
        "\n",
        "      logits = logits.detach().cpu().numpy()\n",
        "      predictions.extend([list(p) for p in np.argmax(logits, axis=2)])\n",
        "      label_ids = b_labels.to('cpu').numpy()\n",
        "  pred_tags = [[tags_vals[p_i] for p_i in p] for p in predictions]  \n",
        "\n",
        "\n",
        "\n",
        "  labels = []\n",
        "  for valid,label in zip(tokenized_texts,pred_tags):\n",
        "      if valid:\n",
        "          labels.append(label)\n",
        "\n",
        "  text=text.split()       \n",
        "  output=[]\n",
        "  for i in range(len(text)):\n",
        "    output.append(\"word: {} Tag: {}\".format(text[i],pred_tags[0][i]))\n",
        "  # output = {word:{\"tag\":label} for word,label in zip(tokenized_texts,labels)}\n",
        "\n",
        "  return output\n",
        "\n",
        "\n",
        "  \n",
        "\n",
        "  \n",
        "  \n",
        "  \n",
        "\n",
        "# no_msg\n",
        "# ask_src\n",
        "# ask_des\n",
        "# ask_dep_date\n",
        "# ask_return_date"
      ],
      "execution_count": 0,
      "outputs": []
    },
    {
      "cell_type": "code",
      "metadata": {
        "id": "SBRFh_pyVPu8",
        "colab_type": "code",
        "colab": {
          "base_uri": "https://localhost:8080/",
          "height": 121
        },
        "outputId": "8612b7cd-f966-4056-c9d6-1864d25307a3"
      },
      "source": [
        "get_output(\"ask_return_date\",\"on june 5th\")"
      ],
      "execution_count": 153,
      "outputs": [
        {
          "output_type": "execute_result",
          "data": {
            "text/plain": [
              "['word: ask_return_date Tag: ask_return_date',\n",
              " 'word: BOS Tag: O',\n",
              " 'word: on Tag: O',\n",
              " 'word: june Tag: B-return_date.month_name',\n",
              " 'word: 5th Tag: B-return_date.day_number',\n",
              " 'word: EOS Tag: O']"
            ]
          },
          "metadata": {
            "tags": []
          },
          "execution_count": 153
        }
      ]
    },
    {
      "cell_type": "markdown",
      "metadata": {
        "id": "Z5I7wlcax5vS",
        "colab_type": "text"
      },
      "source": [
        ""
      ]
    },
    {
      "cell_type": "code",
      "metadata": {
        "id": "zpfAkBmLWsvo",
        "colab_type": "code",
        "colab": {}
      },
      "source": [
        ""
      ],
      "execution_count": 0,
      "outputs": []
    }
  ]
}