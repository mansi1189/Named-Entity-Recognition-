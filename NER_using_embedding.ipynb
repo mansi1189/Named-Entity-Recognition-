{
  "nbformat": 4,
  "nbformat_minor": 0,
  "metadata": {
    "colab": {
      "name": "NER using embedding.ipynb",
      "version": "0.3.2",
      "provenance": [],
      "collapsed_sections": []
    },
    "kernelspec": {
      "name": "python3",
      "display_name": "Python 3"
    }
  },
  "cells": [
    {
      "cell_type": "code",
      "metadata": {
        "id": "VlSMNvvK-OfS",
        "colab_type": "code",
        "colab": {}
      },
      "source": [
        "import pandas as pd\n",
        "import numpy as np"
      ],
      "execution_count": 0,
      "outputs": []
    },
    {
      "cell_type": "code",
      "metadata": {
        "id": "XoETK6JHJXca",
        "colab_type": "code",
        "colab": {}
      },
      "source": [
        "data = pd.read_csv(\"ner_dataset.csv\", encoding=\"latin1\")"
      ],
      "execution_count": 0,
      "outputs": []
    },
    {
      "cell_type": "code",
      "metadata": {
        "id": "Lokplhf_Jb4x",
        "colab_type": "code",
        "colab": {}
      },
      "source": [
        "data = data.fillna(method=\"ffill\")"
      ],
      "execution_count": 0,
      "outputs": []
    },
    {
      "cell_type": "code",
      "metadata": {
        "id": "88Fm0TKmJ_Ak",
        "colab_type": "code",
        "outputId": "9c3b662d-052d-4167-c501-b111f6e0caf9",
        "colab": {
          "base_uri": "https://localhost:8080/",
          "height": 35
        }
      },
      "source": [
        "words = list(set(data[\"Word\"].values))\n",
        "n_words = len(words); n_words"
      ],
      "execution_count": 0,
      "outputs": [
        {
          "output_type": "execute_result",
          "data": {
            "text/plain": [
              "35178"
            ]
          },
          "metadata": {
            "tags": []
          },
          "execution_count": 45
        }
      ]
    },
    {
      "cell_type": "code",
      "metadata": {
        "id": "oYsTEW9FKDWl",
        "colab_type": "code",
        "outputId": "7cd57668-9519-4fab-b05c-e9137876f948",
        "colab": {
          "base_uri": "https://localhost:8080/",
          "height": 35
        }
      },
      "source": [
        "tags = list(set(data[\"Tag\"].values))\n",
        "n_tags = len(tags); n_tags"
      ],
      "execution_count": 0,
      "outputs": [
        {
          "output_type": "execute_result",
          "data": {
            "text/plain": [
              "17"
            ]
          },
          "metadata": {
            "tags": []
          },
          "execution_count": 46
        }
      ]
    },
    {
      "cell_type": "code",
      "metadata": {
        "id": "qItX7-lkKITk",
        "colab_type": "code",
        "colab": {}
      },
      "source": [
        "class SentenceGetter(object):\n",
        "    \n",
        "    def __init__(self, data):\n",
        "        self.n_sent = 1\n",
        "        self.data = data\n",
        "        self.empty = False\n",
        "        agg_func = lambda s: [(w, p, t) for w, p, t in zip(s[\"Word\"].values.tolist(),\n",
        "                                                           s[\"POS\"].values.tolist(),\n",
        "                                                           s[\"Tag\"].values.tolist())]\n",
        "        self.grouped = self.data.groupby(\"Sentence #\").apply(agg_func)\n",
        "        self.sentences = [s for s in self.grouped]\n",
        "    \n",
        "    def get_next(self):\n",
        "        try:\n",
        "            s = self.grouped[\"Sentence: {}\".format(self.n_sent)]\n",
        "            self.n_sent += 1\n",
        "            return s\n",
        "        except:\n",
        "            return None"
      ],
      "execution_count": 0,
      "outputs": []
    },
    {
      "cell_type": "code",
      "metadata": {
        "id": "Xomy9-3UKpAk",
        "colab_type": "code",
        "colab": {}
      },
      "source": [
        "\n",
        "getter = SentenceGetter(data)"
      ],
      "execution_count": 0,
      "outputs": []
    },
    {
      "cell_type": "code",
      "metadata": {
        "id": "DlHQzWJgKrKy",
        "colab_type": "code",
        "colab": {}
      },
      "source": [
        "sent = getter.get_next()"
      ],
      "execution_count": 0,
      "outputs": []
    },
    {
      "cell_type": "code",
      "metadata": {
        "id": "v6SH8QTxKxd8",
        "colab_type": "code",
        "outputId": "5a04c525-9908-4cb5-c843-d05bfdac5193",
        "colab": {
          "base_uri": "https://localhost:8080/",
          "height": 55
        }
      },
      "source": [
        "print(sent)"
      ],
      "execution_count": 0,
      "outputs": [
        {
          "output_type": "stream",
          "text": [
            "[('Thousands', 'NNS', 'O'), ('of', 'IN', 'O'), ('demonstrators', 'NNS', 'O'), ('have', 'VBP', 'O'), ('marched', 'VBN', 'O'), ('through', 'IN', 'O'), ('London', 'NNP', 'B-geo'), ('to', 'TO', 'O'), ('protest', 'VB', 'O'), ('the', 'DT', 'O'), ('war', 'NN', 'O'), ('in', 'IN', 'O'), ('Iraq', 'NNP', 'B-geo'), ('and', 'CC', 'O'), ('demand', 'VB', 'O'), ('the', 'DT', 'O'), ('withdrawal', 'NN', 'O'), ('of', 'IN', 'O'), ('British', 'JJ', 'B-gpe'), ('troops', 'NNS', 'O'), ('from', 'IN', 'O'), ('that', 'DT', 'O'), ('country', 'NN', 'O'), ('.', '.', 'O')]\n"
          ],
          "name": "stdout"
        }
      ]
    },
    {
      "cell_type": "code",
      "metadata": {
        "id": "9e3eP-Y9K1av",
        "colab_type": "code",
        "colab": {}
      },
      "source": [
        "sentences = getter.sentences"
      ],
      "execution_count": 0,
      "outputs": []
    },
    {
      "cell_type": "code",
      "metadata": {
        "id": "Xxl_HyOzLBMK",
        "colab_type": "code",
        "outputId": "99bd9905-9f71-4f59-ee81-3fec4607ca69",
        "colab": {
          "base_uri": "https://localhost:8080/",
          "height": 4160
        }
      },
      "source": [
        "sentences[:10]"
      ],
      "execution_count": 0,
      "outputs": [
        {
          "output_type": "execute_result",
          "data": {
            "text/plain": [
              "[[('Thousands', 'NNS', 'O'),\n",
              "  ('of', 'IN', 'O'),\n",
              "  ('demonstrators', 'NNS', 'O'),\n",
              "  ('have', 'VBP', 'O'),\n",
              "  ('marched', 'VBN', 'O'),\n",
              "  ('through', 'IN', 'O'),\n",
              "  ('London', 'NNP', 'B-geo'),\n",
              "  ('to', 'TO', 'O'),\n",
              "  ('protest', 'VB', 'O'),\n",
              "  ('the', 'DT', 'O'),\n",
              "  ('war', 'NN', 'O'),\n",
              "  ('in', 'IN', 'O'),\n",
              "  ('Iraq', 'NNP', 'B-geo'),\n",
              "  ('and', 'CC', 'O'),\n",
              "  ('demand', 'VB', 'O'),\n",
              "  ('the', 'DT', 'O'),\n",
              "  ('withdrawal', 'NN', 'O'),\n",
              "  ('of', 'IN', 'O'),\n",
              "  ('British', 'JJ', 'B-gpe'),\n",
              "  ('troops', 'NNS', 'O'),\n",
              "  ('from', 'IN', 'O'),\n",
              "  ('that', 'DT', 'O'),\n",
              "  ('country', 'NN', 'O'),\n",
              "  ('.', '.', 'O')],\n",
              " [('Iranian', 'JJ', 'B-gpe'),\n",
              "  ('officials', 'NNS', 'O'),\n",
              "  ('say', 'VBP', 'O'),\n",
              "  ('they', 'PRP', 'O'),\n",
              "  ('expect', 'VBP', 'O'),\n",
              "  ('to', 'TO', 'O'),\n",
              "  ('get', 'VB', 'O'),\n",
              "  ('access', 'NN', 'O'),\n",
              "  ('to', 'TO', 'O'),\n",
              "  ('sealed', 'JJ', 'O'),\n",
              "  ('sensitive', 'JJ', 'O'),\n",
              "  ('parts', 'NNS', 'O'),\n",
              "  ('of', 'IN', 'O'),\n",
              "  ('the', 'DT', 'O'),\n",
              "  ('plant', 'NN', 'O'),\n",
              "  ('Wednesday', 'NNP', 'B-tim'),\n",
              "  (',', ',', 'O'),\n",
              "  ('after', 'IN', 'O'),\n",
              "  ('an', 'DT', 'O'),\n",
              "  ('IAEA', 'NNP', 'B-org'),\n",
              "  ('surveillance', 'NN', 'O'),\n",
              "  ('system', 'NN', 'O'),\n",
              "  ('begins', 'VBZ', 'O'),\n",
              "  ('functioning', 'VBG', 'O'),\n",
              "  ('.', '.', 'O')],\n",
              " [('Helicopter', 'NN', 'O'),\n",
              "  ('gunships', 'NNS', 'O'),\n",
              "  ('Saturday', 'NNP', 'B-tim'),\n",
              "  ('pounded', 'VBD', 'O'),\n",
              "  ('militant', 'JJ', 'O'),\n",
              "  ('hideouts', 'NNS', 'O'),\n",
              "  ('in', 'IN', 'O'),\n",
              "  ('the', 'DT', 'O'),\n",
              "  ('Orakzai', 'NNP', 'B-geo'),\n",
              "  ('tribal', 'JJ', 'O'),\n",
              "  ('region', 'NN', 'O'),\n",
              "  (',', ',', 'O'),\n",
              "  ('where', 'WRB', 'O'),\n",
              "  ('many', 'JJ', 'O'),\n",
              "  ('Taliban', 'NNP', 'B-org'),\n",
              "  ('militants', 'NNS', 'O'),\n",
              "  ('are', 'VBP', 'O'),\n",
              "  ('believed', 'VBN', 'O'),\n",
              "  ('to', 'TO', 'O'),\n",
              "  ('have', 'VB', 'O'),\n",
              "  ('fled', 'VBN', 'O'),\n",
              "  ('to', 'TO', 'O'),\n",
              "  ('avoid', 'VB', 'O'),\n",
              "  ('an', 'DT', 'O'),\n",
              "  ('earlier', 'JJR', 'O'),\n",
              "  ('military', 'JJ', 'O'),\n",
              "  ('offensive', 'NN', 'O'),\n",
              "  ('in', 'IN', 'O'),\n",
              "  ('nearby', 'JJ', 'O'),\n",
              "  ('South', 'NNP', 'B-geo'),\n",
              "  ('Waziristan', 'NNP', 'I-geo'),\n",
              "  ('.', '.', 'O')],\n",
              " [('They', 'PRP', 'O'),\n",
              "  ('left', 'VBD', 'O'),\n",
              "  ('after', 'IN', 'O'),\n",
              "  ('a', 'DT', 'O'),\n",
              "  ('tense', 'NN', 'O'),\n",
              "  ('hour-long', 'JJ', 'O'),\n",
              "  ('standoff', 'NN', 'O'),\n",
              "  ('with', 'IN', 'O'),\n",
              "  ('riot', 'NN', 'O'),\n",
              "  ('police', 'NNS', 'O'),\n",
              "  ('.', '.', 'O')],\n",
              " [('U.N.', 'NNP', 'B-geo'),\n",
              "  ('relief', 'NN', 'O'),\n",
              "  ('coordinator', 'NN', 'O'),\n",
              "  ('Jan', 'NNP', 'B-per'),\n",
              "  ('Egeland', 'NNP', 'I-per'),\n",
              "  ('said', 'VBD', 'O'),\n",
              "  ('Sunday', 'NNP', 'B-tim'),\n",
              "  (',', ',', 'O'),\n",
              "  ('U.S.', 'NNP', 'B-geo'),\n",
              "  (',', ',', 'O'),\n",
              "  ('Indonesian', 'JJ', 'B-gpe'),\n",
              "  ('and', 'CC', 'O'),\n",
              "  ('Australian', 'JJ', 'B-gpe'),\n",
              "  ('military', 'JJ', 'O'),\n",
              "  ('helicopters', 'NNS', 'O'),\n",
              "  ('are', 'VBP', 'O'),\n",
              "  ('ferrying', 'VBG', 'O'),\n",
              "  ('out', 'RP', 'O'),\n",
              "  ('food', 'NN', 'O'),\n",
              "  ('and', 'CC', 'O'),\n",
              "  ('supplies', 'NNS', 'O'),\n",
              "  ('to', 'TO', 'O'),\n",
              "  ('remote', 'VB', 'O'),\n",
              "  ('areas', 'NNS', 'O'),\n",
              "  ('of', 'IN', 'O'),\n",
              "  ('western', 'JJ', 'O'),\n",
              "  ('Aceh', 'NNP', 'B-geo'),\n",
              "  ('province', 'NN', 'O'),\n",
              "  ('that', 'IN', 'O'),\n",
              "  ('ground', 'NN', 'O'),\n",
              "  ('crews', 'NNS', 'O'),\n",
              "  ('can', 'MD', 'O'),\n",
              "  ('not', 'RB', 'O'),\n",
              "  ('reach', 'VB', 'O'),\n",
              "  ('.', '.', 'O')],\n",
              " [('Mr.', 'NNP', 'B-per'),\n",
              "  ('Egeland', 'NNP', 'I-per'),\n",
              "  ('said', 'VBD', 'O'),\n",
              "  ('the', 'DT', 'O'),\n",
              "  ('latest', 'JJS', 'O'),\n",
              "  ('figures', 'NNS', 'O'),\n",
              "  ('show', 'VBP', 'O'),\n",
              "  ('1.8', 'CD', 'O'),\n",
              "  ('million', 'CD', 'O'),\n",
              "  ('people', 'NNS', 'O'),\n",
              "  ('are', 'VBP', 'O'),\n",
              "  ('in', 'IN', 'O'),\n",
              "  ('need', 'NN', 'O'),\n",
              "  ('of', 'IN', 'O'),\n",
              "  ('food', 'NN', 'O'),\n",
              "  ('assistance', 'NN', 'O'),\n",
              "  ('-', ':', 'O'),\n",
              "  ('with', 'IN', 'O'),\n",
              "  ('the', 'DT', 'O'),\n",
              "  ('need', 'NN', 'O'),\n",
              "  ('greatest', 'JJS', 'O'),\n",
              "  ('in', 'IN', 'O'),\n",
              "  ('Indonesia', 'NNP', 'B-tim'),\n",
              "  (',', ',', 'O'),\n",
              "  ('Sri', 'NNP', 'B-per'),\n",
              "  ('Lanka', 'NNP', 'B-gpe'),\n",
              "  (',', ',', 'O'),\n",
              "  ('the', 'DT', 'O'),\n",
              "  ('Maldives', 'NNP', 'B-geo'),\n",
              "  ('and', 'CC', 'O'),\n",
              "  ('India', 'NNP', 'B-geo'),\n",
              "  ('.', '.', 'O')],\n",
              " [('He', 'PRP', 'O'),\n",
              "  ('said', 'VBD', 'O'),\n",
              "  ('last', 'JJ', 'O'),\n",
              "  ('week', 'NN', 'O'),\n",
              "  (\"'s\", 'POS', 'O'),\n",
              "  ('tsunami', 'NN', 'O'),\n",
              "  ('and', 'CC', 'O'),\n",
              "  ('the', 'DT', 'O'),\n",
              "  ('massive', 'JJ', 'O'),\n",
              "  ('underwater', 'NN', 'O'),\n",
              "  ('earthquake', 'NN', 'O'),\n",
              "  ('that', 'WDT', 'O'),\n",
              "  ('triggered', 'VBD', 'O'),\n",
              "  ('it', 'PRP', 'O'),\n",
              "  ('has', 'VBZ', 'O'),\n",
              "  ('affected', 'VBN', 'O'),\n",
              "  ('millions', 'NNS', 'O'),\n",
              "  ('in', 'IN', 'O'),\n",
              "  ('Asia', 'NNP', 'B-geo'),\n",
              "  ('and', 'CC', 'O'),\n",
              "  ('Africa', 'NNP', 'B-geo'),\n",
              "  ('.', '.', 'O')],\n",
              " [('Some', 'DT', 'O'),\n",
              "  ('1,27,000', 'CD', 'O'),\n",
              "  ('people', 'NNS', 'O'),\n",
              "  ('are', 'VBP', 'O'),\n",
              "  ('known', 'VBN', 'O'),\n",
              "  ('dead', 'JJ', 'O'),\n",
              "  ('.', '.', 'O')],\n",
              " [('Aid', 'NNP', 'O'),\n",
              "  ('is', 'VBZ', 'O'),\n",
              "  ('being', 'VBG', 'O'),\n",
              "  ('rushed', 'VBN', 'O'),\n",
              "  ('to', 'TO', 'O'),\n",
              "  ('the', 'DT', 'O'),\n",
              "  ('region', 'NN', 'O'),\n",
              "  (',', ',', 'O'),\n",
              "  ('but', 'CC', 'O'),\n",
              "  ('the', 'DT', 'O'),\n",
              "  ('U.N.', 'NNP', 'B-geo'),\n",
              "  ('official', 'NN', 'O'),\n",
              "  ('stressed', 'VBD', 'O'),\n",
              "  ('that', 'IN', 'O'),\n",
              "  ('bottlenecks', 'NNS', 'O'),\n",
              "  ('and', 'CC', 'O'),\n",
              "  ('a', 'DT', 'O'),\n",
              "  ('lack', 'NN', 'O'),\n",
              "  ('of', 'IN', 'O'),\n",
              "  ('infrastructure', 'NN', 'O'),\n",
              "  ('remain', 'VBP', 'O'),\n",
              "  ('a', 'DT', 'O'),\n",
              "  ('challenge', 'NN', 'O'),\n",
              "  ('.', '.', 'O')],\n",
              " [('Lebanese', 'JJ', 'B-gpe'),\n",
              "  ('politicians', 'NNS', 'O'),\n",
              "  ('are', 'VBP', 'O'),\n",
              "  ('condemning', 'VBG', 'O'),\n",
              "  ('Friday', 'NNP', 'B-tim'),\n",
              "  (\"'s\", 'POS', 'O'),\n",
              "  ('bomb', 'NN', 'O'),\n",
              "  ('blast', 'NN', 'O'),\n",
              "  ('in', 'IN', 'O'),\n",
              "  ('a', 'DT', 'O'),\n",
              "  ('Christian', 'JJ', 'O'),\n",
              "  ('neighborhood', 'NN', 'O'),\n",
              "  ('of', 'IN', 'O'),\n",
              "  ('Beirut', 'NNP', 'B-geo'),\n",
              "  ('as', 'IN', 'O'),\n",
              "  ('an', 'DT', 'O'),\n",
              "  ('attempt', 'NN', 'O'),\n",
              "  ('to', 'TO', 'O'),\n",
              "  ('sow', 'VB', 'O'),\n",
              "  ('sectarian', 'JJ', 'O'),\n",
              "  ('strife', 'NN', 'O'),\n",
              "  ('in', 'IN', 'O'),\n",
              "  ('the', 'DT', 'O'),\n",
              "  ('formerly', 'RB', 'O'),\n",
              "  ('war-torn', 'JJ', 'O'),\n",
              "  ('country', 'NN', 'O'),\n",
              "  ('.', '.', 'O')]]"
            ]
          },
          "metadata": {
            "tags": []
          },
          "execution_count": 52
        }
      ]
    },
    {
      "cell_type": "code",
      "metadata": {
        "id": "cilciQJBLEEK",
        "colab_type": "code",
        "colab": {}
      },
      "source": [
        "max_len = 75\n",
        "max_len_char = 10"
      ],
      "execution_count": 0,
      "outputs": []
    },
    {
      "cell_type": "code",
      "metadata": {
        "id": "XhbP0KejLhnh",
        "colab_type": "code",
        "colab": {}
      },
      "source": [
        "word2idx = {w: i + 2 for i, w in enumerate(words)}\n",
        "word2idx[\"UNK\"] = 1\n",
        "word2idx[\"PAD\"] = 0\n",
        "idx2word = {i: w for w, i in word2idx.items()}\n",
        "tag2idx = {t: i + 1 for i, t in enumerate(tags)}\n",
        "tag2idx[\"PAD\"] = 0\n",
        "idx2tag = {i: w for w, i in tag2idx.items()}"
      ],
      "execution_count": 0,
      "outputs": []
    },
    {
      "cell_type": "code",
      "metadata": {
        "id": "1zL-v0hyTY5W",
        "colab_type": "code",
        "outputId": "793db754-c069-45d7-b474-5a4739369dff",
        "colab": {
          "base_uri": "https://localhost:8080/",
          "height": 52
        }
      },
      "source": [
        "print(word2idx[\"Obama\"])\n",
        "print(tag2idx[\"B-geo\"])"
      ],
      "execution_count": 0,
      "outputs": [
        {
          "output_type": "stream",
          "text": [
            "4936\n",
            "11\n"
          ],
          "name": "stdout"
        }
      ]
    },
    {
      "cell_type": "code",
      "metadata": {
        "id": "En0Ap81uTbtu",
        "colab_type": "code",
        "colab": {}
      },
      "source": [
        "from keras.preprocessing.sequence import pad_sequences\n",
        "X_word = [[word2idx[w[0]] for w in s] for s in sentences]"
      ],
      "execution_count": 0,
      "outputs": []
    },
    {
      "cell_type": "code",
      "metadata": {
        "id": "KdV0y3MyTuns",
        "colab_type": "code",
        "colab": {}
      },
      "source": [
        "X_word = pad_sequences(maxlen=max_len, sequences=X_word, value=word2idx[\"PAD\"], padding='post', truncating='post')"
      ],
      "execution_count": 0,
      "outputs": []
    },
    {
      "cell_type": "code",
      "metadata": {
        "id": "WM_QEJQPT0Gr",
        "colab_type": "code",
        "outputId": "23f67a1c-3e8f-4ab7-bffa-59e70ddf918d",
        "colab": {
          "base_uri": "https://localhost:8080/",
          "height": 35
        }
      },
      "source": [
        "chars = set([w_i for w in words for w_i in w])\n",
        "n_chars = len(chars)\n",
        "print(n_chars)"
      ],
      "execution_count": 0,
      "outputs": [
        {
          "output_type": "stream",
          "text": [
            "98\n"
          ],
          "name": "stdout"
        }
      ]
    },
    {
      "cell_type": "code",
      "metadata": {
        "id": "-4PuTAFdU5hG",
        "colab_type": "code",
        "colab": {}
      },
      "source": [
        "char2idx = {c: i + 2 for i, c in enumerate(chars)}\n",
        "\n",
        "char2idx[\"UNK\"] = 1\n",
        "char2idx[\"PAD\"] = 0\n",
        "  "
      ],
      "execution_count": 0,
      "outputs": []
    },
    {
      "cell_type": "code",
      "metadata": {
        "id": "bS3G4dd5VXKD",
        "colab_type": "code",
        "colab": {}
      },
      "source": [
        "X_char = []\n",
        "for sentence in sentences:\n",
        "    sent_seq = []\n",
        "    for i in range(max_len):#max_len=75\n",
        "        word_seq = []\n",
        "        for j in range(max_len_char):#max_len_char=10\n",
        "            try:\n",
        "                word_seq.append(char2idx.get(sentence[i][0][j]))\n",
        "            except:\n",
        "                word_seq.append(char2idx.get(\"PAD\"))\n",
        "        sent_seq.append(word_seq)\n",
        "    X_char.append(np.array(sent_seq))"
      ],
      "execution_count": 0,
      "outputs": []
    },
    {
      "cell_type": "code",
      "metadata": {
        "id": "b18g55W1c1KV",
        "colab_type": "code",
        "colab": {}
      },
      "source": [
        "char2idx.get(sentences[2][0][1])"
      ],
      "execution_count": 0,
      "outputs": []
    },
    {
      "cell_type": "code",
      "metadata": {
        "id": "L5DurVzsc_WE",
        "colab_type": "code",
        "outputId": "3dbfc26b-f6aa-4989-df1f-f563b963ed8e",
        "colab": {
          "base_uri": "https://localhost:8080/",
          "height": 35
        }
      },
      "source": [
        "\n",
        "sentences[2][0][1]"
      ],
      "execution_count": 0,
      "outputs": [
        {
          "output_type": "execute_result",
          "data": {
            "text/plain": [
              "'NN'"
            ]
          },
          "metadata": {
            "tags": []
          },
          "execution_count": 62
        }
      ]
    },
    {
      "cell_type": "code",
      "metadata": {
        "id": "90V8JTZDfLZp",
        "colab_type": "code",
        "colab": {}
      },
      "source": [
        "y = [[tag2idx[w[2]] for w in s] for s in sentences]"
      ],
      "execution_count": 0,
      "outputs": []
    },
    {
      "cell_type": "code",
      "metadata": {
        "id": "7k0mc9ECfU-Q",
        "colab_type": "code",
        "colab": {}
      },
      "source": [
        "x=[]\n",
        "for s in sentences:\n",
        "  for w in s:\n",
        "    x.append(tag2idx[w[2]])"
      ],
      "execution_count": 0,
      "outputs": []
    },
    {
      "cell_type": "code",
      "metadata": {
        "id": "RMKVVXYggCcZ",
        "colab_type": "code",
        "colab": {}
      },
      "source": [
        "\n"
      ],
      "execution_count": 0,
      "outputs": []
    },
    {
      "cell_type": "code",
      "metadata": {
        "id": "Wckf-d3yhKRr",
        "colab_type": "code",
        "colab": {}
      },
      "source": [
        "y = pad_sequences(maxlen=max_len, sequences=y, value=tag2idx[\"PAD\"], padding='post', truncating='post')"
      ],
      "execution_count": 0,
      "outputs": []
    },
    {
      "cell_type": "code",
      "metadata": {
        "id": "2a-5KRGBhXIv",
        "colab_type": "code",
        "colab": {}
      },
      "source": [
        "from sklearn.model_selection import train_test_split"
      ],
      "execution_count": 0,
      "outputs": []
    },
    {
      "cell_type": "code",
      "metadata": {
        "id": "TnXCHAnLhexJ",
        "colab_type": "code",
        "colab": {}
      },
      "source": [
        "\n",
        "X_word_tr, X_word_te, y_tr, y_te = train_test_split(X_word, y, test_size=0.1, random_state=2018)\n",
        "X_char_tr, X_char_te, _, _ = train_test_split(X_char, y, test_size=0.1, random_state=2018)"
      ],
      "execution_count": 0,
      "outputs": []
    },
    {
      "cell_type": "code",
      "metadata": {
        "id": "etkJMo-MhnYP",
        "colab_type": "code",
        "colab": {}
      },
      "source": [
        "from keras.models import Model, Input\n",
        "from keras.layers import LSTM, Embedding, Dense, TimeDistributed, Dropout, Conv1D\n",
        "from keras.layers import Bidirectional, concatenate, SpatialDropout1D, GlobalMaxPooling1D"
      ],
      "execution_count": 0,
      "outputs": []
    },
    {
      "cell_type": "code",
      "metadata": {
        "id": "qrkKgAwKh1qv",
        "colab_type": "code",
        "colab": {}
      },
      "source": [
        "# input and embedding for words\n",
        "word_in = Input(shape=(max_len,))\n",
        "emb_word = Embedding(input_dim=n_words + 2, output_dim=20,\n",
        "                     input_length=max_len, mask_zero=True)(word_in)\n",
        "\n",
        "#input dim=35178, output dim= 20 , param= ip*op"
      ],
      "execution_count": 0,
      "outputs": []
    },
    {
      "cell_type": "code",
      "metadata": {
        "id": "lvvjkieyj6s8",
        "colab_type": "code",
        "colab": {}
      },
      "source": [
        "# input and embeddings for characters\n",
        "char_in = Input(shape=(max_len, max_len_char,))\n",
        "emb_char = TimeDistributed(Embedding(input_dim=n_chars + 2, output_dim=10,\n",
        "                           input_length=max_len_char, mask_zero=True))(char_in)\n",
        "#ip=  98+2,op=10,param=ip*op"
      ],
      "execution_count": 0,
      "outputs": []
    },
    {
      "cell_type": "code",
      "metadata": {
        "id": "ubs8WyMXj820",
        "colab_type": "code",
        "colab": {}
      },
      "source": [
        "# character LSTM to get word encodings by characters\n",
        "char_enc = TimeDistributed(LSTM(units=20, return_sequences=False,\n",
        "                                recurrent_dropout=0.5))(emb_char)\n",
        "\n",
        "#ip= 10,op=20 ,param= 4*(ip*op +(op)^2)"
      ],
      "execution_count": 0,
      "outputs": []
    },
    {
      "cell_type": "code",
      "metadata": {
        "id": "5DxCezB1j-uv",
        "colab_type": "code",
        "colab": {}
      },
      "source": [
        "# main LSTM\n",
        "x = concatenate([emb_word, char_enc])\n",
        "x = SpatialDropout1D(0.3)(x)\n",
        "main_lstm = Bidirectional(LSTM(units=50, return_sequences=True,\n",
        "                               recurrent_dropout=0.6))(x)\n",
        "#ip=20 op=50 , param= 8*(ip*op +(op)^2)"
      ],
      "execution_count": 0,
      "outputs": []
    },
    {
      "cell_type": "code",
      "metadata": {
        "id": "aMSZwO3mkAoV",
        "colab_type": "code",
        "colab": {}
      },
      "source": [
        "#param=1818, ip=100,op=18,param= 100*18 +18\n",
        "\n",
        "out = TimeDistributed(Dense(n_tags + 1, activation=\"softmax\"))(main_lstm)\n",
        "\n",
        "model = Model([word_in, char_in], out)"
      ],
      "execution_count": 0,
      "outputs": []
    },
    {
      "cell_type": "code",
      "metadata": {
        "id": "dzdzU-iGkBd7",
        "colab_type": "code",
        "colab": {}
      },
      "source": [
        "model.compile(optimizer=\"adam\", loss=\"sparse_categorical_crossentropy\")"
      ],
      "execution_count": 0,
      "outputs": []
    },
    {
      "cell_type": "code",
      "metadata": {
        "id": "onNSF4D6kRa0",
        "colab_type": "code",
        "outputId": "4bc5ac80-2cd8-402e-8bbe-07d53d960d88",
        "colab": {
          "base_uri": "https://localhost:8080/",
          "height": 488
        }
      },
      "source": [
        "model.summary()"
      ],
      "execution_count": 111,
      "outputs": [
        {
          "output_type": "stream",
          "text": [
            "__________________________________________________________________________________________________\n",
            "Layer (type)                    Output Shape         Param #     Connected to                     \n",
            "==================================================================================================\n",
            "input_9 (InputLayer)            (None, 75, 10)       0                                            \n",
            "__________________________________________________________________________________________________\n",
            "input_8 (InputLayer)            (None, 75)           0                                            \n",
            "__________________________________________________________________________________________________\n",
            "time_distributed_13 (TimeDistri (None, 75, 10, 10)   1000        input_9[0][0]                    \n",
            "__________________________________________________________________________________________________\n",
            "embedding_8 (Embedding)         (None, 75, 20)       703600      input_8[0][0]                    \n",
            "__________________________________________________________________________________________________\n",
            "time_distributed_14 (TimeDistri (None, 75, 20)       2480        time_distributed_13[0][0]        \n",
            "__________________________________________________________________________________________________\n",
            "concatenate_5 (Concatenate)     (None, 75, 40)       0           embedding_8[0][0]                \n",
            "                                                                 time_distributed_14[0][0]        \n",
            "__________________________________________________________________________________________________\n",
            "spatial_dropout1d_5 (SpatialDro (None, 75, 40)       0           concatenate_5[0][0]              \n",
            "__________________________________________________________________________________________________\n",
            "bidirectional_5 (Bidirectional) (None, 75, 100)      36400       spatial_dropout1d_5[0][0]        \n",
            "__________________________________________________________________________________________________\n",
            "time_distributed_15 (TimeDistri (None, 75, 18)       1818        bidirectional_5[0][0]            \n",
            "==================================================================================================\n",
            "Total params: 745,298\n",
            "Trainable params: 745,298\n",
            "Non-trainable params: 0\n",
            "__________________________________________________________________________________________________\n"
          ],
          "name": "stdout"
        }
      ]
    },
    {
      "cell_type": "code",
      "metadata": {
        "id": "FFXz0Qz3kUA7",
        "colab_type": "code",
        "outputId": "f7a553c0-597b-4b4f-c9d1-417be795ea77",
        "colab": {
          "base_uri": "https://localhost:8080/",
          "height": 381
        }
      },
      "source": [
        "history = model.fit([X_word_tr,\n",
        "                     np.array(X_char_tr).reshape((len(X_char_tr), max_len, max_len_char))],\n",
        "                    np.array(y_tr).reshape(len(y_tr), max_len, 1),\n",
        "                    batch_size=32, epochs=10, validation_split=0.1, verbose=1)"
      ],
      "execution_count": 96,
      "outputs": [
        {
          "output_type": "stream",
          "text": [
            "Train on 38846 samples, validate on 4317 samples\n",
            "Epoch 1/10\n",
            "38846/38846 [==============================] - 285s 7ms/step - loss: 0.4336 - val_loss: 0.1847\n",
            "Epoch 2/10\n",
            "38846/38846 [==============================] - 274s 7ms/step - loss: 0.1540 - val_loss: 0.1291\n",
            "Epoch 3/10\n",
            "38846/38846 [==============================] - 273s 7ms/step - loss: 0.1156 - val_loss: 0.1118\n",
            "Epoch 4/10\n",
            "38846/38846 [==============================] - 271s 7ms/step - loss: 0.0986 - val_loss: 0.1058\n",
            "Epoch 5/10\n",
            "38846/38846 [==============================] - 276s 7ms/step - loss: 0.0887 - val_loss: 0.1027\n",
            "Epoch 6/10\n",
            "38846/38846 [==============================] - 274s 7ms/step - loss: 0.0820 - val_loss: 0.1010\n",
            "Epoch 7/10\n",
            "38846/38846 [==============================] - 265s 7ms/step - loss: 0.0769 - val_loss: 0.1000\n",
            "Epoch 8/10\n",
            "38846/38846 [==============================] - 266s 7ms/step - loss: 0.0727 - val_loss: 0.0985\n",
            "Epoch 9/10\n",
            "38846/38846 [==============================] - 264s 7ms/step - loss: 0.0693 - val_loss: 0.0997\n",
            "Epoch 10/10\n",
            "38846/38846 [==============================] - 259s 7ms/step - loss: 0.0667 - val_loss: 0.1018\n"
          ],
          "name": "stdout"
        }
      ]
    },
    {
      "cell_type": "code",
      "metadata": {
        "id": "YJD7DTNqDGSw",
        "colab_type": "code",
        "colab": {}
      },
      "source": [
        ""
      ],
      "execution_count": 0,
      "outputs": []
    },
    {
      "cell_type": "code",
      "metadata": {
        "id": "AtRPyGPmmZIz",
        "colab_type": "code",
        "colab": {}
      },
      "source": [
        "hist = pd.DataFrame(history.history)"
      ],
      "execution_count": 0,
      "outputs": []
    },
    {
      "cell_type": "code",
      "metadata": {
        "id": "i8DGErpUi9Qt",
        "colab_type": "code",
        "colab": {}
      },
      "source": [
        "model.save('new.h5')"
      ],
      "execution_count": 0,
      "outputs": []
    },
    {
      "cell_type": "code",
      "metadata": {
        "id": "1ZPHshuTB4I_",
        "colab_type": "code",
        "colab": {}
      },
      "source": [
        ""
      ],
      "execution_count": 0,
      "outputs": []
    },
    {
      "cell_type": "code",
      "metadata": {
        "id": "BX64VL80jGrN",
        "colab_type": "code",
        "colab": {}
      },
      "source": [
        ""
      ],
      "execution_count": 0,
      "outputs": []
    },
    {
      "cell_type": "code",
      "metadata": {
        "id": "lZLb8KIj5PRv",
        "colab_type": "code",
        "colab": {
          "base_uri": "https://localhost:8080/",
          "height": 399
        },
        "outputId": "b0804229-3560-49c1-c71d-f9c895ca3801"
      },
      "source": [
        "i = 1923\n",
        "p = np.argmax(y_pred[i], axis=-1)\n",
        "print(\"{:15}||{:5}||{}\".format(\"Word\", \"True\", \"Pred\"))\n",
        "print(30 * \"=\")\n",
        "for w, t, pred in zip(X_word_te[i], y_te[i], p):\n",
        "    if w != 0:\n",
        "        print(\"{:15}: {:5} {}\".format(idx2word[w], idx2tag[t], idx2tag[pred]))"
      ],
      "execution_count": 115,
      "outputs": [
        {
          "output_type": "stream",
          "text": [
            "Word           ||True ||Pred\n",
            "==============================\n",
            "North          : B-geo B-geo\n",
            "Korea          : I-geo I-geo\n",
            "'s             : O     O\n",
            "nuclear        : O     O\n",
            "weapons        : O     O\n",
            "program        : O     O\n",
            "will           : O     O\n",
            "be             : O     O\n",
            "the            : O     O\n",
            "focus          : O     O\n",
            "of             : O     O\n",
            "her            : O     O\n",
            "meetings       : O     O\n",
            "in             : O     O\n",
            "Tokyo          : B-geo B-geo\n",
            ",              : O     O\n",
            "Seoul          : B-geo B-geo\n",
            "and            : O     O\n",
            "Beijing        : B-geo B-geo\n",
            ".              : O     O\n"
          ],
          "name": "stdout"
        }
      ]
    },
    {
      "cell_type": "code",
      "metadata": {
        "id": "_HPiK_DXDDm0",
        "colab_type": "code",
        "colab": {
          "base_uri": "https://localhost:8080/",
          "height": 35
        },
        "outputId": "12972d92-fda0-4442-e425-85f9bb448b04"
      },
      "source": [
        "!git remote add origin https://github.com/mansi1189/Natural-Language-Processing.git"
      ],
      "execution_count": 116,
      "outputs": [
        {
          "output_type": "stream",
          "text": [
            "fatal: not a git repository (or any of the parent directories): .git\n"
          ],
          "name": "stdout"
        }
      ]
    },
    {
      "cell_type": "code",
      "metadata": {
        "id": "qtqG46pF5SeR",
        "colab_type": "code",
        "colab": {
          "base_uri": "https://localhost:8080/",
          "height": 121
        },
        "outputId": "84f01753-441c-4ef5-8ad3-48acae51aab8"
      },
      "source": [
        "!echo \"# Natural-Language-Processing\" >> README.md\n",
        "!git init\n",
        "# !git add README.md\n",
        "!git commit -m \"first commit\"\n",
        "!git remote add origin https://github.com/mansi1189/Natural-Language-Processing.git\n",
        "!git push -u origin master"
      ],
      "execution_count": 119,
      "outputs": [
        {
          "output_type": "stream",
          "text": [
            "Reinitialized existing Git repository in /content/.git/\n",
            "[master (root-commit) 2899f12] first commit\n",
            " 1 file changed, 1 insertion(+)\n",
            " create mode 100644 README.md\n",
            "fatal: remote origin already exists.\n",
            "fatal: could not read Username for 'https://github.com': No such device or address\n"
          ],
          "name": "stdout"
        }
      ]
    },
    {
      "cell_type": "code",
      "metadata": {
        "id": "fA5dDuXqKXyx",
        "colab_type": "code",
        "colab": {}
      },
      "source": [
        "!git config --global user.email \"mansi.deolalikar@gmail.com\"\n",
        "!git config --global user.name \"Mansi Deolalikar\""
      ],
      "execution_count": 0,
      "outputs": []
    },
    {
      "cell_type": "code",
      "metadata": {
        "id": "u3llZwa_Kxux",
        "colab_type": "code",
        "colab": {}
      },
      "source": [
        "\"\""
      ],
      "execution_count": 0,
      "outputs": []
    }
  ]
}